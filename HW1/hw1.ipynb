{
 "cells": [
  {
   "cell_type": "code",
   "execution_count": 9,
   "metadata": {},
   "outputs": [
    {
     "name": "stderr",
     "output_type": "stream",
     "text": [
      "[nltk_data] Downloading package wordnet to\n",
      "[nltk_data]     /home/labstudent/nltk_data...\n",
      "[nltk_data]   Package wordnet is already up-to-date!\n",
      "[nltk_data] Downloading package punkt_tab to\n",
      "[nltk_data]     /home/labstudent/nltk_data...\n",
      "[nltk_data]   Package punkt_tab is already up-to-date!\n",
      "[nltk_data] Downloading package omw-1.4 to\n",
      "[nltk_data]     /home/labstudent/nltk_data...\n",
      "[nltk_data]   Package omw-1.4 is already up-to-date!\n"
     ]
    }
   ],
   "source": [
    "import requests\n",
    "from PIL import Image\n",
    "import torch\n",
    "from datasets import load_dataset\n",
    "import evaluate\n",
    "from transformers import BlipProcessor, BlipForConditionalGeneration\n",
    "\n",
    "# --- 1. Setup evaluation metrics ---\n",
    "bleu_metric = evaluate.load(\"bleu\")\n",
    "meteor_metric = evaluate.load(\"meteor\")\n",
    "rouge_metric = evaluate.load(\"rouge\")\n"
   ]
  },
  {
   "cell_type": "code",
   "execution_count": 22,
   "metadata": {},
   "outputs": [
    {
     "name": "stderr",
     "output_type": "stream",
     "text": [
      "[nltk_data] Downloading package wordnet to\n",
      "[nltk_data]     /home/labstudent/nltk_data...\n",
      "[nltk_data]   Package wordnet is already up-to-date!\n",
      "[nltk_data] Downloading package punkt_tab to\n",
      "[nltk_data]     /home/labstudent/nltk_data...\n",
      "[nltk_data]   Package punkt_tab is already up-to-date!\n",
      "[nltk_data] Downloading package omw-1.4 to\n",
      "[nltk_data]     /home/labstudent/nltk_data...\n",
      "[nltk_data]   Package omw-1.4 is already up-to-date!\n"
     ]
    },
    {
     "name": "stdout",
     "output_type": "stream",
     "text": [
      "BLEU score: 0.0\n",
      "METEOR score: {'meteor': np.float64(0.1179245283018868)}\n",
      "ROUGE score: {'rouge1': np.float64(0.18181818181818182), 'rouge2': np.float64(0.1), 'rougeL': np.float64(0.18181818181818182), 'rougeLsum': np.float64(0.18181818181818182)}\n"
     ]
    }
   ],
   "source": [
    "from evaluate import load\n",
    "\n",
    "bleu = load(\"bleu\")\n",
    "meteor = load(\"meteor\")\n",
    "rouge = load(\"rouge\")\n",
    "\n",
    "# 生成的 caption\n",
    "prediction = [\"a man standing in the grass\"]\n",
    "\n",
    "# 參考 caption（多個給 BLEU，用一個給 METEOR 和 ROUGE）\n",
    "references_bleu = [[\"Two young guys with shaggy hair look at their hands while hanging out in the yard.\"]]\n",
    "references_single = [\"Two young guys with shaggy hair look at their hands while hanging out in the yard.\"]\n",
    "\n",
    "# 計算 BLEU\n",
    "bleu_score = bleu.compute(predictions=prediction, references=references_bleu)\n",
    "print(f\"BLEU score: {bleu_score['bleu']}\")\n",
    "\n",
    "# 計算 METEOR\n",
    "meteor_score = meteor.compute(predictions=prediction, references=references_single)\n",
    "print(f\"METEOR score: {meteor_score}\")\n",
    "\n",
    "# 計算 ROUGE\n",
    "rouge_score = rouge.compute(predictions=prediction, references=references_single)\n",
    "print(f\"ROUGE score: {rouge_score}\")\n"
   ]
  },
  {
   "cell_type": "markdown",
   "metadata": {},
   "source": [
    "# BLIP+MSCOCO"
   ]
  },
  {
   "cell_type": "code",
   "execution_count": null,
   "metadata": {},
   "outputs": [
    {
     "name": "stderr",
     "output_type": "stream",
     "text": [
      "/home/labstudent/.local/lib/python3.10/site-packages/tqdm/auto.py:21: TqdmWarning: IProgress not found. Please update jupyter and ipywidgets. See https://ipywidgets.readthedocs.io/en/stable/user_install.html\n",
      "  from .autonotebook import tqdm as notebook_tqdm\n",
      "[nltk_data] Downloading package wordnet to\n",
      "[nltk_data]     /home/labstudent/nltk_data...\n",
      "[nltk_data]   Package wordnet is already up-to-date!\n",
      "[nltk_data] Downloading package punkt_tab to\n",
      "[nltk_data]     /home/labstudent/nltk_data...\n",
      "[nltk_data]   Package punkt_tab is already up-to-date!\n",
      "[nltk_data] Downloading package omw-1.4 to\n",
      "[nltk_data]     /home/labstudent/nltk_data...\n",
      "[nltk_data]   Package omw-1.4 is already up-to-date!\n",
      "Using a slow image processor as `use_fast` is unset and a slow processor was saved with this model. `use_fast=True` will be the default behavior in v4.50, even if the model was saved with a slow processor. This will result in minor differences in outputs. You'll still be able to use a slow processor with `use_fast=False`.\n"
     ]
    },
    {
     "name": "stdout",
     "output_type": "stream",
     "text": [
      "Dataset({\n",
      "    features: ['image', 'caption', 'sentids', 'imgid', 'split', 'cocoid', 'filename', 'filepath', 'tokens', 'sentid'],\n",
      "    num_rows: 5000\n",
      "})\n",
      "Processing images and generating captions...\n",
      "Processed 0 samples...\n",
      "Processed 1000 samples...\n",
      "Processed 2000 samples...\n",
      "Processed 3000 samples...\n",
      "Processed 4000 samples...\n",
      "\n",
      "--- Evaluation Metrics ---\n",
      "BLEU Score:   9.962681302824863e-05\n",
      "METEOR Score: 0.4206737619036443\n",
      "ROUGE Score:  {'rouge1': np.float64(0.5686198850075579), 'rouge2': np.float64(0.335045725052283), 'rougeL': np.float64(0.5392895455530919), 'rougeLsum': np.float64(0.539292615359741)}\n"
     ]
    }
   ],
   "source": [
    "\n",
    "# --- 2. Load BLIP model and processor ---\n",
    "processor = BlipProcessor.from_pretrained(\"Salesforce/blip-image-captioning-base\")\n",
    "model = BlipForConditionalGeneration.from_pretrained(\"Salesforce/blip-image-captioning-base\").to(\"cuda\")\n",
    "\n",
    "# --- 3. Load a subset of the MSCOCO dataset ---\n",
    "# Here we use the MSCOCO 5K test set for image-text retrieval.\n",
    "# (If you want a different split, adjust the dataset name or split accordingly.)\n",
    "mscocods = load_dataset(\"nlphuji/mscoco_2014_5k_test_image_text_retrieval\", split=\"test\")\n",
    "print(mscocods)\n",
    "\n",
    "# --- 4. Loop over the dataset to generate predictions ---\n",
    "predictions = []\n",
    "references = []\n",
    "\n",
    "print(\"Processing images and generating captions...\")\n",
    "\n",
    "for i, sample in enumerate(mscocods):\n",
    "    # Get image from the sample\n",
    "    image = sample[\"image\"]\n",
    "    \n",
    "    # Retrieve a reference caption.\n",
    "    # Some datasets store this under \"caption\" or \"captions\"; adjust if needed.\n",
    "    if \"caption\" in sample:\n",
    "        ref = sample[\"caption\"]\n",
    "    elif \"captions\" in sample:\n",
    "        # If multiple references are provided, we use the first one.\n",
    "        ref = sample[\"captions\"][0]\n",
    "    else:\n",
    "        ref = \"\"\n",
    "    references.append(ref)\n",
    "    \n",
    "    # Process the image for BLIP.\n",
    "    inputs = processor(image, return_tensors=\"pt\").to(\"cuda\")\n",
    "    \n",
    "    # Generate the caption.\n",
    "    with torch.no_grad():\n",
    "        out = model.generate(**inputs)\n",
    "    pred_caption = processor.decode(out[0], skip_special_tokens=True)\n",
    "    predictions.append(pred_caption)\n",
    "    \n",
    "    if i % 1000 == 0:\n",
    "        print(f\"Processed {i} samples...\")\n",
    "\n",
    "# --- 5. Compute evaluation metrics ---\n",
    "# BLEU expects each reference to be a list of one or more reference sentences.\n",
    "BLIP_MScoco_bleu_score = bleu_metric.compute(predictions=predictions, references=[[ref] for ref in references])[\"bleu\"]\n",
    "BLIP_MScoco_meteor_score = meteor_metric.compute(predictions=predictions, references=references)[\"meteor\"]\n",
    "BLIP_MScoco_rouge_score = rouge_metric.compute(predictions=predictions, references=references)\n",
    "\n",
    "print(\"\\n--- Evaluation Metrics ---\")\n",
    "print(\"BLEU Score:  \", BLIP_MScoco_bleu_score)\n",
    "print(\"METEOR Score:\", BLIP_MScoco_meteor_score)\n",
    "print(\"ROUGE Score: \", BLIP_MScoco_rouge_score)\n",
    "\n",
    "\n",
    "BLIP_MScoco_performance = [BLIP_MScoco_bleu_score, BLIP_MScoco_rouge_score['rouge1'], BLIP_MScoco_rouge_score['rouge2'], BLIP_MScoco_rouge_score['rougeL'], BLIP_MScoco_meteor_score]\n"
   ]
  },
  {
   "cell_type": "code",
   "execution_count": 13,
   "metadata": {},
   "outputs": [],
   "source": [
    "# save in csv\n",
    "import csv\n",
    "with open('BLIP_MScoco_performance.csv', mode='w') as file:\n",
    "    writer = csv.writer(file)\n",
    "    writer.writerow(['BLEU', 'ROUGE1', 'ROUGE2', 'ROUGEL', 'METEOR'])\n",
    "    writer.writerow([BLIP_MScoco_bleu_score, BLIP_MScoco_rouge_score['rouge1'], BLIP_MScoco_rouge_score['rouge2'], BLIP_MScoco_rouge_score['rougeL'], BLIP_MScoco_meteor_score]\n",
    ")"
   ]
  },
  {
   "cell_type": "markdown",
   "metadata": {},
   "source": [
    "# BLIP+FLICKR"
   ]
  },
  {
   "cell_type": "code",
   "execution_count": null,
   "metadata": {},
   "outputs": [
    {
     "name": "stdout",
     "output_type": "stream",
     "text": [
      "Dataset({\n",
      "    features: ['image', 'caption', 'sentids', 'split', 'img_id', 'filename'],\n",
      "    num_rows: 31014\n",
      "})\n",
      "Processing images and generating captions...\n",
      "Processed 0 samples...\n",
      "Processed 1000 samples...\n",
      "Processed 2000 samples...\n",
      "Processed 3000 samples...\n",
      "Processed 4000 samples...\n",
      "Processed 5000 samples...\n",
      "Processed 6000 samples...\n",
      "Processed 7000 samples...\n",
      "Processed 8000 samples...\n",
      "Processed 9000 samples...\n",
      "Processed 10000 samples...\n",
      "Processed 11000 samples...\n",
      "Processed 12000 samples...\n",
      "Processed 13000 samples...\n",
      "Processed 14000 samples...\n",
      "Processed 15000 samples...\n",
      "Processed 16000 samples...\n",
      "Processed 17000 samples...\n",
      "Processed 18000 samples...\n",
      "Processed 19000 samples...\n",
      "Processed 20000 samples...\n",
      "Processed 21000 samples...\n",
      "Processed 22000 samples...\n",
      "Processed 23000 samples...\n",
      "Processed 24000 samples...\n",
      "Processed 25000 samples...\n",
      "Processed 26000 samples...\n",
      "Processed 27000 samples...\n",
      "Processed 28000 samples...\n",
      "Processed 29000 samples...\n",
      "Processed 30000 samples...\n",
      "Processed 31000 samples...\n",
      "\n",
      "--- Evaluation Metrics ---\n",
      "BLEU Score:   2.8582939295509023e-06\n",
      "METEOR Score: 0.32324769450097773\n",
      "ROUGE Score:  {'rouge1': np.float64(0.47793822930472457), 'rouge2': np.float64(0.25259480834235093), 'rougeL': np.float64(0.4575007485074206), 'rougeLsum': np.float64(0.4575371139581943)}\n"
     ]
    }
   ],
   "source": [
    "import requests\n",
    "from PIL import Image\n",
    "import torch\n",
    "from datasets import load_dataset\n",
    "import evaluate\n",
    "from transformers import BlipProcessor, BlipForConditionalGeneration\n",
    "\n",
    "\n",
    "# --- 3. Load a subset of the MSCOCO dataset ---\n",
    "# Here we use the MSCOCO 5K test set for image-text retrieval.\n",
    "# (If you want a different split, adjust the dataset name or split accordingly.)\n",
    "flickrds = load_dataset(\"nlphuji/flickr30k\", split=\"test\")\n",
    "print(flickrds)\n",
    "\n",
    "# --- 4. Loop over the dataset to generate predictions ---\n",
    "predictions = []\n",
    "references = []\n",
    "\n",
    "print(\"Processing images and generating captions...\")\n",
    "\n",
    "for i, sample in enumerate(flickrds):\n",
    "    # Get image from the sample\n",
    "    image = sample[\"image\"]\n",
    "    \n",
    "    # Retrieve a reference caption.\n",
    "    # Some datasets store this under \"caption\" or \"captions\"; adjust if needed.\n",
    "    if \"caption\" in sample:\n",
    "        ref = sample[\"caption\"]\n",
    "    elif \"captions\" in sample:\n",
    "        # If multiple references are provided, we use the first one.\n",
    "        ref = sample[\"captions\"][0]\n",
    "    else:\n",
    "        ref = \"\"\n",
    "    references.append(ref)\n",
    "    \n",
    "    # Process the image for BLIP.\n",
    "    inputs = processor(image, return_tensors=\"pt\").to(\"cuda\")\n",
    "    \n",
    "    # Generate the caption.\n",
    "    with torch.no_grad():\n",
    "        out = model.generate(**inputs)\n",
    "    pred_caption = processor.decode(out[0], skip_special_tokens=True)\n",
    "    predictions.append(pred_caption)\n",
    "    \n",
    "    if i % 1000 == 0:\n",
    "        print(f\"Processed {i} samples...\")\n",
    "\n",
    "# --- 5. Compute evaluation metrics ---\n",
    "# BLEU expects each reference to be a list of one or more reference sentences.\n",
    "BLIP_flickr_bleu_score = bleu_metric.compute(predictions=predictions, references=[[ref] for ref in references])[\"bleu\"]\n",
    "BLIP_flickr_meteor_score = meteor_metric.compute(predictions=predictions, references=references)[\"meteor\"]\n",
    "BLIP_flickr_rouge_score = rouge_metric.compute(predictions=predictions, references=references)\n",
    "\n",
    "print(\"\\n--- Evaluation Metrics ---\")\n",
    "print(\"BLEU Score:  \", BLIP_flickr_bleu_score)\n",
    "print(\"METEOR Score:\", BLIP_flickr_meteor_score)\n",
    "print(\"ROUGE Score: \", BLIP_flickr_rouge_score)\n"
   ]
  },
  {
   "cell_type": "code",
   "execution_count": 14,
   "metadata": {},
   "outputs": [],
   "source": [
    "# save in csv\n",
    "import csv\n",
    "with open('BLIP_flickr_performance.csv', mode='w') as file:\n",
    "    writer = csv.writer(file)\n",
    "    writer.writerow(['BLEU', 'ROUGE1', 'ROUGE2', 'ROUGEL', 'METEOR'])\n",
    "    writer.writerow([BLIP_flickr_bleu_score, BLIP_flickr_rouge_score['rouge1'], BLIP_flickr_rouge_score['rouge2'], BLIP_flickr_rouge_score['rougeL'], BLIP_flickr_meteor_score])"
   ]
  },
  {
   "cell_type": "markdown",
   "metadata": {},
   "source": [
    "# Phi+MSCOCO"
   ]
  },
  {
   "cell_type": "code",
   "execution_count": 1,
   "metadata": {},
   "outputs": [
    {
     "name": "stderr",
     "output_type": "stream",
     "text": [
      "/home/labstudent/.local/lib/python3.10/site-packages/tqdm/auto.py:21: TqdmWarning: IProgress not found. Please update jupyter and ipywidgets. See https://ipywidgets.readthedocs.io/en/stable/user_install.html\n",
      "  from .autonotebook import tqdm as notebook_tqdm\n"
     ]
    },
    {
     "name": "stdout",
     "output_type": "stream",
     "text": [
      "Dataset({\n",
      "    features: ['image', 'caption', 'sentids', 'imgid', 'split', 'cocoid', 'filename', 'filepath', 'tokens', 'sentid'],\n",
      "    num_rows: 5000\n",
      "})\n"
     ]
    },
    {
     "name": "stderr",
     "output_type": "stream",
     "text": [
      "/home/labstudent/.local/lib/python3.10/site-packages/transformers/models/auto/image_processing_auto.py:590: FutureWarning: The image_processor_class argument is deprecated and will be removed in v4.42. Please use `slow_image_processor_class`, or `fast_image_processor_class` instead\n",
      "  warnings.warn(\n",
      "Using a slow image processor as `use_fast` is unset and a slow processor was saved with this model. `use_fast=True` will be the default behavior in v4.48, even if the model was saved with a slow processor. This will result in minor differences in outputs. You'll still be able to use a slow processor with `use_fast=False`.\n",
      "/home/labstudent/.cache/huggingface/modules/transformers_modules/microsoft/Phi-4-multimodal-instruct/49434512b7724a18ba0631ca296ed4dfbd9e29c9/speech_conformer_encoder.py:2774: FutureWarning: Please specify CheckpointImpl.NO_REENTRANT as CheckpointImpl.REENTRANT will soon be removed as the default and eventually deprecated.\n",
      "  lambda i: encoder_checkpoint_wrapper(\n",
      "Loading checkpoint shards: 100%|██████████| 3/3 [00:07<00:00,  2.57s/it]\n"
     ]
    },
    {
     "name": "stdout",
     "output_type": "stream",
     "text": [
      "Generating captions using Phi-4...\n"
     ]
    }
   ],
   "source": [
    "import torch\n",
    "from PIL import Image\n",
    "from datasets import load_dataset\n",
    "import evaluate\n",
    "from transformers import AutoModelForCausalLM, AutoProcessor, GenerationConfig\n",
    "\n",
    "mscocods = load_dataset(\"nlphuji/mscoco_2014_5k_test_image_text_retrieval\", split=\"test\")\n",
    "print(mscocods)\n",
    "\n",
    "# --- 2. Load Phi-4 multimodal model and processor ---\n",
    "model_id = \"microsoft/Phi-4-multimodal-instruct\"\n",
    "processor = AutoProcessor.from_pretrained(model_id, trust_remote_code=True)\n",
    "model = AutoModelForCausalLM.from_pretrained(\n",
    "    model_id,\n",
    "    trust_remote_code=True,\n",
    "    device_map=\"cuda\",\n",
    "    torch_dtype=\"auto\",\n",
    "    _attn_implementation=\"flash_attention_2\"\n",
    ").to(\"cuda\")\n",
    "\n",
    "# Set generation config\n",
    "generation_config = GenerationConfig.from_pretrained(model_id)\n",
    "generation_config.max_new_tokens = 100\n",
    "generation_config.num_logits_to_keep = 100\n",
    "generation_config.do_sample = False\n",
    "generation_config.temperature = 0.9\n",
    "\n",
    "# --- 3. Load MSCOCO dataset subset ---\n",
    "\n",
    "# --- 4. Generate predictions using Phi-4 ---\n",
    "user_prompt = \"<|user|>\"\n",
    "assistant_prompt = \"<|assistant|>\"\n",
    "prompt_suffix = \"<|end|>\"\n",
    "\n",
    "predictions = []\n",
    "references = []\n",
    "\n",
    "print(\"Generating captions using Phi-4...\")"
   ]
  },
  {
   "cell_type": "code",
   "execution_count": null,
   "metadata": {},
   "outputs": [
    {
     "name": "stderr",
     "output_type": "stream",
     "text": [
      "/home/labstudent/.local/lib/python3.10/site-packages/transformers/generation/configuration_utils.py:628: UserWarning: `do_sample` is set to `False`. However, `temperature` is set to `0.9` -- this flag is only used in sample-based generation modes. You should set `do_sample=True` or unset `temperature`.\n",
      "  warnings.warn(\n"
     ]
    },
    {
     "name": "stdout",
     "output_type": "stream",
     "text": [
      "Processed 0 samples...\n",
      "Processed 1000 samples...\n",
      "Processed 2000 samples...\n",
      "Processed 3000 samples...\n",
      "Processed 4000 samples...\n"
     ]
    },
    {
     "ename": "NameError",
     "evalue": "name 'bleu_metric' is not defined",
     "output_type": "error",
     "traceback": [
      "\u001b[0;31m---------------------------------------------------------------------------\u001b[0m",
      "\u001b[0;31mNameError\u001b[0m                                 Traceback (most recent call last)",
      "Cell \u001b[0;32mIn[2], line 29\u001b[0m\n\u001b[1;32m     26\u001b[0m         \u001b[38;5;28mprint\u001b[39m(\u001b[38;5;124mf\u001b[39m\u001b[38;5;124m\"\u001b[39m\u001b[38;5;124mProcessed \u001b[39m\u001b[38;5;132;01m{\u001b[39;00mi\u001b[38;5;132;01m}\u001b[39;00m\u001b[38;5;124m samples...\u001b[39m\u001b[38;5;124m\"\u001b[39m)\n\u001b[1;32m     28\u001b[0m \u001b[38;5;66;03m# --- 5. Evaluate metrics ---\u001b[39;00m\n\u001b[0;32m---> 29\u001b[0m Phi_MScoco_bleu_score \u001b[38;5;241m=\u001b[39m \u001b[43mbleu_metric\u001b[49m\u001b[38;5;241m.\u001b[39mcompute(predictions\u001b[38;5;241m=\u001b[39mpredictions, references\u001b[38;5;241m=\u001b[39m[[r] \u001b[38;5;28;01mfor\u001b[39;00m r \u001b[38;5;129;01min\u001b[39;00m references])[\u001b[38;5;124m\"\u001b[39m\u001b[38;5;124mbleu\u001b[39m\u001b[38;5;124m\"\u001b[39m]\n\u001b[1;32m     30\u001b[0m Phi_MScoco_meteor_score \u001b[38;5;241m=\u001b[39m meteor_metric\u001b[38;5;241m.\u001b[39mcompute(predictions\u001b[38;5;241m=\u001b[39mpredictions, references\u001b[38;5;241m=\u001b[39mreferences)[\u001b[38;5;124m\"\u001b[39m\u001b[38;5;124mmeteor\u001b[39m\u001b[38;5;124m\"\u001b[39m]\n\u001b[1;32m     31\u001b[0m Phi_MScoco_rouge_score \u001b[38;5;241m=\u001b[39m rouge_metric\u001b[38;5;241m.\u001b[39mcompute(predictions\u001b[38;5;241m=\u001b[39mpredictions, references\u001b[38;5;241m=\u001b[39mreferences)\n",
      "\u001b[0;31mNameError\u001b[0m: name 'bleu_metric' is not defined"
     ]
    }
   ],
   "source": [
    "for i, sample in enumerate(mscocods):\n",
    "    image = sample[\"image\"]\n",
    "    ref = sample.get(\"caption\", sample.get(\"captions\", [\"\"]))[0]\n",
    "    references.append(ref)\n",
    "\n",
    "    prompt = f\"{user_prompt}<|image_1|>What is shown in this image?{prompt_suffix}{assistant_prompt}\"\n",
    "    \n",
    "    # Prepare model input\n",
    "    inputs = processor(text=prompt, images=image, return_tensors=\"pt\").to(\"cuda\")\n",
    "\n",
    "    # Generate caption\n",
    "    with torch.no_grad():\n",
    "        outputs = model.generate(\n",
    "            **inputs,\n",
    "            num_logits_to_keep=generation_config.num_logits_to_keep,\n",
    "            max_new_tokens=generation_config.max_new_tokens,\n",
    "            generation_config=generation_config\n",
    "        )\n",
    "\n",
    "    # Remove the prompt tokens from output\n",
    "    outputs = outputs[:, inputs[\"input_ids\"].shape[1]:]\n",
    "    pred_caption = processor.batch_decode(outputs, skip_special_tokens=True)[0]\n",
    "    predictions.append(pred_caption)\n",
    "\n",
    "    if i % 1000 == 0:\n",
    "        print(f\"Processed {i} samples...\")\n",
    "  "
   ]
  },
  {
   "cell_type": "code",
   "execution_count": 4,
   "metadata": {},
   "outputs": [
    {
     "name": "stdout",
     "output_type": "stream",
     "text": [
      "\n",
      "--- Evaluation Metrics ---\n",
      "BLEU Score:   0.015116822778650583\n",
      "METEOR Score: 0.25142590642826346\n",
      "ROUGE-1:      0.17017456058708708\n",
      "ROUGE-2:      0.05879485946190327\n"
     ]
    }
   ],
   "source": [
    "      \n",
    "# --- 5. Evaluate metrics ---\n",
    "Phi_MScoco_bleu_score = bleu_metric.compute(predictions=predictions, references=[[r] for r in references])[\"bleu\"]\n",
    "Phi_MScoco_meteor_score = meteor_metric.compute(predictions=predictions, references=references)[\"meteor\"]\n",
    "Phi_MScoco_rouge_score = rouge_metric.compute(predictions=predictions, references=references)\n",
    "\n",
    "print(\"\\n--- Evaluation Metrics ---\")\n",
    "print(\"BLEU Score:  \", Phi_MScoco_bleu_score)\n",
    "print(\"METEOR Score:\", Phi_MScoco_meteor_score)\n",
    "print(\"ROUGE-1:     \", Phi_MScoco_rouge_score[\"rouge1\"])\n",
    "print(\"ROUGE-2:     \", Phi_MScoco_rouge_score[\"rouge2\"])\n",
    "\n",
    "Phi_MScoco_performance = [Phi_MScoco_bleu_score, Phi_MScoco_rouge_score['rouge1'], Phi_MScoco_rouge_score['rouge2'], Phi_MScoco_rouge_score['rougeL'], Phi_MScoco_meteor_score]\n"
   ]
  },
  {
   "cell_type": "code",
   "execution_count": 5,
   "metadata": {},
   "outputs": [],
   "source": [
    "# save in csv\n",
    "import csv\n",
    "\n",
    "with open('Phi_MScoco_performance.csv', mode='w') as file:\n",
    "    writer = csv.writer(file)\n",
    "    writer.writerow(['BLEU', 'ROUGE1', 'ROUGE2', 'ROUGEL', 'METEOR'])\n",
    "    writer.writerow([Phi_MScoco_bleu_score, Phi_MScoco_rouge_score['rouge1'], Phi_MScoco_rouge_score['rouge2'], Phi_MScoco_rouge_score['rougeL'], Phi_MScoco_meteor_score])"
   ]
  },
  {
   "cell_type": "markdown",
   "metadata": {},
   "source": [
    "# Phi+FLICKR"
   ]
  },
  {
   "cell_type": "code",
   "execution_count": 1,
   "metadata": {},
   "outputs": [
    {
     "name": "stderr",
     "output_type": "stream",
     "text": [
      "/home/labstudent/.local/lib/python3.10/site-packages/tqdm/auto.py:21: TqdmWarning: IProgress not found. Please update jupyter and ipywidgets. See https://ipywidgets.readthedocs.io/en/stable/user_install.html\n",
      "  from .autonotebook import tqdm as notebook_tqdm\n",
      "[nltk_data] Downloading package wordnet to\n",
      "[nltk_data]     /home/labstudent/nltk_data...\n",
      "[nltk_data]   Package wordnet is already up-to-date!\n",
      "[nltk_data] Downloading package punkt_tab to\n",
      "[nltk_data]     /home/labstudent/nltk_data...\n",
      "[nltk_data]   Package punkt_tab is already up-to-date!\n",
      "[nltk_data] Downloading package omw-1.4 to\n",
      "[nltk_data]     /home/labstudent/nltk_data...\n",
      "[nltk_data]   Package omw-1.4 is already up-to-date!\n",
      "/home/labstudent/.local/lib/python3.10/site-packages/transformers/models/auto/image_processing_auto.py:590: FutureWarning: The image_processor_class argument is deprecated and will be removed in v4.42. Please use `slow_image_processor_class`, or `fast_image_processor_class` instead\n",
      "  warnings.warn(\n",
      "Using a slow image processor as `use_fast` is unset and a slow processor was saved with this model. `use_fast=True` will be the default behavior in v4.48, even if the model was saved with a slow processor. This will result in minor differences in outputs. You'll still be able to use a slow processor with `use_fast=False`.\n",
      "/home/labstudent/.cache/huggingface/modules/transformers_modules/microsoft/Phi-4-multimodal-instruct/49434512b7724a18ba0631ca296ed4dfbd9e29c9/speech_conformer_encoder.py:2774: FutureWarning: Please specify CheckpointImpl.NO_REENTRANT as CheckpointImpl.REENTRANT will soon be removed as the default and eventually deprecated.\n",
      "  lambda i: encoder_checkpoint_wrapper(\n",
      "Loading checkpoint shards: 100%|██████████| 3/3 [00:38<00:00, 12.83s/it]\n",
      "Generating Captions: 100%|██████████| 1939/1939 [3:10:19<00:00,  5.89s/it]  \n"
     ]
    },
    {
     "name": "stdout",
     "output_type": "stream",
     "text": [
      "\n",
      "--- Evaluation Metrics ---\n",
      "BLEU Score:   0.0454\n",
      "METEOR Score: 0.2510\n",
      "ROUGE-1:      0.3284\n",
      "ROUGE-2:      0.0928\n",
      "ROUGE-L:      0.2567\n"
     ]
    }
   ],
   "source": [
    "import torch\n",
    "from datasets import load_dataset\n",
    "from transformers import AutoModelForCausalLM, AutoProcessor, GenerationConfig\n",
    "from torch.utils.data import DataLoader\n",
    "from tqdm.auto import tqdm\n",
    "import evaluate\n",
    "import os\n",
    "os.environ[\"TOKENIZERS_PARALLELISM\"] = \"false\"\n",
    "\n",
    "device = \"cuda\"\n",
    "\n",
    "# Load metrics\n",
    "bleu_metric = evaluate.load(\"bleu\")\n",
    "meteor_metric = evaluate.load(\"meteor\")\n",
    "rouge_metric = evaluate.load(\"rouge\")\n",
    "model_id = \"microsoft/Phi-4-multimodal-instruct\"\n",
    "\n",
    "processor = AutoProcessor.from_pretrained(model_id, trust_remote_code=True)\n",
    "model = AutoModelForCausalLM.from_pretrained(\n",
    "    model_id,\n",
    "    torch_dtype=torch.float16, \n",
    "    device_map=\"auto\",\n",
    "    trust_remote_code=True,\n",
    ").to(device)\n",
    "model.eval()\n",
    "\n",
    "generation_config = GenerationConfig(max_new_tokens=20)\n",
    "\n",
    "# Load dataset\n",
    "flickrds = load_dataset(\"nlphuji/flickr30k\", split=\"test\")\n",
    "\n",
    "# DataLoader for batching\n",
    "def collate_fn(samples):\n",
    "    images = [s[\"image\"] for s in samples]\n",
    "    refs = [s.get(\"caption\", s.get(\"captions\", [\"\"]))[0] for s in samples]\n",
    "    return images, refs\n",
    "\n",
    "batch_size = 16  # Adjust based on GPU memory\n",
    "dataloader = DataLoader(flickrds, batch_size=batch_size, collate_fn=collate_fn, num_workers=4)\n",
    "\n",
    "predictions, references = [], []\n",
    "\n",
    "prompt_template = \"<|user|><|image_1|>What is shown in this image?<|end|><|assistant|>\"\n",
    "\n",
    "with torch.no_grad():\n",
    "    for images, refs in tqdm(dataloader, desc=\"Generating Captions\"):\n",
    "        inputs = processor(\n",
    "            text=[prompt_template] * len(images), \n",
    "            images=images, \n",
    "            return_tensors=\"pt\", \n",
    "            padding=True\n",
    "        ).to(device)\n",
    "\n",
    "        outputs = model.generate(**inputs, generation_config=generation_config)\n",
    "\n",
    "        # Remove prompt tokens from output\n",
    "        outputs = outputs[:, inputs[\"input_ids\"].shape[1]:]\n",
    "        captions = processor.batch_decode(outputs, skip_special_tokens=True)\n",
    "\n",
    "        predictions.extend(captions)\n",
    "        references.extend(refs)\n",
    "\n",
    "# Evaluation\n",
    "bleu = bleu_metric.compute(predictions=predictions, references=[[r] for r in references])[\"bleu\"]\n",
    "meteor = meteor_metric.compute(predictions=predictions, references=references)[\"meteor\"]\n",
    "rouge = rouge_metric.compute(predictions=predictions, references=references)\n",
    "\n",
    "print(\"\\n--- Evaluation Metrics ---\")\n",
    "print(f\"BLEU Score:   {bleu:.4f}\")\n",
    "print(f\"METEOR Score: {meteor:.4f}\")\n",
    "print(f\"ROUGE-1:      {rouge['rouge1']:.4f}\")\n",
    "print(f\"ROUGE-2:      {rouge['rouge2']:.4f}\")\n",
    "print(f\"ROUGE-L:      {rouge['rougeL']:.4f}\")\n",
    "\n",
    "Phi_MScoco_performance = [bleu, rouge['rouge1'], rouge['rouge2'], rouge['rougeL'], meteor]\n"
   ]
  },
  {
   "cell_type": "code",
   "execution_count": 2,
   "metadata": {},
   "outputs": [],
   "source": [
    "# save in csv\n",
    "import csv\n",
    "\n",
    "with open('Phi_flickr_performance.csv', mode='w') as file:\n",
    "    writer = csv.writer(file)\n",
    "    writer.writerow(['BLEU', 'ROUGE1', 'ROUGE2', 'ROUGEL', 'METEOR'])\n",
    "    writer.writerow([bleu, rouge['rouge1'], rouge['rouge2'], rouge['rougeL'], meteor])"
   ]
  },
  {
   "cell_type": "code",
   "execution_count": 2,
   "metadata": {},
   "outputs": [
    {
     "data": {
      "image/png": "[encoded data removed]",
      "text/plain": [
       "<Figure size 1200x600 with 2 Axes>"
      ]
     },
     "metadata": {},
     "output_type": "display_data"
    }
   ],
   "source": [
    "import matplotlib.pyplot as plt\n",
    "import pandas as pd\n",
    "\n",
    "# Load the performance metrics\n",
    "blip_mscoco = pd.read_csv(\"BLIP_MScoco_performance.csv\")\n",
    "blip_flickr = pd.read_csv(\"BLIP_flickr_performance.csv\")\n",
    "phi_mscoco = pd.read_csv(\"Phi_MScoco_performance.csv\")\n",
    "phi_flickr = pd.read_csv(\"Phi_flickr_performance.csv\")\n",
    "\n",
    "# Extract values\n",
    "metrics = ['BLEU', 'ROUGE1', 'ROUGE2', 'METEOR']\n",
    "\n",
    "blip_mscoco_vals = blip_mscoco.loc[0, metrics].values\n",
    "phi_mscoco_vals = phi_mscoco.loc[0, metrics].values\n",
    "\n",
    "blip_flickr_vals = blip_flickr.loc[0, metrics].values\n",
    "phi_flickr_vals = phi_flickr.loc[0, metrics].values\n",
    "\n",
    "# Plot\n",
    "fig, ax = plt.subplots(1, 2, figsize=(12, 6))\n",
    "x = range(len(metrics))\n",
    "\n",
    "# MSCOCO\n",
    "ax[0].bar(x, blip_mscoco_vals, width=0.35, label='BLIP', align='center')\n",
    "ax[0].bar([i + 0.35 for i in x], phi_mscoco_vals, width=0.35, label='Phi-4', align='center')\n",
    "ax[0].set_title(\"MSCOCO Performance\")\n",
    "ax[0].set_xticks([i + 0.175 for i in x])\n",
    "ax[0].set_xticklabels(metrics)\n",
    "ax[0].legend()\n",
    "ax[0].set_ylim(0, max(blip_mscoco_vals.max(), phi_mscoco_vals.max()) * 1.2)\n",
    "\n",
    "# Flickr30k\n",
    "ax[1].bar(x, blip_flickr_vals, width=0.35, label='BLIP', align='center')\n",
    "ax[1].bar([i + 0.35 for i in x], phi_flickr_vals, width=0.35, label='Phi-4', align='center')\n",
    "ax[1].set_title(\"Flickr30k Performance\")\n",
    "ax[1].set_xticks([i + 0.175 for i in x])\n",
    "ax[1].set_xticklabels(metrics)\n",
    "ax[1].legend()\n",
    "ax[1].set_ylim(0, max(blip_flickr_vals.max(), phi_flickr_vals.max()) * 1.2)\n",
    "\n",
    "plt.tight_layout()\n",
    "plt.show()\n"
   ]
  }
 ],
 "metadata": {
  "kernelspec": {
   "display_name": "flashenv",
   "language": "python",
   "name": "python3"
  },
  "language_info": {
   "codemirror_mode": {
    "name": "ipython",
    "version": 3
   },
   "file_extension": ".py",
   "mimetype": "text/x-python",
   "name": "python",
   "nbconvert_exporter": "python",
   "pygments_lexer": "ipython3",
   "version": "3.10.16"
  }
 },
 "nbformat": 4,
 "nbformat_minor": 2
}
