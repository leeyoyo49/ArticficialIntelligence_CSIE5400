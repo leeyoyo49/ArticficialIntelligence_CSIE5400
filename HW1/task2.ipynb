{
 "cells": [
  {
   "cell_type": "markdown",
   "metadata": {},
   "source": [
    "# 2-1"
   ]
  },
  {
   "cell_type": "code",
   "execution_count": 5,
   "metadata": {},
   "outputs": [
    {
     "name": "stderr",
     "output_type": "stream",
     "text": [
      "Loading checkpoint shards: 100%|██████████| 3/3 [00:26<00:00,  8.79s/it]\n",
      "Loading checkpoint shards: 100%|██████████| 2/2 [00:06<00:00,  3.02s/it]\n",
      "Loading pipeline components...: 100%|██████████| 9/9 [00:08<00:00,  1.08it/s]\n"
     ]
    }
   ],
   "source": [
    "from transformers import AutoProcessor, AutoModelForVision2Seq, AutoModelForCausalLM, GenerationConfig\n",
    "from diffusers import DiffusionPipeline\n",
    "from PIL import Image\n",
    "import torch\n",
    "\n",
    "\n",
    "# Load Phi-4 Vision model\n",
    "model_id = \"microsoft/Phi-4-multimodal-instruct\"\n",
    "processor = AutoProcessor.from_pretrained(model_id, torch_dtype=torch.float16, trust_remote_code=True)\n",
    "phi_model = AutoModelForCausalLM.from_pretrained(\n",
    "    model_id,\n",
    "    trust_remote_code=True,\n",
    "    device_map=\"cuda\",\n",
    "    torch_dtype=\"auto\",\n",
    "    _attn_implementation=\"flash_attention_2\",\n",
    ").to(\"cuda\")\n",
    "\n",
    "# Load Stable Diffusion 3 Medium pipeline\n",
    "sd_model_name = \"stabilityai/stable-diffusion-3-medium-diffusers\"\n",
    "T2Ipipe = DiffusionPipeline.from_pretrained(\n",
    "    sd_model_name, torch_dtype=torch.float16\n",
    ").to(\"cuda\")\n",
    "\n",
    "user_prompt = \"<|user|>\"\n",
    "assistant_prompt = \"<|assistant|>\"\n",
    "prompt_suffix = \"<|end|>\"\n",
    "\n"
   ]
  },
  {
   "cell_type": "markdown",
   "metadata": {},
   "source": [
    "## Prompt 1"
   ]
  },
  {
   "cell_type": "code",
   "execution_count": null,
   "metadata": {},
   "outputs": [],
   "source": [
    "instruction = f\"{user_prompt}<|image_1|>Describe the person in the picture.{prompt_suffix}{assistant_prompt}\""
   ]
  },
  {
   "cell_type": "code",
   "execution_count": null,
   "metadata": {},
   "outputs": [],
   "source": [
    "instruction = f\"{user_prompt}<|image_1|>Analyze this image and describe the person in a compact but comprehensive way. Cover multiple aspects such as facial features, hairstyle, expression, clothing style, body posture, accessories, and overall impression. Keep each aspect brief, but include as many distinct features as possible.{prompt_suffix}{assistant_prompt}\""
   ]
  },
  {
   "cell_type": "markdown",
   "metadata": {},
   "source": [
    "## my photo"
   ]
  },
  {
   "cell_type": "code",
   "execution_count": 33,
   "metadata": {},
   "outputs": [
    {
     "name": "stdout",
     "output_type": "stream",
     "text": [
      "Analyze this image and describe the person in a compact but comprehensive way. Cover multiple aspects such as facial features, hairstyle, expression, clothing style, body posture, accessories, and overall impression. Keep each aspect brief, but include as many distinct features as possible in bullet points.- Facial Features: Medium complexion with fair skin\n",
      "- Hair: Short black hair styled neatly\n",
      "- Expression: Neutral/serious\n",
      "- Clothing Style: Grey t-shirt (casual)\n",
      "- Accessories\n",
      "Generated description: atures: Medium complexion with fair skin\n",
      "- Hair: Short black hair styled neatly\n",
      "- Expression: Neutral/serious\n",
      "- Clothing Style: Grey t-shirt (casual)\n",
      "- Accessories\n",
      "Generated Snoopy-style prompt: A Snoopy-style illustration by Charles M. Schulz of a person with following description:atures: Medium complexion with fair skin\n",
      "- Hair: Short black hair styled neatly\n",
      "- Expression: Neutral/serious\n",
      "- Clothing Style: Grey t-shirt (casual)\n",
      "- Accessories. in classic Peanuts comic aesthetics. \n"
     ]
    },
    {
     "name": "stderr",
     "output_type": "stream",
     "text": [
      "100%|██████████| 28/28 [00:06<00:00,  4.40it/s]\n"
     ]
    },
    {
     "name": "stdout",
     "output_type": "stream",
     "text": [
      "Saved Snoopy-style image: snoopy_stylized_output3.png\n"
     ]
    }
   ],
   "source": [
    "# Define content image and instruction\n",
    "image_path = \"myface.jpg\"  # Replace with your actual image path\n",
    "content_image = Image.open(image_path).convert(\"RGB\").resize((512, 512))\n",
    "\n",
    "# Phi-4: Generate a descriptive text prompt\n",
    "inputs = processor(images=content_image, text=instruction, return_tensors=\"pt\").to(\"cuda\", torch.float16)\n",
    "# show token count\n",
    "generated_ids = phi_model.generate(\n",
    "    **inputs,\n",
    "    max_new_tokens=40,\n",
    "    temperature=0.8,\n",
    "    do_sample=True,\n",
    "    top_p=0.9,\n",
    "    repetition_penalty=1.1\n",
    ")\n",
    "description = processor.batch_decode(generated_ids, skip_special_tokens=True)[0]\n",
    "# remove the prompt\n",
    "print(description)\n",
    "description = description[(len(instruction)-len(user_prompt)-len(prompt_suffix)-len(assistant_prompt)):]\n",
    "print(f\"Generated description: {description}\")\n",
    "\n",
    "# Combine description into Snoopy-style prompt\n",
    "snoopy_prompt = (\n",
    "    f\"A Snoopy-style illustration by Charles M. Schulz of a person with following description:{description}. \"\n",
    "    + \"in classic Peanuts comic aesthetics. \"\n",
    ")\n",
    "\n",
    "\n",
    "\n",
    "print(f\"Generated Snoopy-style prompt: {snoopy_prompt}\")\n",
    "\n",
    "# Stable Diffusion: Generate stylized Snoopy-style image\n",
    "stylized_image = T2Ipipe(snoopy_prompt, guidance_scale=7.5).images[0]\n",
    "\n",
    "# Save and display generated image\n",
    "output_path = \"snoopy_stylized_output3.png\"\n",
    "stylized_image = stylized_image.resize((224, 224))\n",
    "stylized_image.save(output_path)\n",
    "print(f\"Saved Snoopy-style image: {output_path}\")"
   ]
  },
  {
   "cell_type": "markdown",
   "metadata": {},
   "source": [
    "## CeleFaces"
   ]
  },
  {
   "cell_type": "code",
   "execution_count": 35,
   "metadata": {},
   "outputs": [
    {
     "name": "stdout",
     "output_type": "stream",
     "text": [
      "Generated description for 000079.jpg: \n",
      "- Short beard\n",
      "- Slight smile on lips\n",
      "- Thick eyebrows\n",
      "- Light skin tone\n",
      "- Black leather jacket with white stitching\n",
      "- Clean-shaven\n"
     ]
    },
    {
     "name": "stderr",
     "output_type": "stream",
     "text": [
      "100%|██████████| 28/28 [00:06<00:00,  4.39it/s]\n"
     ]
    },
    {
     "name": "stdout",
     "output_type": "stream",
     "text": [
      "Saved Snoopy-style image: stylized_images1/000079.jpg\n",
      "Generated description for 000020.jpg: atures': 'Short beard', 'Hair Style': 'Long hair, possibly wavy or curly', 'Expression': 'Neutral with slight furrowed brows',\n"
     ]
    },
    {
     "name": "stderr",
     "output_type": "stream",
     "text": [
      "100%|██████████| 28/28 [00:06<00:00,  4.39it/s]\n"
     ]
    },
    {
     "name": "stdout",
     "output_type": "stream",
     "text": [
      "Saved Snoopy-style image: stylized_images1/000020.jpg\n",
      "Generated description for 000009.jpg: atures: Smooth skin with subtle makeup\n",
      "  - Eyes: Brown eyes with dark eyeliner\n",
      "  - Nose: Prominent nose\n",
      "  - Mouth: Slightly smiling\n"
     ]
    },
    {
     "name": "stderr",
     "output_type": "stream",
     "text": [
      "100%|██████████| 28/28 [00:06<00:00,  4.38it/s]\n"
     ]
    },
    {
     "name": "stdout",
     "output_type": "stream",
     "text": [
      "Saved Snoopy-style image: stylized_images1/000009.jpg\n",
      "Generated description for 000070.jpg: idual has short black hair styled upwards.\n",
      "- They have dark skin with some redness on their cheeks indicating blushing or smiling.\n",
      "- Their eyes are closed while they appear\n"
     ]
    },
    {
     "name": "stderr",
     "output_type": "stream",
     "text": [
      "100%|██████████| 28/28 [00:06<00:00,  4.37it/s]\n"
     ]
    },
    {
     "name": "stdout",
     "output_type": "stream",
     "text": [
      "Saved Snoopy-style image: stylized_images1/000070.jpg\n",
      "Generated description for 000037.jpg: atures: Short beard, light skin tone\n",
      "- Hairstyle: Mustache, short hair with some strands sticking out\n",
      "- Expression: Serious or contemplative look\n",
      "\n"
     ]
    },
    {
     "name": "stderr",
     "output_type": "stream",
     "text": [
      "100%|██████████| 28/28 [00:06<00:00,  4.36it/s]\n"
     ]
    },
    {
     "name": "stdout",
     "output_type": "stream",
     "text": [
      "Saved Snoopy-style image: stylized_images1/000037.jpg\n",
      "Generated description for 000025.jpg: atures: Mustache, light stubble, short hair\n",
      "- Expression: Neutral/serious, slight frown\n",
      "- Hairstyle: Short, slightly curly\n",
      "\n"
     ]
    },
    {
     "name": "stderr",
     "output_type": "stream",
     "text": [
      "100%|██████████| 28/28 [00:06<00:00,  4.36it/s]\n"
     ]
    },
    {
     "name": "stdout",
     "output_type": "stream",
     "text": [
      "Saved Snoopy-style image: stylized_images1/000025.jpg\n",
      "Generated description for 000012.jpg: atures: Medium complexion, short dark hair with subtle highlights\n",
      "  - Eyes: Dark brown eyes\n",
      "  - Nose: Prominent nose\n",
      "  - Mouth: Sm\n"
     ]
    },
    {
     "name": "stderr",
     "output_type": "stream",
     "text": [
      "100%|██████████| 28/28 [00:06<00:00,  4.35it/s]\n"
     ]
    },
    {
     "name": "stdout",
     "output_type": "stream",
     "text": [
      "Saved Snoopy-style image: stylized_images1/000012.jpg\n",
      "Generated description for 000085.jpg: atures': 'Red hair, green eyes, fair complexion', 'Hairstyle': \"Wavy\", 'Expression': 'Slight smile with subtle makeup',\n"
     ]
    },
    {
     "name": "stderr",
     "output_type": "stream",
     "text": [
      "100%|██████████| 28/28 [00:06<00:00,  4.36it/s]\n"
     ]
    },
    {
     "name": "stdout",
     "output_type": "stream",
     "text": [
      "Saved Snoopy-style image: stylized_images1/000085.jpg\n",
      "Generated description for 000048.jpg: atures': {'Eyes': 'Closed', 'Nose': 'Prominent with slight bridge ridge', 'Mouth': 'Neutral'}, 'Hair/Hairst\n"
     ]
    },
    {
     "name": "stderr",
     "output_type": "stream",
     "text": [
      "100%|██████████| 28/28 [00:06<00:00,  4.35it/s]\n"
     ]
    },
    {
     "name": "stdout",
     "output_type": "stream",
     "text": [
      "Saved Snoopy-style image: stylized_images1/000048.jpg\n",
      "Generated description for 000036.jpg: atures': 'Partially blurred face with visible eyes.', 'Hairstyle': 'Short haircut', 'Expression': 'Neutral or slightly smiling', 'Clothing\n"
     ]
    },
    {
     "name": "stderr",
     "output_type": "stream",
     "text": [
      "100%|██████████| 28/28 [00:06<00:00,  4.34it/s]\n"
     ]
    },
    {
     "name": "stdout",
     "output_type": "stream",
     "text": [
      "Saved Snoopy-style image: stylized_images1/000036.jpg\n",
      "Generated description for 000083.jpg: n hair\n",
      "- Smooth skin with slight redness around eyes\n",
      "- Light makeup: foundation, mascara, red lipstick\n",
      "- Smiling slightly upwards at camera\n",
      "- Eleg\n"
     ]
    },
    {
     "name": "stderr",
     "output_type": "stream",
     "text": [
      "100%|██████████| 28/28 [00:06<00:00,  4.34it/s]\n"
     ]
    },
    {
     "name": "stdout",
     "output_type": "stream",
     "text": [
      "Saved Snoopy-style image: stylized_images1/000083.jpg\n",
      "Generated description for 000092.jpg: ir: shoulder-length\n",
      "- Neutral expression with slight smile\n",
      "- Red lipstick\n",
      "- Floral pattern top (long sleeves)\n",
      "- Standing still or walking slightly to the\n"
     ]
    },
    {
     "name": "stderr",
     "output_type": "stream",
     "text": [
      "100%|██████████| 28/28 [00:06<00:00,  4.34it/s]\n"
     ]
    },
    {
     "name": "stdout",
     "output_type": "stream",
     "text": [
      "Saved Snoopy-style image: stylized_images1/000092.jpg\n",
      "Generated description for 000019.jpg: atures': {'Eyes': 'Blue', 'Eyebrows': 'Well-defined', \"Nose\": 'Straight'}, 'Hairstyle': 'Long,\n"
     ]
    },
    {
     "name": "stderr",
     "output_type": "stream",
     "text": [
      "100%|██████████| 28/28 [00:06<00:00,  4.33it/s]\n"
     ]
    },
    {
     "name": "stdout",
     "output_type": "stream",
     "text": [
      "Saved Snoopy-style image: stylized_images1/000019.jpg\n",
      "Generated description for 000033.jpg: atures: \n",
      "  - Short brown hair\n",
      "  - Light skin tone\n",
      "  - Slight smile\n",
      "  - Blue eyes\n",
      "\n",
      "- Clothing Style:\n",
      "  - Black suit\n"
     ]
    },
    {
     "name": "stderr",
     "output_type": "stream",
     "text": [
      "100%|██████████| 28/28 [00:06<00:00,  4.33it/s]\n"
     ]
    },
    {
     "name": "stdout",
     "output_type": "stream",
     "text": [
      "Saved Snoopy-style image: stylized_images1/000033.jpg\n",
      "Generated description for 000011.jpg: atures': 'Curved eyebrows, full lips, slight smile', 'Hairstyle': 'Long dark hair', 'Expression': 'Serious with playful undert\n"
     ]
    },
    {
     "name": "stderr",
     "output_type": "stream",
     "text": [
      "100%|██████████| 28/28 [00:06<00:00,  4.33it/s]\n"
     ]
    },
    {
     "name": "stdout",
     "output_type": "stream",
     "text": [
      "Saved Snoopy-style image: stylized_images1/000011.jpg\n",
      "Generated description for 000005.jpg: atures': 'Light-colored hair styled upwards', \"Expression\": 'Neutral/serious', 'Clothing Style': 'Dark top', 'Body Posture':\n"
     ]
    },
    {
     "name": "stderr",
     "output_type": "stream",
     "text": [
      "100%|██████████| 28/28 [00:06<00:00,  4.33it/s]\n"
     ]
    },
    {
     "name": "stdout",
     "output_type": "stream",
     "text": [
      "Saved Snoopy-style image: stylized_images1/000005.jpg\n",
      "Generated description for 000016.jpg: pression: Slight smile\n",
      "- Hair Color: Dark brown or black\n",
      "- Hairstyle: Short with slight waves\n",
      "- Eyebrows: Well-defined\n",
      "- Skin\n"
     ]
    },
    {
     "name": "stderr",
     "output_type": "stream",
     "text": [
      "100%|██████████| 28/28 [00:06<00:00,  4.32it/s]\n"
     ]
    },
    {
     "name": "stdout",
     "output_type": "stream",
     "text": [
      "Saved Snoopy-style image: stylized_images1/000016.jpg\n",
      "Generated description for 000018.jpg: ir styled with waves\n",
      "- Light makeup including eyeliner, mascara, blush, and subtle lipstick\n",
      "- Warm smile on her face\n",
      "- Wearing leopard print scarf around\n"
     ]
    },
    {
     "name": "stderr",
     "output_type": "stream",
     "text": [
      "100%|██████████| 28/28 [00:06<00:00,  4.32it/s]\n"
     ]
    },
    {
     "name": "stdout",
     "output_type": "stream",
     "text": [
      "Saved Snoopy-style image: stylized_images1/000018.jpg\n",
      "Generated description for 000100.jpg: idual has blonde hair styled up with loose curls.\n",
      "- They have brown eyes and are wearing dark eyeliner to accentuate their eyelashes.\n",
      "- Their lips are painted red lipstick\n"
     ]
    },
    {
     "name": "stderr",
     "output_type": "stream",
     "text": [
      "100%|██████████| 28/28 [00:06<00:00,  4.32it/s]\n"
     ]
    },
    {
     "name": "stdout",
     "output_type": "stream",
     "text": [
      "Saved Snoopy-style image: stylized_images1/000100.jpg\n",
      "Generated description for 000031.jpg: le-aged\n",
      "- Gender: Female\n",
      "- Facial Expression: Smiling with slight smile showing teeth\n",
      "- Hair Color: Dark brown or black (partially tied\n"
     ]
    },
    {
     "name": "stderr",
     "output_type": "stream",
     "text": [
      "100%|██████████| 28/28 [00:06<00:00,  4.32it/s]\n"
     ]
    },
    {
     "name": "stdout",
     "output_type": "stream",
     "text": [
      "Saved Snoopy-style image: stylized_images1/000031.jpg\n",
      "Generated description for 000067.jpg: s short brown hair with bangs\n",
      "- Wearing dark-colored jacket over light blue shirt\n",
      "- Holding cigarette close to mouth\n",
      "- Expression is serious or contemplative\n",
      "-\n"
     ]
    },
    {
     "name": "stderr",
     "output_type": "stream",
     "text": [
      "100%|██████████| 28/28 [00:06<00:00,  4.32it/s]\n"
     ]
    },
    {
     "name": "stdout",
     "output_type": "stream",
     "text": [
      "Saved Snoopy-style image: stylized_images1/000067.jpg\n",
      "Generated description for 000099.jpg: atures: \n",
      "  - Big smile showing teeth\n",
      "  - Dark eyeliner with long lashes\n",
      "  - Light pink lipstick\n",
      "  - Brown eyeshadow\n",
      "\n",
      "- Hair Style\n"
     ]
    },
    {
     "name": "stderr",
     "output_type": "stream",
     "text": [
      "100%|██████████| 28/28 [00:06<00:00,  4.32it/s]\n"
     ]
    },
    {
     "name": "stdout",
     "output_type": "stream",
     "text": [
      "Saved Snoopy-style image: stylized_images1/000099.jpg\n",
      "Generated description for 000071.jpg: atures: Blonde hair with bangs; prominent dark eyebrows\n",
      "- Expression: Neutral/mild smile\n",
      "- Hairstyle: Bangs over both eyes\n",
      "- Earrings:\n"
     ]
    },
    {
     "name": "stderr",
     "output_type": "stream",
     "text": [
      "100%|██████████| 28/28 [00:06<00:00,  4.32it/s]\n"
     ]
    },
    {
     "name": "stdout",
     "output_type": "stream",
     "text": [
      "Saved Snoopy-style image: stylized_images1/000071.jpg\n",
      "Generated description for 000043.jpg: atures: Fair skin, medium complexion; eyes are dark brown with light reflection\n",
      "- Hairstyle: Long wavy hair that falls over shoulders\n",
      "- Expression: Sm\n"
     ]
    },
    {
     "name": "stderr",
     "output_type": "stream",
     "text": [
      "100%|██████████| 28/28 [00:06<00:00,  4.32it/s]\n"
     ]
    },
    {
     "name": "stdout",
     "output_type": "stream",
     "text": [
      "Saved Snoopy-style image: stylized_images1/000043.jpg\n",
      "Generated description for 000041.jpg: atures': 'Has a beard', 'Hair Color/Style': 'Dark hair styled upwards with sunglasses resting on top', 'Expression': 'Slight smile',\n"
     ]
    },
    {
     "name": "stderr",
     "output_type": "stream",
     "text": [
      "100%|██████████| 28/28 [00:06<00:00,  4.32it/s]\n"
     ]
    },
    {
     "name": "stdout",
     "output_type": "stream",
     "text": [
      "Saved Snoopy-style image: stylized_images1/000041.jpg\n",
      "Generated description for 000094.jpg: atures: Smiling with short eyebrows\n",
      "- Hairstyle: Long blonde hair with bangs\n",
      "- Expression: Friendly smile\n",
      "- Clothing Style: Light-colored top (bl\n"
     ]
    },
    {
     "name": "stderr",
     "output_type": "stream",
     "text": [
      "100%|██████████| 28/28 [00:06<00:00,  4.32it/s]\n"
     ]
    },
    {
     "name": "stdout",
     "output_type": "stream",
     "text": [
      "Saved Snoopy-style image: stylized_images1/000094.jpg\n",
      "Generated description for 000010.jpg: ir with wavy texture\n",
      "- Light makeup: subtle eyeshadow, defined eyebrows, pink lips\n",
      "- Neutral/soft smile expression\n",
      "- Wearing strapless dress with\n"
     ]
    },
    {
     "name": "stderr",
     "output_type": "stream",
     "text": [
      "100%|██████████| 28/28 [00:06<00:00,  4.32it/s]\n"
     ]
    },
    {
     "name": "stdout",
     "output_type": "stream",
     "text": [
      "Saved Snoopy-style image: stylized_images1/000010.jpg\n",
      "Generated description for 000095.jpg: atures': 'Blonde hair styled upwards', 'Expression': 'Serious or focused', 'Clothing Style': 'White top with dark collar', \"Accessories\n"
     ]
    },
    {
     "name": "stderr",
     "output_type": "stream",
     "text": [
      "100%|██████████| 28/28 [00:06<00:00,  4.31it/s]\n"
     ]
    },
    {
     "name": "stdout",
     "output_type": "stream",
     "text": [
      "Saved Snoopy-style image: stylized_images1/000095.jpg\n",
      "Generated description for 000062.jpg: - Gender: Female\n",
      "- Facial Expression: Neutral/Calm\n",
      "- Hair Color: Brown with blonde highlights\n",
      "- Hairstyle: Long\n"
     ]
    },
    {
     "name": "stderr",
     "output_type": "stream",
     "text": [
      "100%|██████████| 28/28 [00:06<00:00,  4.32it/s]\n"
     ]
    },
    {
     "name": "stdout",
     "output_type": "stream",
     "text": [
      "Saved Snoopy-style image: stylized_images1/000062.jpg\n",
      "Generated description for 000068.jpg: d\n",
      "- White hair styled upwards\n",
      "- Slight smile on face\n",
      "- Thick black hat worn backward\n",
      "- Dark jacket with visible zipper\n",
      "- Gray scarf around neck\n"
     ]
    },
    {
     "name": "stderr",
     "output_type": "stream",
     "text": [
      "100%|██████████| 28/28 [00:06<00:00,  4.32it/s]\n"
     ]
    },
    {
     "name": "stdout",
     "output_type": "stream",
     "text": [
      "Saved Snoopy-style image: stylized_images1/000068.jpg\n",
      "Generated description for 000026.jpg: atures: The woman has dark brown eyes with noticeable redness around them; her eyebrows are thin; she is wearing light-colored lipstick.\n",
      "- Hairstyle: Her hair appears\n"
     ]
    },
    {
     "name": "stderr",
     "output_type": "stream",
     "text": [
      "100%|██████████| 28/28 [00:06<00:00,  4.32it/s]\n"
     ]
    },
    {
     "name": "stdout",
     "output_type": "stream",
     "text": [
      "Saved Snoopy-style image: stylized_images1/000026.jpg\n",
      "Generated description for 000084.jpg: atures': 'Silver hair', 'Expression': 'Calm/Neutral', 'Hair Style': 'Short, wavy', 'Clothing': 'Purple top\n"
     ]
    },
    {
     "name": "stderr",
     "output_type": "stream",
     "text": [
      "100%|██████████| 28/28 [00:06<00:00,  4.32it/s]\n"
     ]
    },
    {
     "name": "stdout",
     "output_type": "stream",
     "text": [
      "Saved Snoopy-style image: stylized_images1/000084.jpg\n",
      "Generated description for 000052.jpg: atures': 'The man has light brown hair with some graying at the sides.', 'Expression': \"He is looking directly ahead with neutral to slight smile.\",\n"
     ]
    },
    {
     "name": "stderr",
     "output_type": "stream",
     "text": [
      "100%|██████████| 28/28 [00:06<00:00,  4.32it/s]\n"
     ]
    },
    {
     "name": "stdout",
     "output_type": "stream",
     "text": [
      "Saved Snoopy-style image: stylized_images1/000052.jpg\n",
      "Generated description for 000058.jpg: h long dark hair\n",
      "  - Wavy hairstyle\n",
      "  - Well-groomed appearance\n",
      "- Wearing light-colored top or dress\n",
      "- Subtle makeup (natural\n"
     ]
    },
    {
     "name": "stderr",
     "output_type": "stream",
     "text": [
      "100%|██████████| 28/28 [00:06<00:00,  4.31it/s]\n"
     ]
    },
    {
     "name": "stdout",
     "output_type": "stream",
     "text": [
      "Saved Snoopy-style image: stylized_images1/000058.jpg\n",
      "Generated description for 000003.jpg: atures': 'Short dark hair with sideburns', 'Expression': \"Serious or contemplative\", 'Clothing Style': 'Casual outfit', '\n"
     ]
    },
    {
     "name": "stderr",
     "output_type": "stream",
     "text": [
      "100%|██████████| 28/28 [00:06<00:00,  4.31it/s]\n"
     ]
    },
    {
     "name": "stdout",
     "output_type": "stream",
     "text": [
      "Saved Snoopy-style image: stylized_images1/000003.jpg\n",
      "Generated description for 000056.jpg: atures': {'Eyes': 'Dark', 'Nose Piercing': \"Yes\", 'Mouth': 'Slight smile'}, 'Hairstyle': '\n"
     ]
    },
    {
     "name": "stderr",
     "output_type": "stream",
     "text": [
      "100%|██████████| 28/28 [00:06<00:00,  4.32it/s]\n"
     ]
    },
    {
     "name": "stdout",
     "output_type": "stream",
     "text": [
      "Saved Snoopy-style image: stylized_images1/000056.jpg\n",
      "Generated description for 000061.jpg: atures': 'Brown hair, mustache', \"Expression\": 'Surprised or confused', 'Clothing Style': 'Dark blue shirt', 'Body Post\n"
     ]
    },
    {
     "name": "stderr",
     "output_type": "stream",
     "text": [
      "100%|██████████| 28/28 [00:06<00:00,  4.31it/s]\n"
     ]
    },
    {
     "name": "stdout",
     "output_type": "stream",
     "text": [
      "Saved Snoopy-style image: stylized_images1/000061.jpg\n",
      "Generated description for 000032.jpg: ed man\n",
      "- Short light brown hair with slight graying\n",
      "- Slightly wrinkled skin on forehead and cheeks\n",
      "- Serious/focused expression\n",
      "- Dark\n"
     ]
    },
    {
     "name": "stderr",
     "output_type": "stream",
     "text": [
      "100%|██████████| 28/28 [00:06<00:00,  4.31it/s]\n"
     ]
    },
    {
     "name": "stdout",
     "output_type": "stream",
     "text": [
      "Saved Snoopy-style image: stylized_images1/000032.jpg\n",
      "Generated description for 000035.jpg:  hair\n",
      "- Serious/focused/neutral expression\n",
      "- Dark makeup with subtle highlights on cheeks, nose bridge, lips\n",
      "- Solid black sleeveless top or dress\n"
     ]
    },
    {
     "name": "stderr",
     "output_type": "stream",
     "text": [
      "100%|██████████| 28/28 [00:06<00:00,  4.31it/s]\n"
     ]
    },
    {
     "name": "stdout",
     "output_type": "stream",
     "text": [
      "Saved Snoopy-style image: stylized_images1/000035.jpg\n",
      "Generated description for 000074.jpg: atures': 'Light skin tone with makeup including dark eyeliner', 'Hair': 'Styled up', 'Expression': 'Neutral or slightly serious', 'Hat': \"\n"
     ]
    },
    {
     "name": "stderr",
     "output_type": "stream",
     "text": [
      "100%|██████████| 28/28 [00:06<00:00,  4.31it/s]\n"
     ]
    },
    {
     "name": "stdout",
     "output_type": "stream",
     "text": [
      "Saved Snoopy-style image: stylized_images1/000074.jpg\n",
      "Generated description for 000073.jpg: g dark brown hair styled with curls\n",
      "- Expression: Neutral or slightly serious look\n",
      "- Makeup: Well-applied makeup including eyeshadow, eyeliner, mascara,\n"
     ]
    },
    {
     "name": "stderr",
     "output_type": "stream",
     "text": [
      "100%|██████████| 28/28 [00:06<00:00,  4.31it/s]\n"
     ]
    },
    {
     "name": "stdout",
     "output_type": "stream",
     "text": [
      "Saved Snoopy-style image: stylized_images1/000073.jpg\n",
      "Generated description for 000081.jpg: atures': 'Medium build, short dark hair', 'Expression': 'Smiling with slightly open mouth', 'Clothing Style': 'Black shirt, casual or\n"
     ]
    },
    {
     "name": "stderr",
     "output_type": "stream",
     "text": [
      "100%|██████████| 28/28 [00:06<00:00,  4.31it/s]\n"
     ]
    },
    {
     "name": "stdout",
     "output_type": "stream",
     "text": [
      "Saved Snoopy-style image: stylized_images1/000081.jpg\n",
      "Generated description for 000093.jpg: atures': {'Eyes': 'Large round sunglasses', 'Nose': \"Slightly upturned', 'Mouth': 'Small pout'}, 'Hair':\n"
     ]
    },
    {
     "name": "stderr",
     "output_type": "stream",
     "text": [
      "100%|██████████| 28/28 [00:06<00:00,  4.32it/s]\n"
     ]
    },
    {
     "name": "stdout",
     "output_type": "stream",
     "text": [
      "Saved Snoopy-style image: stylized_images1/000093.jpg\n",
      "Generated description for 000080.jpg: atures': {'Eyes': 'Dark', 'Nose': 'Prominent', 'Mouth': 'Slightly open'}, \"Hair\": 'Short,\n"
     ]
    },
    {
     "name": "stderr",
     "output_type": "stream",
     "text": [
      "100%|██████████| 28/28 [00:06<00:00,  4.32it/s]\n"
     ]
    },
    {
     "name": "stdout",
     "output_type": "stream",
     "text": [
      "Saved Snoopy-style image: stylized_images1/000080.jpg\n",
      "Generated description for 000034.jpg: atures': {'Eyes': 'Dark with long eyelashes', 'Nose': 'Straight with prominent nostrils', 'Mouth': 'Small lips'}, '\n"
     ]
    },
    {
     "name": "stderr",
     "output_type": "stream",
     "text": [
      "100%|██████████| 28/28 [00:06<00:00,  4.31it/s]\n"
     ]
    },
    {
     "name": "stdout",
     "output_type": "stream",
     "text": [
      "Saved Snoopy-style image: stylized_images1/000034.jpg\n",
      "Generated description for 000054.jpg: atures': 'Blonde hair, smiling slightly, dark eyebrows', 'Hair Style': 'Long, wavy blonde hair with some strands sticking out at chin level\n"
     ]
    },
    {
     "name": "stderr",
     "output_type": "stream",
     "text": [
      "100%|██████████| 28/28 [00:06<00:00,  4.32it/s]\n"
     ]
    },
    {
     "name": "stdout",
     "output_type": "stream",
     "text": [
      "Saved Snoopy-style image: stylized_images1/000054.jpg\n",
      "Generated description for 000089.jpg: atures': {'Eyes': 'Blue', 'Nose': 'Average', 'Mouth': 'Slightly open'}, \"Hairstyle\": 'Long\n"
     ]
    },
    {
     "name": "stderr",
     "output_type": "stream",
     "text": [
      "100%|██████████| 28/28 [00:06<00:00,  4.32it/s]\n"
     ]
    },
    {
     "name": "stdout",
     "output_type": "stream",
     "text": [
      "Saved Snoopy-style image: stylized_images1/000089.jpg\n",
      "Generated description for 000029.jpg: r with bangs\n",
      "- Blue eyes\n",
      "- Soft smile\n",
      "- Fair skin\n",
      "- Natural-looking makeup\n",
      "- Black leather jacket\n",
      "- Large hoop earrings\n",
      "- Casual\n"
     ]
    },
    {
     "name": "stderr",
     "output_type": "stream",
     "text": [
      "100%|██████████| 28/28 [00:06<00:00,  4.32it/s]\n"
     ]
    },
    {
     "name": "stdout",
     "output_type": "stream",
     "text": [
      "Saved Snoopy-style image: stylized_images1/000029.jpg\n",
      "Generated description for 000021.jpg: s short hair with light-colored highlights.\n",
      "- Wearing glasses on his right eye only (left eye is closed).\n",
      "- Smiling broadly with visible teeth showing white color.\n",
      "\n"
     ]
    },
    {
     "name": "stderr",
     "output_type": "stream",
     "text": [
      "100%|██████████| 28/28 [00:06<00:00,  4.32it/s]\n"
     ]
    },
    {
     "name": "stdout",
     "output_type": "stream",
     "text": [
      "Saved Snoopy-style image: stylized_images1/000021.jpg\n",
      "Generated description for 000057.jpg: atures: Dark eyeshadow, long eyelashes, prominent eyeliner\n",
      "- Hairstyle: Sleek updo with dark hair pulled back neatly\n",
      "- Expression: Neutral/ser\n"
     ]
    },
    {
     "name": "stderr",
     "output_type": "stream",
     "text": [
      "100%|██████████| 28/28 [00:06<00:00,  4.32it/s]\n"
     ]
    },
    {
     "name": "stdout",
     "output_type": "stream",
     "text": [
      "Saved Snoopy-style image: stylized_images1/000057.jpg\n",
      "Generated description for 000059.jpg: atures: \n",
      "  - Dark skin tone\n",
      "  - Subtle makeup with dark eyeshadow\n",
      "  - Well-defined eyebrows\n",
      "\n",
      "- Hairstyle:\n",
      "  - Long black\n"
     ]
    },
    {
     "name": "stderr",
     "output_type": "stream",
     "text": [
      "100%|██████████| 28/28 [00:06<00:00,  4.32it/s]\n"
     ]
    },
    {
     "name": "stdout",
     "output_type": "stream",
     "text": [
      "Saved Snoopy-style image: stylized_images1/000059.jpg\n",
      "Generated description for 000091.jpg: idual has dark hair styled neatly.\n",
      "- They are wearing a black suit jacket over an Italian striped shirt with a white collar.\n",
      "- A patterned tie is part of their\n"
     ]
    },
    {
     "name": "stderr",
     "output_type": "stream",
     "text": [
      "100%|██████████| 28/28 [00:06<00:00,  4.32it/s]\n"
     ]
    },
    {
     "name": "stdout",
     "output_type": "stream",
     "text": [
      "Saved Snoopy-style image: stylized_images1/000091.jpg\n",
      "Generated description for 000075.jpg: atures': {'Eyes': 'Large, expressive', 'Eyebrows': 'Well-defined', 'Nose': 'Prominent'}, 'Hairstyle':\n"
     ]
    },
    {
     "name": "stderr",
     "output_type": "stream",
     "text": [
      "100%|██████████| 28/28 [00:06<00:00,  4.32it/s]\n"
     ]
    },
    {
     "name": "stdout",
     "output_type": "stream",
     "text": [
      "Saved Snoopy-style image: stylized_images1/000075.jpg\n",
      "Generated description for 000039.jpg: k hair with bangs\n",
      "- Prominent makeup including red lipstick\n",
      "- Warm smile showing teeth\n",
      "- Wearing large hoop earrings and a colorful top\n",
      "- Blue background suggesting\n"
     ]
    },
    {
     "name": "stderr",
     "output_type": "stream",
     "text": [
      "100%|██████████| 28/28 [00:06<00:00,  4.32it/s]\n"
     ]
    },
    {
     "name": "stdout",
     "output_type": "stream",
     "text": [
      "Saved Snoopy-style image: stylized_images1/000039.jpg\n",
      "Generated description for 000007.jpg: - Hair color: Black\n",
      "- Hairstyle: Short, spiky\n",
      "- Facial hair: No beard or mustache\n",
      "- Expression:\n"
     ]
    },
    {
     "name": "stderr",
     "output_type": "stream",
     "text": [
      "100%|██████████| 28/28 [00:06<00:00,  4.32it/s]\n"
     ]
    },
    {
     "name": "stdout",
     "output_type": "stream",
     "text": [
      "Saved Snoopy-style image: stylized_images1/000007.jpg\n",
      "Generated description for 000090.jpg: atures': 'Neutral face with short blonde hair', 'Expression': \"Calm/mature look\", 'Clothing Style': 'White shirt with black stripes on\n"
     ]
    },
    {
     "name": "stderr",
     "output_type": "stream",
     "text": [
      "100%|██████████| 28/28 [00:06<00:00,  4.32it/s]\n"
     ]
    },
    {
     "name": "stdout",
     "output_type": "stream",
     "text": [
      "Saved Snoopy-style image: stylized_images1/000090.jpg\n",
      "Generated description for 000072.jpg: idual is smiling broadly.\n",
      "- He has short dark hair with noticeable graying on his sides.\n",
      "- His eyes are closed while he smiles, showing happiness or satisfaction.\n",
      "\n"
     ]
    },
    {
     "name": "stderr",
     "output_type": "stream",
     "text": [
      "100%|██████████| 28/28 [00:06<00:00,  4.32it/s]\n"
     ]
    },
    {
     "name": "stdout",
     "output_type": "stream",
     "text": [
      "Saved Snoopy-style image: stylized_images1/000072.jpg\n",
      "Generated description for 000053.jpg: as dark hair styled with bangs.\n",
      "- He is wearing large black sunglasses.\n",
      "- His face shows minimal makeup or acne spots on his cheeks.\n",
      "- A subtle smile\n"
     ]
    },
    {
     "name": "stderr",
     "output_type": "stream",
     "text": [
      "100%|██████████| 28/28 [00:06<00:00,  4.32it/s]\n"
     ]
    },
    {
     "name": "stdout",
     "output_type": "stream",
     "text": [
      "Saved Snoopy-style image: stylized_images1/000053.jpg\n",
      "Generated description for 000028.jpg: atures': 'Light skin tone', \"Hair\": 'Wavy blonde hair with dark roots at the front', 'Expression': 'Smiling warmly', 'Cl\n"
     ]
    },
    {
     "name": "stderr",
     "output_type": "stream",
     "text": [
      "100%|██████████| 28/28 [00:06<00:00,  4.31it/s]\n"
     ]
    },
    {
     "name": "stdout",
     "output_type": "stream",
     "text": [
      "Saved Snoopy-style image: stylized_images1/000028.jpg\n",
      "Generated description for 000044.jpg: atures': 'Dark skin tone, short curly hair', 'Expression': 'Neutral/Calm', 'Clothing Style': \"Bright pink top with ruffled\n"
     ]
    },
    {
     "name": "stderr",
     "output_type": "stream",
     "text": [
      "100%|██████████| 28/28 [00:06<00:00,  4.31it/s]\n"
     ]
    },
    {
     "name": "stdout",
     "output_type": "stream",
     "text": [
      "Saved Snoopy-style image: stylized_images1/000044.jpg\n",
      "Generated description for 000046.jpg: h dark hair\n",
      "- Light makeup highlighting eyes and lips\n",
      "- Winking smile\n",
      "- Black sleeveless dress with thin straps\n",
      "- Relaxed pose against white background\n"
     ]
    },
    {
     "name": "stderr",
     "output_type": "stream",
     "text": [
      "100%|██████████| 28/28 [00:06<00:00,  4.32it/s]\n"
     ]
    },
    {
     "name": "stdout",
     "output_type": "stream",
     "text": [
      "Saved Snoopy-style image: stylized_images1/000046.jpg\n",
      "Generated description for 000076.jpg:  large build\n",
      "- Dark hair styled down with long bangs\n",
      "- Slight beard/Goatee\n",
      "- Light skin tone\n",
      "- Serious/mixed expression (smile\n"
     ]
    },
    {
     "name": "stderr",
     "output_type": "stream",
     "text": [
      "100%|██████████| 28/28 [00:06<00:00,  4.31it/s]\n"
     ]
    },
    {
     "name": "stdout",
     "output_type": "stream",
     "text": [
      "Saved Snoopy-style image: stylized_images1/000076.jpg\n",
      "Generated description for 000004.jpg: atures': {'Eyes': 'Wide open', 'Nose': 'Visible with clear skin', 'Lips': 'Pink lipstick'}, 'Hairstyle':\n"
     ]
    },
    {
     "name": "stderr",
     "output_type": "stream",
     "text": [
      "100%|██████████| 28/28 [00:06<00:00,  4.31it/s]\n"
     ]
    },
    {
     "name": "stdout",
     "output_type": "stream",
     "text": [
      "Saved Snoopy-style image: stylized_images1/000004.jpg\n",
      "Generated description for 000024.jpg: atures': {'Eyes': 'Large', 'Skin Tone': 'Light', 'Expression': \"Calm or neutral\"}, 'Hair': 'Blonde with slight\n"
     ]
    },
    {
     "name": "stderr",
     "output_type": "stream",
     "text": [
      "100%|██████████| 28/28 [00:06<00:00,  4.31it/s]\n"
     ]
    },
    {
     "name": "stdout",
     "output_type": "stream",
     "text": [
      "Saved Snoopy-style image: stylized_images1/000024.jpg\n",
      "Generated description for 000060.jpg: atures': {'Eyes': 'Wide open', 'Nose': 'Prominent nose', 'Mouth': 'Slightly parted'}, 'Hairstyle\n"
     ]
    },
    {
     "name": "stderr",
     "output_type": "stream",
     "text": [
      "100%|██████████| 28/28 [00:06<00:00,  4.31it/s]\n"
     ]
    },
    {
     "name": "stdout",
     "output_type": "stream",
     "text": [
      "Saved Snoopy-style image: stylized_images1/000060.jpg\n",
      "Generated description for 000088.jpg: ir with light brown highlights\n",
      "- Light skin tone\n",
      "- Neutral eyes (brownish)\n",
      "- Small nose piercing on left nostril\n",
      "- Thin lips painted slightly\n"
     ]
    },
    {
     "name": "stderr",
     "output_type": "stream",
     "text": [
      "100%|██████████| 28/28 [00:06<00:00,  4.32it/s]\n"
     ]
    },
    {
     "name": "stdout",
     "output_type": "stream",
     "text": [
      "Saved Snoopy-style image: stylized_images1/000088.jpg\n",
      "Generated description for 000045.jpg: atures': {'Eyes': 'Wide-open', 'Nose': \"Small\", 'Mouth': 'Smiling'}, 'Hair Style': 'Long, straight\n"
     ]
    },
    {
     "name": "stderr",
     "output_type": "stream",
     "text": [
      "100%|██████████| 28/28 [00:06<00:00,  4.32it/s]\n"
     ]
    },
    {
     "name": "stdout",
     "output_type": "stream",
     "text": [
      "Saved Snoopy-style image: stylized_images1/000045.jpg\n",
      "Generated description for 000015.jpg: k hair\n",
      "- Mustache\n",
      "- Slightly furrowed eyebrows\n",
      "- Closed eyes with squinting\n",
      "- Sigh or exhale of breath through mouth\n"
     ]
    },
    {
     "name": "stderr",
     "output_type": "stream",
     "text": [
      "100%|██████████| 28/28 [00:06<00:00,  4.32it/s]\n"
     ]
    },
    {
     "name": "stdout",
     "output_type": "stream",
     "text": [
      "Saved Snoopy-style image: stylized_images1/000015.jpg\n",
      "Generated description for 000082.jpg: atures: \n",
      "  - Light brown eyes\n",
      "  - Slight smile\n",
      "  - Short dark hair\n",
      "  \n",
      "- Hair Style:\n",
      "  - Neatly styled\n",
      "\n",
      "- Expression:\n",
      "\n"
     ]
    },
    {
     "name": "stderr",
     "output_type": "stream",
     "text": [
      "100%|██████████| 28/28 [00:06<00:00,  4.32it/s]\n"
     ]
    },
    {
     "name": "stdout",
     "output_type": "stream",
     "text": [
      "Saved Snoopy-style image: stylized_images1/000082.jpg\n",
      "Generated description for 000038.jpg: atures': {'Eyes': 'Dark', 'Nose': 'Prominent', 'Mouth': 'Smiling'}, \"Hairstyle\": 'Short,\n"
     ]
    },
    {
     "name": "stderr",
     "output_type": "stream",
     "text": [
      "100%|██████████| 28/28 [00:06<00:00,  4.31it/s]\n"
     ]
    },
    {
     "name": "stdout",
     "output_type": "stream",
     "text": [
      "Saved Snoopy-style image: stylized_images1/000038.jpg\n",
      "Generated description for 000064.jpg: atures': {'Eyes': 'Dark', 'Nose': 'Average', 'Mouth': 'Slight smile'}, \"Hair\": 'Short brown hair with\n"
     ]
    },
    {
     "name": "stderr",
     "output_type": "stream",
     "text": [
      "100%|██████████| 28/28 [00:06<00:00,  4.31it/s]\n"
     ]
    },
    {
     "name": "stdout",
     "output_type": "stream",
     "text": [
      "Saved Snoopy-style image: stylized_images1/000064.jpg\n",
      "Generated description for 000027.jpg:  hair\n",
      "- Wavy texture with waves falling over shoulders\n",
      "- Slight smile showing teeth\n",
      "- Light complexion\n",
      "- Skin tone light\n",
      "- Fair skin\n",
      "-\n"
     ]
    },
    {
     "name": "stderr",
     "output_type": "stream",
     "text": [
      "100%|██████████| 28/28 [00:06<00:00,  4.32it/s]\n"
     ]
    },
    {
     "name": "stdout",
     "output_type": "stream",
     "text": [
      "Saved Snoopy-style image: stylized_images1/000027.jpg\n",
      "Generated description for 000014.jpg: atures: Dark skin tone, light eyes, prominent eyebrows\n",
      "- Hairstyle: Braided updo with loose strands falling around face\n",
      "- Expression: Slight smile\n",
      "\n"
     ]
    },
    {
     "name": "stderr",
     "output_type": "stream",
     "text": [
      "100%|██████████| 28/28 [00:06<00:00,  4.32it/s]\n"
     ]
    },
    {
     "name": "stdout",
     "output_type": "stream",
     "text": [
      "Saved Snoopy-style image: stylized_images1/000014.jpg\n",
      "Generated description for 000013.jpg:  with short blonde hair\n",
      "- Slight smile on face\n",
      "- Fair skin complexion\n",
      "- Wearing green sports jacket with yellow stripe at collar\n",
      "- Visible ear to indicate\n"
     ]
    },
    {
     "name": "stderr",
     "output_type": "stream",
     "text": [
      "100%|██████████| 28/28 [00:06<00:00,  4.32it/s]\n"
     ]
    },
    {
     "name": "stdout",
     "output_type": "stream",
     "text": [
      "Saved Snoopy-style image: stylized_images1/000013.jpg\n",
      "Generated description for 000086.jpg: atures: \n",
      "  - Brown eyes\n",
      "  - Lips slightly parted\n",
      "  - Nose visible\n",
      "\n",
      "- Hairstyle:\n",
      "  - Hair pulled back with hair tie\n",
      "\n",
      "-\n"
     ]
    },
    {
     "name": "stderr",
     "output_type": "stream",
     "text": [
      "100%|██████████| 28/28 [00:06<00:00,  4.32it/s]\n"
     ]
    },
    {
     "name": "stdout",
     "output_type": "stream",
     "text": [
      "Saved Snoopy-style image: stylized_images1/000086.jpg\n",
      "Generated description for 000030.jpg: n has short hair with visible gray strands.\n",
      "- Hair is neatly styled around the forehead and sides of his head.\n",
      "- He has prominent eyebrows that are well-groom\n"
     ]
    },
    {
     "name": "stderr",
     "output_type": "stream",
     "text": [
      "100%|██████████| 28/28 [00:06<00:00,  4.31it/s]\n"
     ]
    },
    {
     "name": "stdout",
     "output_type": "stream",
     "text": [
      "Saved Snoopy-style image: stylized_images1/000030.jpg\n",
      "Generated description for 000006.jpg: n has short hair with light brown highlights.\n",
      "- They have dark makeup on their eyelids and eyelashes.\n",
      "- Their eyebrows are well-groomed.\n",
      "- Facial expressions\n"
     ]
    },
    {
     "name": "stderr",
     "output_type": "stream",
     "text": [
      "100%|██████████| 28/28 [00:06<00:00,  4.31it/s]\n"
     ]
    },
    {
     "name": "stdout",
     "output_type": "stream",
     "text": [
      "Saved Snoopy-style image: stylized_images1/000006.jpg\n",
      "Generated description for 000023.jpg: ir: Mustache\n",
      "- Hair color: Brown\n",
      "- Hairstyle: Short, slicked-back\n",
      "- Expression: Neutral/Smiling slightly\n",
      "- Skin tone\n"
     ]
    },
    {
     "name": "stderr",
     "output_type": "stream",
     "text": [
      "100%|██████████| 28/28 [00:06<00:00,  4.31it/s]\n"
     ]
    },
    {
     "name": "stdout",
     "output_type": "stream",
     "text": [
      "Saved Snoopy-style image: stylized_images1/000023.jpg\n",
      "Generated description for 000078.jpg: atures': {'Eyes': 'Closed with dark makeup', 'Nose': 'Visible with some jewelry'}, 'Hairstyle': 'Long, straight hair that\n"
     ]
    },
    {
     "name": "stderr",
     "output_type": "stream",
     "text": [
      "100%|██████████| 28/28 [00:06<00:00,  4.31it/s]\n"
     ]
    },
    {
     "name": "stdout",
     "output_type": "stream",
     "text": [
      "Saved Snoopy-style image: stylized_images1/000078.jpg\n",
      "Generated description for 000051.jpg: atures': 'The man has grey hair, small white eyes with dark eyebrows, light skin tone, mustache.', 'Expression': 'Neutral smile', 'Ha\n"
     ]
    },
    {
     "name": "stderr",
     "output_type": "stream",
     "text": [
      "100%|██████████| 28/28 [00:06<00:00,  4.31it/s]\n"
     ]
    },
    {
     "name": "stdout",
     "output_type": "stream",
     "text": [
      "Saved Snoopy-style image: stylized_images1/000051.jpg\n",
      "Generated description for 000022.jpg: atures': {'Hair Color': 'Blonde', 'Skin Tone': 'Light', 'Eye Makeup': \"Dark eyeshadow with pink lipstick\"}, 'Expression':\n"
     ]
    },
    {
     "name": "stderr",
     "output_type": "stream",
     "text": [
      "100%|██████████| 28/28 [00:06<00:00,  4.31it/s]\n"
     ]
    },
    {
     "name": "stdout",
     "output_type": "stream",
     "text": [
      "Saved Snoopy-style image: stylized_images1/000022.jpg\n",
      "Generated description for 000047.jpg:  hair\n",
      "- Smiling face with wide eyes\n",
      "- Subtle makeup (even skin tone)\n",
      "- Silver hoop earrings\n",
      "- Neatly styled lips\n",
      "- Neutral\n"
     ]
    },
    {
     "name": "stderr",
     "output_type": "stream",
     "text": [
      "100%|██████████| 28/28 [00:06<00:00,  4.31it/s]\n"
     ]
    },
    {
     "name": "stdout",
     "output_type": "stream",
     "text": [
      "Saved Snoopy-style image: stylized_images1/000047.jpg\n",
      "Generated description for 000008.jpg: atures': 'Neutral face with dark hair', \"Expression\": 'Serious or contemplative\", \"Hair Style\": 'Short, neatly styled, slicked-back\n"
     ]
    },
    {
     "name": "stderr",
     "output_type": "stream",
     "text": [
      "100%|██████████| 28/28 [00:06<00:00,  4.31it/s]\n"
     ]
    },
    {
     "name": "stdout",
     "output_type": "stream",
     "text": [
      "Saved Snoopy-style image: stylized_images1/000008.jpg\n",
      "Generated description for 000077.jpg:  hair: wavy or curly\n",
      "- Fair skin tone\n",
      "- Light makeup with natural finish\n",
      "- Soft smile showing teeth and slight pinkish hue on cheeks\n",
      "\n"
     ]
    },
    {
     "name": "stderr",
     "output_type": "stream",
     "text": [
      "100%|██████████| 28/28 [00:06<00:00,  4.31it/s]\n"
     ]
    },
    {
     "name": "stdout",
     "output_type": "stream",
     "text": [
      "Saved Snoopy-style image: stylized_images1/000077.jpg\n",
      "Generated description for 000017.jpg: atures': 'Smooth skin with short hair pulled back.', 'Expression': 'Smiling', 'Clothing Style': {'Top': \"Red sports outfit\", '\n"
     ]
    },
    {
     "name": "stderr",
     "output_type": "stream",
     "text": [
      "100%|██████████| 28/28 [00:06<00:00,  4.32it/s]\n"
     ]
    },
    {
     "name": "stdout",
     "output_type": "stream",
     "text": [
      "Saved Snoopy-style image: stylized_images1/000017.jpg\n",
      "Generated description for 000050.jpg: atures': {'Eyes': 'Bright', 'Mouth': 'Smiling'}, 'Hair': 'Short dark hair', 'Expression': 'Cheerful',\n"
     ]
    },
    {
     "name": "stderr",
     "output_type": "stream",
     "text": [
      "100%|██████████| 28/28 [00:06<00:00,  4.32it/s]\n"
     ]
    },
    {
     "name": "stdout",
     "output_type": "stream",
     "text": [
      "Saved Snoopy-style image: stylized_images1/000050.jpg\n",
      "Generated description for 000065.jpg: atures': {'Eyes': 'Dark', 'Ears': 'Small', 'Nose': 'Medium-sized'}, \"Hair Style\": 'Short with slight waves\n"
     ]
    },
    {
     "name": "stderr",
     "output_type": "stream",
     "text": [
      "100%|██████████| 28/28 [00:06<00:00,  4.31it/s]\n"
     ]
    },
    {
     "name": "stdout",
     "output_type": "stream",
     "text": [
      "Saved Snoopy-style image: stylized_images1/000065.jpg\n",
      "Generated description for 000055.jpg: le-aged\n",
      "- Facial Features:\n",
      "  - Slight smile with slight frown at end of lips\n",
      "  - Brown eyes\n",
      "  - Dark hair (parted\n"
     ]
    },
    {
     "name": "stderr",
     "output_type": "stream",
     "text": [
      "100%|██████████| 28/28 [00:06<00:00,  4.31it/s]\n"
     ]
    },
    {
     "name": "stdout",
     "output_type": "stream",
     "text": [
      "Saved Snoopy-style image: stylized_images1/000055.jpg\n",
      "Generated description for 000069.jpg: atures': {'Eyes': 'Dark', 'Mouth': 'Closed with slight smile'}, 'Hair': 'Short dark hair styled upwards', 'Expression': '\n"
     ]
    },
    {
     "name": "stderr",
     "output_type": "stream",
     "text": [
      "100%|██████████| 28/28 [00:06<00:00,  4.31it/s]\n"
     ]
    },
    {
     "name": "stdout",
     "output_type": "stream",
     "text": [
      "Saved Snoopy-style image: stylized_images1/000069.jpg\n",
      "Generated description for 000087.jpg: n has light skin tone.\n",
      "- They have straight hair with bangs covering part of their face.\n",
      "- Their eyes are blue.\n",
      "- Wearing minimal makeup that enhances natural beauty\n"
     ]
    },
    {
     "name": "stderr",
     "output_type": "stream",
     "text": [
      "100%|██████████| 28/28 [00:06<00:00,  4.31it/s]\n"
     ]
    },
    {
     "name": "stdout",
     "output_type": "stream",
     "text": [
      "Saved Snoopy-style image: stylized_images1/000087.jpg\n",
      "Generated description for 000066.jpg: atures': {'Eyes': 'Squinting', 'Nose': \"Small\", 'Mouth': 'Smiling'}, 'Hair Style': 'Short with\n"
     ]
    },
    {
     "name": "stderr",
     "output_type": "stream",
     "text": [
      "100%|██████████| 28/28 [00:06<00:00,  4.31it/s]\n"
     ]
    },
    {
     "name": "stdout",
     "output_type": "stream",
     "text": [
      "Saved Snoopy-style image: stylized_images1/000066.jpg\n",
      "Generated description for 000098.jpg: atures': 'Dark hair with curls', 'Expression': 'Serious/neutral', 'Clothing Style': 'Black strapless dress or top', 'Accessories\n"
     ]
    },
    {
     "name": "stderr",
     "output_type": "stream",
     "text": [
      "100%|██████████| 28/28 [00:06<00:00,  4.31it/s]\n"
     ]
    },
    {
     "name": "stdout",
     "output_type": "stream",
     "text": [
      "Saved Snoopy-style image: stylized_images1/000098.jpg\n",
      "Generated description for 000042.jpg: atures': {'Eyes': 'Large with blue eyeshadow', 'Nose': 'Straight', 'Lips': \"Full lips\"}, 'Hairstyle':\n"
     ]
    },
    {
     "name": "stderr",
     "output_type": "stream",
     "text": [
      "100%|██████████| 28/28 [00:06<00:00,  4.31it/s]\n"
     ]
    },
    {
     "name": "stdout",
     "output_type": "stream",
     "text": [
      "Saved Snoopy-style image: stylized_images1/000042.jpg\n",
      "Generated description for 000097.jpg: atures': {'Eyes': 'Blue', 'Nose': 'Straight', 'Mouth': 'Closed'}, 'Hair': 'Loose waves with brown highlights',\n"
     ]
    },
    {
     "name": "stderr",
     "output_type": "stream",
     "text": [
      "100%|██████████| 28/28 [00:06<00:00,  4.31it/s]\n"
     ]
    },
    {
     "name": "stdout",
     "output_type": "stream",
     "text": [
      "Saved Snoopy-style image: stylized_images1/000097.jpg\n",
      "Generated description for 000096.jpg: atures': {'Eyes': 'Dark', 'Nose': 'Visible with freckles', 'Mouth': 'Closed'}, 'Hairstyle': \"Long,\n"
     ]
    },
    {
     "name": "stderr",
     "output_type": "stream",
     "text": [
      "100%|██████████| 28/28 [00:06<00:00,  4.31it/s]\n"
     ]
    },
    {
     "name": "stdout",
     "output_type": "stream",
     "text": [
      "Saved Snoopy-style image: stylized_images1/000096.jpg\n",
      "Generated description for 000002.jpg: atures': {'Eyes': 'Blue', 'Nose': 'Straight', 'Mouth': 'Smile'}, 'Hair Style': 'Tied back with pink\n"
     ]
    },
    {
     "name": "stderr",
     "output_type": "stream",
     "text": [
      "100%|██████████| 28/28 [00:06<00:00,  4.31it/s]\n"
     ]
    },
    {
     "name": "stdout",
     "output_type": "stream",
     "text": [
      "Saved Snoopy-style image: stylized_images1/000002.jpg\n",
      "Generated description for 000049.jpg: ery short hair\n",
      "- Deep set eyes with noticeable wrinkles around them\n",
      "- Slightly furrowed eyebrows\n",
      "- Light skin tone\n",
      "- Serious/focused expression\n"
     ]
    },
    {
     "name": "stderr",
     "output_type": "stream",
     "text": [
      "100%|██████████| 28/28 [00:06<00:00,  4.31it/s]\n"
     ]
    },
    {
     "name": "stdout",
     "output_type": "stream",
     "text": [
      "Saved Snoopy-style image: stylized_images1/000049.jpg\n",
      "Generated description for 000063.jpg: atures': {'Face': 'Smiling', 'Eyes': 'Blue', 'Nose': 'Small', 'Mouth': 'Closed'}, 'Hairst\n"
     ]
    },
    {
     "name": "stderr",
     "output_type": "stream",
     "text": [
      "100%|██████████| 28/28 [00:06<00:00,  4.31it/s]\n"
     ]
    },
    {
     "name": "stdout",
     "output_type": "stream",
     "text": [
      "Saved Snoopy-style image: stylized_images1/000063.jpg\n",
      "Generated description for 000040.jpg: atures: \n",
      "  - Long dark hair styled upwards\n",
      "  - Well-groomed eyebrows\n",
      "  - Subtle makeup with neutral tone lipstick\n",
      "- Expression: Neutral\n"
     ]
    },
    {
     "name": "stderr",
     "output_type": "stream",
     "text": [
      "100%|██████████| 28/28 [00:06<00:00,  4.31it/s]\n"
     ]
    },
    {
     "name": "stdout",
     "output_type": "stream",
     "text": [
      "Saved Snoopy-style image: stylized_images1/000040.jpg\n",
      "Generated description for 000001.jpg: wn hair styled with volume\n",
      "- Slight smile indicating happiness or contentment\n",
      "- Dark eyeshadow enhancing eye brightness\n",
      "- Natural makeup emphasizing cheekbones and lips\n",
      "-\n"
     ]
    },
    {
     "name": "stderr",
     "output_type": "stream",
     "text": [
      "100%|██████████| 28/28 [00:06<00:00,  4.31it/s]\n"
     ]
    },
    {
     "name": "stdout",
     "output_type": "stream",
     "text": [
      "Saved Snoopy-style image: stylized_images1/000001.jpg\n"
     ]
    }
   ],
   "source": [
    "import os\n",
    "from PIL import Image\n",
    "\n",
    "# Define directories\n",
    "input_folder = \"content_image\"\n",
    "output_folder = \"stylized_images1\"\n",
    "\n",
    "# Create the output directory if it doesn't exist\n",
    "os.makedirs(output_folder, exist_ok=True)\n",
    "\n",
    "# Iterate through all images in input_folder\n",
    "for image_file in os.listdir(input_folder):\n",
    "    if image_file.lower().endswith((\".jpg\", \".jpeg\", \".png\")):\n",
    "        image_path = os.path.join(input_folder, image_file)\n",
    "        \n",
    "        # Load and preprocess image\n",
    "        content_image = Image.open(image_path).convert(\"RGB\").resize((512, 512))\n",
    "\n",
    "        # Phi-4: Generate descriptive text prompt\n",
    "        inputs = processor(images=content_image, text=instruction, return_tensors=\"pt\").to(\"cuda\", torch.float16)\n",
    "        generated_ids = phi_model.generate(\n",
    "            **inputs,\n",
    "            max_new_tokens=35,\n",
    "            temperature=0.8,\n",
    "            do_sample=True,\n",
    "            top_p=0.9,\n",
    "            repetition_penalty=1.1\n",
    "        )\n",
    "        description = processor.batch_decode(generated_ids, skip_special_tokens=True)[0]\n",
    "        description = description[(len(instruction)-len(user_prompt)-len(prompt_suffix)-len(assistant_prompt)):]\n",
    "        print(f\"Generated description for {image_file}: {description}\")\n",
    "\n",
    "        # Combine description into Snoopy-style prompt\n",
    "        snoopy_prompt = (\n",
    "            f\"A Snoopy-style illustration by Charles M. Schulz of a person with following description:{description}. \"\n",
    "            + \"in classic Peanuts comic aesthetics. \"\n",
    "        )\n",
    "\n",
    "        # Stable Diffusion: Generate stylized Snoopy-style image\n",
    "        stylized_image = T2Ipipe(snoopy_prompt, guidance_scale=7.5).images[0]\n",
    "        stylized_image = stylized_image.resize((224, 224))\n",
    "\n",
    "        # Save generated image\n",
    "        output_path = os.path.join(output_folder, f\"{image_file}\")\n",
    "        stylized_image.save(output_path)\n",
    "        print(f\"Saved Snoopy-style image: {output_path}\")"
   ]
  },
  {
   "cell_type": "markdown",
   "metadata": {},
   "source": [
    "# 2-2"
   ]
  },
  {
   "cell_type": "code",
   "execution_count": 19,
   "metadata": {},
   "outputs": [
    {
     "name": "stderr",
     "output_type": "stream",
     "text": [
      "Loading pipeline components...: 100%|██████████| 7/7 [00:02<00:00,  2.95it/s]\n"
     ]
    }
   ],
   "source": [
    "from PIL import Image\n",
    "import torch\n",
    "from diffusers import StableDiffusionImg2ImgPipeline\n",
    "\n",
    "# Load Stable Diffusion v1-5 Img2Img pipeline\n",
    "I2Ipipe = StableDiffusionImg2ImgPipeline.from_pretrained(\n",
    "    \"runwayml/stable-diffusion-v1-5\",\n",
    "    torch_dtype=torch.float16\n",
    ").to(\"cuda\")"
   ]
  },
  {
   "cell_type": "markdown",
   "metadata": {},
   "source": [
    "## Phi-4 instruction"
   ]
  },
  {
   "cell_type": "code",
   "execution_count": null,
   "metadata": {},
   "outputs": [],
   "source": [
    "user_prompt = \"<|user|>\"\n",
    "assistant_prompt = \"<|assistant|>\"\n",
    "prompt_suffix = \"<|end|>\"\n",
    "instruction = f\"{user_prompt}<|image_1|>What is shown in this image?{prompt_suffix}{assistant_prompt}\""
   ]
  },
  {
   "cell_type": "markdown",
   "metadata": {},
   "source": [
    "## my photo\n"
   ]
  },
  {
   "cell_type": "code",
   "execution_count": 119,
   "metadata": {},
   "outputs": [
    {
     "name": "stdout",
     "output_type": "stream",
     "text": [
      "Generated description: What is shown in this image?The image features a young Asian man wearing glasses, sitting down and posing for the camera. He appears to be indoors with some chairs visible around him.\n",
      "\n",
      "There are two other people\n"
     ]
    },
    {
     "name": "stderr",
     "output_type": "stream",
     "text": [
      "100%|██████████| 35/35 [00:01<00:00, 31.43it/s]\n",
      "Potential NSFW content was detected in one or more images. A black image will be returned instead. Try again with a different prompt and/or seed.\n"
     ]
    },
    {
     "name": "stdout",
     "output_type": "stream",
     "text": [
      "Image saved at snoopy_stylized_output7.png\n"
     ]
    }
   ],
   "source": [
    "\n",
    "\n",
    "# Define content image and instruction\n",
    "image_path = \"myface.jpg\"  # Replace with your actual image path\n",
    "content_image = Image.open(image_path).convert(\"RGB\").resize((224, 224))\n",
    "\n",
    "\n",
    "# Phi-4: Generate a descriptive text prompt\n",
    "inputs = processor(images=content_image, text=instruction, return_tensors=\"pt\").to(\"cuda\", torch.float16)\n",
    "# show token count\n",
    "generated_ids = phi_model.generate(\n",
    "    **inputs,\n",
    "    max_new_tokens=35,\n",
    "    temperature=0.8,\n",
    "    do_sample=True,\n",
    "    top_p=0.9,\n",
    "    repetition_penalty=1.1\n",
    ")\n",
    "description = processor.batch_decode(generated_ids, skip_special_tokens=True)[0]\n",
    "# remove the prompt_suffix\n",
    "description = description.replace(instruction, \"\").strip()\n",
    "print(f\"Generated description: {description}\")\n",
    "\n",
    "# Combine description into Snoopy-style prompt\n",
    "snoopy_prompt = (\n",
    "    f\"A Snoopy-style illustration by Charles M. Schulz of {description}. \"\n",
    "    + \"Small, curved eyes or dots, simple lines for eyebrows. \"\n",
    "    + \"and classic Peanuts comic aesthetics. \"\n",
    ")\n",
    "\n",
    "\n",
    "# Generate new stylized image based on your image\n",
    "image = I2Ipipe(\n",
    "    prompt=snoopy_prompt,\n",
    "    image=content_image,\n",
    "    strength=0.7,  # how much you want it changed (0.6~0.8 recommended)\n",
    "    guidance_scale=10\n",
    ").images[0]\n",
    "\n",
    "# Save and view the output\n",
    "output_path = \"snoopy_stylized_output7.png\"\n",
    "image.save(output_path)\n",
    "print(f\"Image saved at {output_path}\")\n"
   ]
  },
  {
   "cell_type": "markdown",
   "metadata": {},
   "source": [
    "## prompt 2\n"
   ]
  },
  {
   "cell_type": "code",
   "execution_count": null,
   "metadata": {},
   "outputs": [],
   "source": [
    "# Define content image and instruction\n",
    "image_path = \"myface.jpg\"  # Replace with your actual image path\n",
    "content_image = Image.open(image_path).convert(\"RGB\").resize((512, 512))\n",
    "\n",
    "\n",
    "# Phi-4: Generate a descriptive text prompt\n",
    "inputs = processor(images=content_image, text=instruction, return_tensors=\"pt\").to(\"cuda\", torch.float16)\n",
    "# show token count\n",
    "generated_ids = phi_model.generate(\n",
    "    **inputs,\n",
    "    max_new_tokens=15,\n",
    "    temperature=0.8,\n",
    "    do_sample=True,\n",
    "    top_p=0.9,\n",
    "    repetition_penalty=1.1\n",
    ")\n",
    "description = processor.batch_decode(generated_ids, skip_special_tokens=True)[0]\n",
    "# remove the prompt_suffix\n",
    "description = description.replace(instruction, \"\").strip()\n",
    "print(f\"Generated description: {description}\")\n",
    "\n",
    "# Combine description into Snoopy-style prompt\n",
    "snoopy_prompt = (\n",
    "    f\"A Snoopy-style illustration by Charles M. Schulz of a person with following description:{description}. \"\n",
    "    + \"in classic Peanuts comic aesthetics. \"\n",
    ")\n",
    "\n",
    "\n",
    "# Generate new stylized image based on your image\n",
    "image = I2Ipipe(\n",
    "    prompt=snoopy_prompt,\n",
    "    image=content_image,\n",
    "    strength=0.7,  # how much you want it changed (0.6~0.8 recommended)\n",
    "    guidance_scale=15\n",
    ").images[0]\n",
    "\n",
    "# Save and view the output\n",
    "output_path = \"snoopy_stylized_output5.png\"\n",
    "image = image.resize((224, 224))\n",
    "image.save(output_path)\n",
    "print(f\"Image saved at {output_path}\")\n"
   ]
  },
  {
   "cell_type": "code",
   "execution_count": 53,
   "metadata": {},
   "outputs": [
    {
     "name": "stderr",
     "output_type": "stream",
     "text": [
      "The following part of your input was truncated because CLIP can only handle sequences up to 77 tokens: ['big expressive eyes , and a cute , dog - like cartoon form .']\n"
     ]
    },
    {
     "name": "stdout",
     "output_type": "stream",
     "text": [
      "Generated description: e\n",
      "- Short black hair with bangs\n"
     ]
    },
    {
     "name": "stderr",
     "output_type": "stream",
     "text": [
      "100%|██████████| 35/35 [00:01<00:00, 26.17it/s]\n"
     ]
    },
    {
     "name": "stdout",
     "output_type": "stream",
     "text": [
      "Image saved at snoopy_stylized_output4.png\n"
     ]
    }
   ],
   "source": [
    "# Define content image and instruction\n",
    "image_path = \"myface.jpg\"  # Replace with your actual image path\n",
    "content_image = Image.open(image_path).convert(\"RGB\").resize((512, 512))\n",
    "\n",
    "\n",
    "# Phi-4: Generate a descriptive text prompt\n",
    "inputs = processor(images=content_image, text=instruction, return_tensors=\"pt\").to(\"cuda\", torch.float16)\n",
    "# show token count\n",
    "generated_ids = phi_model.generate(\n",
    "    **inputs,\n",
    "    max_new_tokens=10,\n",
    "    temperature=0.8,\n",
    "    do_sample=True,\n",
    "    top_p=0.9,\n",
    "    repetition_penalty=1.1\n",
    ")\n",
    "description = processor.batch_decode(generated_ids, skip_special_tokens=True)[0]\n",
    "# remove the prompt_suffix\n",
    "description = description[(len(instruction)-len(user_prompt)-len(prompt_suffix)-len(assistant_prompt)):]\n",
    "print(f\"Generated description: {description}\")\n",
    "\n",
    "# Combine description into Snoopy-style prompt\n",
    "snoopy_prompt = (\n",
    "    f\"A Snoopy-style illustration version by Charles M. Schulz of:{description} . Keep their unique features like hairstyle, clothing style, and overall pose, but render them in the cartoonish, minimalistic style of Charles Schulz's Peanuts comic strip. The final image should look like the character belongs in the Snoopy universe—simple lines, soft colors, big expressive eyes, and a cute, dog-like cartoon form.\"\n",
    ")\n",
    "\n",
    "\n",
    "# Generate new stylized image based on your image\n",
    "image = I2Ipipe(\n",
    "    prompt=snoopy_prompt,\n",
    "    image=content_image,\n",
    "    strength=0.7,  # how much you want it changed (0.6~0.8 recommended)\n",
    "    guidance_scale=7.5\n",
    ").images[0]\n",
    "\n",
    "# Save and view the output\n",
    "output_path = \"snoopy_stylized_output4.png\"\n",
    "image = image.resize((224, 224))\n",
    "image.save(output_path)\n",
    "print(f\"Image saved at {output_path}\")\n"
   ]
  },
  {
   "cell_type": "markdown",
   "metadata": {},
   "source": [
    "## Celefaces"
   ]
  },
  {
   "cell_type": "code",
   "execution_count": 120,
   "metadata": {},
   "outputs": [
    {
     "name": "stderr",
     "output_type": "stream",
     "text": [
      "The following part of your input was truncated because CLIP can only handle sequences up to 77 tokens: ['the snoopy universe — simple lines , soft colors , big expressive eyes , and a cute , dog - like cartoon form .']\n"
     ]
    },
    {
     "name": "stdout",
     "output_type": "stream",
     "text": [
      "Generated description for 000079.jpg: What is shown in this image?The image shows a person wearing a black shirt with\n"
     ]
    },
    {
     "name": "stderr",
     "output_type": "stream",
     "text": [
      "100%|██████████| 35/35 [00:01<00:00, 26.13it/s]\n"
     ]
    },
    {
     "name": "stdout",
     "output_type": "stream",
     "text": [
      "Saved Snoopy-style image: stylized_images2/000079.jpg\n"
     ]
    },
    {
     "name": "stderr",
     "output_type": "stream",
     "text": [
      "The following part of your input was truncated because CLIP can only handle sequences up to 77 tokens: ['the snoopy universe — simple lines , soft colors , big expressive eyes , and a cute , dog - like cartoon form .']\n"
     ]
    },
    {
     "name": "stdout",
     "output_type": "stream",
     "text": [
      "Generated description for 000020.jpg: What is shown in this image?A man with long hair and a beard. He\n"
     ]
    },
    {
     "name": "stderr",
     "output_type": "stream",
     "text": [
      "100%|██████████| 35/35 [00:01<00:00, 26.00it/s]\n"
     ]
    },
    {
     "name": "stdout",
     "output_type": "stream",
     "text": [
      "Saved Snoopy-style image: stylized_images2/000020.jpg\n"
     ]
    },
    {
     "name": "stderr",
     "output_type": "stream",
     "text": [
      "The following part of your input was truncated because CLIP can only handle sequences up to 77 tokens: ['the snoopy universe — simple lines , soft colors , big expressive eyes , and a cute , dog - like cartoon form .']\n"
     ]
    },
    {
     "name": "stdout",
     "output_type": "stream",
     "text": [
      "Generated description for 000009.jpg: What is shown in this image?A person with long hair, wearing a patterned garment\n"
     ]
    },
    {
     "name": "stderr",
     "output_type": "stream",
     "text": [
      "100%|██████████| 35/35 [00:01<00:00, 26.07it/s]\n"
     ]
    },
    {
     "name": "stdout",
     "output_type": "stream",
     "text": [
      "Saved Snoopy-style image: stylized_images2/000009.jpg\n"
     ]
    },
    {
     "name": "stderr",
     "output_type": "stream",
     "text": [
      "The following part of your input was truncated because CLIP can only handle sequences up to 77 tokens: ['the snoopy universe — simple lines , soft colors , big expressive eyes , and a cute , dog - like cartoon form .']\n"
     ]
    },
    {
     "name": "stdout",
     "output_type": "stream",
     "text": [
      "Generated description for 000070.jpg: What is shown in this image?The image shows a person with dark hair, wearing\n"
     ]
    },
    {
     "name": "stderr",
     "output_type": "stream",
     "text": [
      "100%|██████████| 35/35 [00:01<00:00, 26.05it/s]\n"
     ]
    },
    {
     "name": "stdout",
     "output_type": "stream",
     "text": [
      "Saved Snoopy-style image: stylized_images2/000070.jpg\n"
     ]
    },
    {
     "name": "stderr",
     "output_type": "stream",
     "text": [
      "The following part of your input was truncated because CLIP can only handle sequences up to 77 tokens: ['the snoopy universe — simple lines , soft colors , big expressive eyes , and a cute , dog - like cartoon form .']\n"
     ]
    },
    {
     "name": "stdout",
     "output_type": "stream",
     "text": [
      "Generated description for 000037.jpg: What is shown in this image?A person wearing a cap and jersey, likely participating\n"
     ]
    },
    {
     "name": "stderr",
     "output_type": "stream",
     "text": [
      "100%|██████████| 35/35 [00:01<00:00, 26.05it/s]\n"
     ]
    },
    {
     "name": "stdout",
     "output_type": "stream",
     "text": [
      "Saved Snoopy-style image: stylized_images2/000037.jpg\n"
     ]
    },
    {
     "name": "stderr",
     "output_type": "stream",
     "text": [
      "The following part of your input was truncated because CLIP can only handle sequences up to 77 tokens: ['the snoopy universe — simple lines , soft colors , big expressive eyes , and a cute , dog - like cartoon form .']\n"
     ]
    },
    {
     "name": "stdout",
     "output_type": "stream",
     "text": [
      "Generated description for 000025.jpg: What is shown in this image?A person wearing a brown jacket over a grey shirt\n"
     ]
    },
    {
     "name": "stderr",
     "output_type": "stream",
     "text": [
      "100%|██████████| 35/35 [00:01<00:00, 26.04it/s]\n"
     ]
    },
    {
     "name": "stdout",
     "output_type": "stream",
     "text": [
      "Saved Snoopy-style image: stylized_images2/000025.jpg\n"
     ]
    },
    {
     "name": "stderr",
     "output_type": "stream",
     "text": [
      "The following part of your input was truncated because CLIP can only handle sequences up to 77 tokens: ['the snoopy universe — simple lines , soft colors , big expressive eyes , and a cute , dog - like cartoon form .']\n"
     ]
    },
    {
     "name": "stdout",
     "output_type": "stream",
     "text": [
      "Generated description for 000012.jpg: What is shown in this image?The image shows a man with dark hair, wearing\n"
     ]
    },
    {
     "name": "stderr",
     "output_type": "stream",
     "text": [
      "100%|██████████| 35/35 [00:01<00:00, 26.03it/s]\n"
     ]
    },
    {
     "name": "stdout",
     "output_type": "stream",
     "text": [
      "Saved Snoopy-style image: stylized_images2/000012.jpg\n"
     ]
    },
    {
     "name": "stderr",
     "output_type": "stream",
     "text": [
      "The following part of your input was truncated because CLIP can only handle sequences up to 77 tokens: ['the snoopy universe — simple lines , soft colors , big expressive eyes , and a cute , dog - like cartoon form .']\n"
     ]
    },
    {
     "name": "stdout",
     "output_type": "stream",
     "text": [
      "Generated description for 000085.jpg: What is shown in this image?A person with red hair and a blurred face,\n"
     ]
    },
    {
     "name": "stderr",
     "output_type": "stream",
     "text": [
      "100%|██████████| 35/35 [00:01<00:00, 26.09it/s]\n"
     ]
    },
    {
     "name": "stdout",
     "output_type": "stream",
     "text": [
      "Saved Snoopy-style image: stylized_images2/000085.jpg\n"
     ]
    },
    {
     "name": "stderr",
     "output_type": "stream",
     "text": [
      "The following part of your input was truncated because CLIP can only handle sequences up to 77 tokens: ['in the snoopy universe — simple lines , soft colors , big expressive eyes , and a cute , dog - like cartoon form .']\n"
     ]
    },
    {
     "name": "stdout",
     "output_type": "stream",
     "text": [
      "Generated description for 000048.jpg: What is shown in this image?A person with a dark background. The person's face\n"
     ]
    },
    {
     "name": "stderr",
     "output_type": "stream",
     "text": [
      "100%|██████████| 35/35 [00:01<00:00, 26.23it/s]\n",
      "Potential NSFW content was detected in one or more images. A black image will be returned instead. Try again with a different prompt and/or seed.\n"
     ]
    },
    {
     "name": "stdout",
     "output_type": "stream",
     "text": [
      "Saved Snoopy-style image: stylized_images2/000048.jpg\n"
     ]
    },
    {
     "name": "stderr",
     "output_type": "stream",
     "text": [
      "The following part of your input was truncated because CLIP can only handle sequences up to 77 tokens: ['the snoopy universe — simple lines , soft colors , big expressive eyes , and a cute , dog - like cartoon form .']\n"
     ]
    },
    {
     "name": "stdout",
     "output_type": "stream",
     "text": [
      "Generated description for 000036.jpg: What is shown in this image?The image shows a person with their face blurred out\n"
     ]
    },
    {
     "name": "stderr",
     "output_type": "stream",
     "text": [
      "100%|██████████| 35/35 [00:01<00:00, 26.13it/s]\n"
     ]
    },
    {
     "name": "stdout",
     "output_type": "stream",
     "text": [
      "Saved Snoopy-style image: stylized_images2/000036.jpg\n"
     ]
    },
    {
     "name": "stderr",
     "output_type": "stream",
     "text": [
      "The following part of your input was truncated because CLIP can only handle sequences up to 77 tokens: ['the snoopy universe — simple lines , soft colors , big expressive eyes , and a cute , dog - like cartoon form .']\n"
     ]
    },
    {
     "name": "stdout",
     "output_type": "stream",
     "text": [
      "Generated description for 000083.jpg: What is shown in this image?A person with shoulder-length, wavy brown hair\n"
     ]
    },
    {
     "name": "stderr",
     "output_type": "stream",
     "text": [
      "100%|██████████| 35/35 [00:01<00:00, 26.22it/s]\n"
     ]
    },
    {
     "name": "stdout",
     "output_type": "stream",
     "text": [
      "Saved Snoopy-style image: stylized_images2/000083.jpg\n"
     ]
    },
    {
     "name": "stderr",
     "output_type": "stream",
     "text": [
      "The following part of your input was truncated because CLIP can only handle sequences up to 77 tokens: ['the snoopy universe — simple lines , soft colors , big expressive eyes , and a cute , dog - like cartoon form .']\n"
     ]
    },
    {
     "name": "stdout",
     "output_type": "stream",
     "text": [
      "Generated description for 000092.jpg: What is shown in this image?The image shows a person with blonde hair, wearing\n"
     ]
    },
    {
     "name": "stderr",
     "output_type": "stream",
     "text": [
      "100%|██████████| 35/35 [00:01<00:00, 26.17it/s]\n"
     ]
    },
    {
     "name": "stdout",
     "output_type": "stream",
     "text": [
      "Saved Snoopy-style image: stylized_images2/000092.jpg\n"
     ]
    },
    {
     "name": "stderr",
     "output_type": "stream",
     "text": [
      "The following part of your input was truncated because CLIP can only handle sequences up to 77 tokens: ['the snoopy universe — simple lines , soft colors , big expressive eyes , and a cute , dog - like cartoon form .']\n"
     ]
    },
    {
     "name": "stdout",
     "output_type": "stream",
     "text": [
      "Generated description for 000019.jpg: What is shown in this image?The content of the image is not available as it\n"
     ]
    },
    {
     "name": "stderr",
     "output_type": "stream",
     "text": [
      "100%|██████████| 35/35 [00:01<00:00, 26.18it/s]\n"
     ]
    },
    {
     "name": "stdout",
     "output_type": "stream",
     "text": [
      "Saved Snoopy-style image: stylized_images2/000019.jpg\n"
     ]
    },
    {
     "name": "stderr",
     "output_type": "stream",
     "text": [
      "The following part of your input was truncated because CLIP can only handle sequences up to 77 tokens: ['the snoopy universe — simple lines , soft colors , big expressive eyes , and a cute , dog - like cartoon form .']\n"
     ]
    },
    {
     "name": "stdout",
     "output_type": "stream",
     "text": [
      "Generated description for 000033.jpg: What is shown in this image?The image shows a man with short dark hair,\n"
     ]
    },
    {
     "name": "stderr",
     "output_type": "stream",
     "text": [
      "100%|██████████| 35/35 [00:01<00:00, 26.02it/s]\n"
     ]
    },
    {
     "name": "stdout",
     "output_type": "stream",
     "text": [
      "Saved Snoopy-style image: stylized_images2/000033.jpg\n"
     ]
    },
    {
     "name": "stderr",
     "output_type": "stream",
     "text": [
      "The following part of your input was truncated because CLIP can only handle sequences up to 77 tokens: ['the snoopy universe — simple lines , soft colors , big expressive eyes , and a cute , dog - like cartoon form .']\n"
     ]
    },
    {
     "name": "stdout",
     "output_type": "stream",
     "text": [
      "Generated description for 000011.jpg: What is shown in this image?A person with long, dark hair. The background\n"
     ]
    },
    {
     "name": "stderr",
     "output_type": "stream",
     "text": [
      "100%|██████████| 35/35 [00:01<00:00, 26.19it/s]\n"
     ]
    },
    {
     "name": "stdout",
     "output_type": "stream",
     "text": [
      "Saved Snoopy-style image: stylized_images2/000011.jpg\n"
     ]
    },
    {
     "name": "stderr",
     "output_type": "stream",
     "text": [
      "The following part of your input was truncated because CLIP can only handle sequences up to 77 tokens: ['the snoopy universe — simple lines , soft colors , big expressive eyes , and a cute , dog - like cartoon form .']\n"
     ]
    },
    {
     "name": "stdout",
     "output_type": "stream",
     "text": [
      "Generated description for 000005.jpg: What is shown in this image?A portrait of a person with light brown hair,\n"
     ]
    },
    {
     "name": "stderr",
     "output_type": "stream",
     "text": [
      "100%|██████████| 35/35 [00:01<00:00, 26.16it/s]\n"
     ]
    },
    {
     "name": "stdout",
     "output_type": "stream",
     "text": [
      "Saved Snoopy-style image: stylized_images2/000005.jpg\n"
     ]
    },
    {
     "name": "stderr",
     "output_type": "stream",
     "text": [
      "The following part of your input was truncated because CLIP can only handle sequences up to 77 tokens: ['the snoopy universe — simple lines , soft colors , big expressive eyes , and a cute , dog - like cartoon form .']\n"
     ]
    },
    {
     "name": "stdout",
     "output_type": "stream",
     "text": [
      "Generated description for 000016.jpg: What is shown in this image?A man with short hair and a smile. The\n"
     ]
    },
    {
     "name": "stderr",
     "output_type": "stream",
     "text": [
      "100%|██████████| 35/35 [00:01<00:00, 26.17it/s]\n"
     ]
    },
    {
     "name": "stdout",
     "output_type": "stream",
     "text": [
      "Saved Snoopy-style image: stylized_images2/000016.jpg\n"
     ]
    },
    {
     "name": "stderr",
     "output_type": "stream",
     "text": [
      "The following part of your input was truncated because CLIP can only handle sequences up to 77 tokens: ['the snoopy universe — simple lines , soft colors , big expressive eyes , and a cute , dog - like cartoon form .']\n"
     ]
    },
    {
     "name": "stdout",
     "output_type": "stream",
     "text": [
      "Generated description for 000018.jpg: What is shown in this image?A person with blonde hair wearing a leopard print scarf\n"
     ]
    },
    {
     "name": "stderr",
     "output_type": "stream",
     "text": [
      "100%|██████████| 35/35 [00:01<00:00, 26.03it/s]\n"
     ]
    },
    {
     "name": "stdout",
     "output_type": "stream",
     "text": [
      "Saved Snoopy-style image: stylized_images2/000018.jpg\n"
     ]
    },
    {
     "name": "stderr",
     "output_type": "stream",
     "text": [
      "The following part of your input was truncated because CLIP can only handle sequences up to 77 tokens: ['the snoopy universe — simple lines , soft colors , big expressive eyes , and a cute , dog - like cartoon form .']\n"
     ]
    },
    {
     "name": "stdout",
     "output_type": "stream",
     "text": [
      "Generated description for 000100.jpg: What is shown in this image?A photo of a woman with blonde hair and red\n"
     ]
    },
    {
     "name": "stderr",
     "output_type": "stream",
     "text": [
      "100%|██████████| 35/35 [00:01<00:00, 26.10it/s]\n",
      "Potential NSFW content was detected in one or more images. A black image will be returned instead. Try again with a different prompt and/or seed.\n"
     ]
    },
    {
     "name": "stdout",
     "output_type": "stream",
     "text": [
      "Saved Snoopy-style image: stylized_images2/000100.jpg\n"
     ]
    },
    {
     "name": "stderr",
     "output_type": "stream",
     "text": [
      "The following part of your input was truncated because CLIP can only handle sequences up to 77 tokens: ['the snoopy universe — simple lines , soft colors , big expressive eyes , and a cute , dog - like cartoon form .']\n"
     ]
    },
    {
     "name": "stdout",
     "output_type": "stream",
     "text": [
      "Generated description for 000031.jpg: What is shown in this image?A person wearing a black jacket with white text on\n"
     ]
    },
    {
     "name": "stderr",
     "output_type": "stream",
     "text": [
      "100%|██████████| 35/35 [00:01<00:00, 26.06it/s]\n"
     ]
    },
    {
     "name": "stdout",
     "output_type": "stream",
     "text": [
      "Saved Snoopy-style image: stylized_images2/000031.jpg\n"
     ]
    },
    {
     "name": "stderr",
     "output_type": "stream",
     "text": [
      "The following part of your input was truncated because CLIP can only handle sequences up to 77 tokens: ['the snoopy universe — simple lines , soft colors , big expressive eyes , and a cute , dog - like cartoon form .']\n"
     ]
    },
    {
     "name": "stdout",
     "output_type": "stream",
     "text": [
      "Generated description for 000067.jpg: What is shown in this image?The image shows a person with brown hair, wearing\n"
     ]
    },
    {
     "name": "stderr",
     "output_type": "stream",
     "text": [
      "100%|██████████| 35/35 [00:01<00:00, 26.03it/s]\n"
     ]
    },
    {
     "name": "stdout",
     "output_type": "stream",
     "text": [
      "Saved Snoopy-style image: stylized_images2/000067.jpg\n"
     ]
    },
    {
     "name": "stderr",
     "output_type": "stream",
     "text": [
      "The following part of your input was truncated because CLIP can only handle sequences up to 77 tokens: ['the snoopy universe — simple lines , soft colors , big expressive eyes , and a cute , dog - like cartoon form .']\n"
     ]
    },
    {
     "name": "stdout",
     "output_type": "stream",
     "text": [
      "Generated description for 000099.jpg: What is shown in this image?The image shows a young woman with long, w\n"
     ]
    },
    {
     "name": "stderr",
     "output_type": "stream",
     "text": [
      "100%|██████████| 35/35 [00:01<00:00, 25.84it/s]\n"
     ]
    },
    {
     "name": "stdout",
     "output_type": "stream",
     "text": [
      "Saved Snoopy-style image: stylized_images2/000099.jpg\n"
     ]
    },
    {
     "name": "stderr",
     "output_type": "stream",
     "text": [
      "The following part of your input was truncated because CLIP can only handle sequences up to 77 tokens: ['the snoopy universe — simple lines , soft colors , big expressive eyes , and a cute , dog - like cartoon form .']\n"
     ]
    },
    {
     "name": "stdout",
     "output_type": "stream",
     "text": [
      "Generated description for 000071.jpg: What is shown in this image?A person with blonde hair wearing a dark top and\n"
     ]
    },
    {
     "name": "stderr",
     "output_type": "stream",
     "text": [
      "100%|██████████| 35/35 [00:01<00:00, 26.04it/s]\n",
      "Potential NSFW content was detected in one or more images. A black image will be returned instead. Try again with a different prompt and/or seed.\n"
     ]
    },
    {
     "name": "stdout",
     "output_type": "stream",
     "text": [
      "Saved Snoopy-style image: stylized_images2/000071.jpg\n"
     ]
    },
    {
     "name": "stderr",
     "output_type": "stream",
     "text": [
      "The following part of your input was truncated because CLIP can only handle sequences up to 77 tokens: ['the snoopy universe — simple lines , soft colors , big expressive eyes , and a cute , dog - like cartoon form .']\n"
     ]
    },
    {
     "name": "stdout",
     "output_type": "stream",
     "text": [
      "Generated description for 000043.jpg: What is shown in this image?The image shows a person with long, dark hair\n"
     ]
    },
    {
     "name": "stderr",
     "output_type": "stream",
     "text": [
      "100%|██████████| 35/35 [00:01<00:00, 25.98it/s]\n"
     ]
    },
    {
     "name": "stdout",
     "output_type": "stream",
     "text": [
      "Saved Snoopy-style image: stylized_images2/000043.jpg\n"
     ]
    },
    {
     "name": "stderr",
     "output_type": "stream",
     "text": [
      "The following part of your input was truncated because CLIP can only handle sequences up to 77 tokens: ['the snoopy universe — simple lines , soft colors , big expressive eyes , and a cute , dog - like cartoon form .']\n"
     ]
    },
    {
     "name": "stdout",
     "output_type": "stream",
     "text": [
      "Generated description for 000041.jpg: What is shown in this image?A person with dark hair, wearing a black shirt\n"
     ]
    },
    {
     "name": "stderr",
     "output_type": "stream",
     "text": [
      "100%|██████████| 35/35 [00:01<00:00, 26.01it/s]\n"
     ]
    },
    {
     "name": "stdout",
     "output_type": "stream",
     "text": [
      "Saved Snoopy-style image: stylized_images2/000041.jpg\n"
     ]
    },
    {
     "name": "stderr",
     "output_type": "stream",
     "text": [
      "The following part of your input was truncated because CLIP can only handle sequences up to 77 tokens: ['simple lines , soft colors , big expressive eyes , and a cute , dog - like cartoon form .']\n"
     ]
    },
    {
     "name": "stdout",
     "output_type": "stream",
     "text": [
      "Generated description for 000094.jpg: What is shown in this image?A person with blonde hair.\n"
     ]
    },
    {
     "name": "stderr",
     "output_type": "stream",
     "text": [
      "100%|██████████| 35/35 [00:01<00:00, 26.00it/s]\n"
     ]
    },
    {
     "name": "stdout",
     "output_type": "stream",
     "text": [
      "Saved Snoopy-style image: stylized_images2/000094.jpg\n"
     ]
    },
    {
     "name": "stderr",
     "output_type": "stream",
     "text": [
      "The following part of your input was truncated because CLIP can only handle sequences up to 77 tokens: ['the snoopy universe — simple lines , soft colors , big expressive eyes , and a cute , dog - like cartoon form .']\n"
     ]
    },
    {
     "name": "stdout",
     "output_type": "stream",
     "text": [
      "Generated description for 000010.jpg: What is shown in this image?The image shows a person with blonde hair wearing what\n"
     ]
    },
    {
     "name": "stderr",
     "output_type": "stream",
     "text": [
      "100%|██████████| 35/35 [00:01<00:00, 26.03it/s]\n",
      "Potential NSFW content was detected in one or more images. A black image will be returned instead. Try again with a different prompt and/or seed.\n"
     ]
    },
    {
     "name": "stdout",
     "output_type": "stream",
     "text": [
      "Saved Snoopy-style image: stylized_images2/000010.jpg\n"
     ]
    },
    {
     "name": "stderr",
     "output_type": "stream",
     "text": [
      "The following part of your input was truncated because CLIP can only handle sequences up to 77 tokens: ['the snoopy universe — simple lines , soft colors , big expressive eyes , and a cute , dog - like cartoon form .']\n"
     ]
    },
    {
     "name": "stdout",
     "output_type": "stream",
     "text": [
      "Generated description for 000095.jpg: What is shown in this image?A person wearing a white headband and light-colored\n"
     ]
    },
    {
     "name": "stderr",
     "output_type": "stream",
     "text": [
      "100%|██████████| 35/35 [00:01<00:00, 25.96it/s]\n"
     ]
    },
    {
     "name": "stdout",
     "output_type": "stream",
     "text": [
      "Saved Snoopy-style image: stylized_images2/000095.jpg\n"
     ]
    },
    {
     "name": "stderr",
     "output_type": "stream",
     "text": [
      "The following part of your input was truncated because CLIP can only handle sequences up to 77 tokens: ['the snoopy universe — simple lines , soft colors , big expressive eyes , and a cute , dog - like cartoon form .']\n"
     ]
    },
    {
     "name": "stdout",
     "output_type": "stream",
     "text": [
      "Generated description for 000062.jpg: What is shown in this image?The object appears to be a person with brown hair\n"
     ]
    },
    {
     "name": "stderr",
     "output_type": "stream",
     "text": [
      "100%|██████████| 35/35 [00:01<00:00, 25.91it/s]\n"
     ]
    },
    {
     "name": "stdout",
     "output_type": "stream",
     "text": [
      "Saved Snoopy-style image: stylized_images2/000062.jpg\n"
     ]
    },
    {
     "name": "stderr",
     "output_type": "stream",
     "text": [
      "The following part of your input was truncated because CLIP can only handle sequences up to 77 tokens: ['the snoopy universe — simple lines , soft colors , big expressive eyes , and a cute , dog - like cartoon form .']\n"
     ]
    },
    {
     "name": "stdout",
     "output_type": "stream",
     "text": [
      "Generated description for 000068.jpg: What is shown in this image?The image shows a person wearing a black hat and\n"
     ]
    },
    {
     "name": "stderr",
     "output_type": "stream",
     "text": [
      "100%|██████████| 35/35 [00:01<00:00, 25.68it/s]\n"
     ]
    },
    {
     "name": "stdout",
     "output_type": "stream",
     "text": [
      "Saved Snoopy-style image: stylized_images2/000068.jpg\n"
     ]
    },
    {
     "name": "stderr",
     "output_type": "stream",
     "text": [
      "The following part of your input was truncated because CLIP can only handle sequences up to 77 tokens: ['the snoopy universe — simple lines , soft colors , big expressive eyes , and a cute , dog - like cartoon form .']\n"
     ]
    },
    {
     "name": "stdout",
     "output_type": "stream",
     "text": [
      "Generated description for 000026.jpg: What is shown in this image?The content of the image cannot be determined as it\n"
     ]
    },
    {
     "name": "stderr",
     "output_type": "stream",
     "text": [
      "100%|██████████| 35/35 [00:01<00:00, 25.94it/s]\n"
     ]
    },
    {
     "name": "stdout",
     "output_type": "stream",
     "text": [
      "Saved Snoopy-style image: stylized_images2/000026.jpg\n"
     ]
    },
    {
     "name": "stderr",
     "output_type": "stream",
     "text": [
      "The following part of your input was truncated because CLIP can only handle sequences up to 77 tokens: ['the snoopy universe — simple lines , soft colors , big expressive eyes , and a cute , dog - like cartoon form .']\n"
     ]
    },
    {
     "name": "stdout",
     "output_type": "stream",
     "text": [
      "Generated description for 000084.jpg: What is shown in this image?A person with gray hair wearing a purple top and\n"
     ]
    },
    {
     "name": "stderr",
     "output_type": "stream",
     "text": [
      "100%|██████████| 35/35 [00:01<00:00, 25.94it/s]\n"
     ]
    },
    {
     "name": "stdout",
     "output_type": "stream",
     "text": [
      "Saved Snoopy-style image: stylized_images2/000084.jpg\n"
     ]
    },
    {
     "name": "stderr",
     "output_type": "stream",
     "text": [
      "The following part of your input was truncated because CLIP can only handle sequences up to 77 tokens: ['the snoopy universe — simple lines , soft colors , big expressive eyes , and a cute , dog - like cartoon form .']\n"
     ]
    },
    {
     "name": "stdout",
     "output_type": "stream",
     "text": [
      "Generated description for 000052.jpg: What is shown in this image?The image shows a person with short, dark hair\n"
     ]
    },
    {
     "name": "stderr",
     "output_type": "stream",
     "text": [
      "100%|██████████| 35/35 [00:01<00:00, 25.89it/s]\n",
      "Potential NSFW content was detected in one or more images. A black image will be returned instead. Try again with a different prompt and/or seed.\n"
     ]
    },
    {
     "name": "stdout",
     "output_type": "stream",
     "text": [
      "Saved Snoopy-style image: stylized_images2/000052.jpg\n"
     ]
    },
    {
     "name": "stderr",
     "output_type": "stream",
     "text": [
      "The following part of your input was truncated because CLIP can only handle sequences up to 77 tokens: ['the snoopy universe — simple lines , soft colors , big expressive eyes , and a cute , dog - like cartoon form .']\n"
     ]
    },
    {
     "name": "stdout",
     "output_type": "stream",
     "text": [
      "Generated description for 000058.jpg: What is shown in this image?The image shows a person with long, dark hair\n"
     ]
    },
    {
     "name": "stderr",
     "output_type": "stream",
     "text": [
      "100%|██████████| 35/35 [00:01<00:00, 25.79it/s]\n",
      "Potential NSFW content was detected in one or more images. A black image will be returned instead. Try again with a different prompt and/or seed.\n"
     ]
    },
    {
     "name": "stdout",
     "output_type": "stream",
     "text": [
      "Saved Snoopy-style image: stylized_images2/000058.jpg\n"
     ]
    },
    {
     "name": "stderr",
     "output_type": "stream",
     "text": [
      "The following part of your input was truncated because CLIP can only handle sequences up to 77 tokens: ['— simple lines , soft colors , big expressive eyes , and a cute , dog - like cartoon form .']\n"
     ]
    },
    {
     "name": "stdout",
     "output_type": "stream",
     "text": [
      "Generated description for 000003.jpg: What is shown in this image?A person with a blurred face.\n"
     ]
    },
    {
     "name": "stderr",
     "output_type": "stream",
     "text": [
      "100%|██████████| 35/35 [00:01<00:00, 25.88it/s]\n"
     ]
    },
    {
     "name": "stdout",
     "output_type": "stream",
     "text": [
      "Saved Snoopy-style image: stylized_images2/000003.jpg\n"
     ]
    },
    {
     "name": "stderr",
     "output_type": "stream",
     "text": [
      "The following part of your input was truncated because CLIP can only handle sequences up to 77 tokens: ['the snoopy universe — simple lines , soft colors , big expressive eyes , and a cute , dog - like cartoon form .']\n"
     ]
    },
    {
     "name": "stdout",
     "output_type": "stream",
     "text": [
      "Generated description for 000056.jpg: What is shown in this image?A person with black hair and a nose piercing.\n"
     ]
    },
    {
     "name": "stderr",
     "output_type": "stream",
     "text": [
      "100%|██████████| 35/35 [00:01<00:00, 25.98it/s]\n"
     ]
    },
    {
     "name": "stdout",
     "output_type": "stream",
     "text": [
      "Saved Snoopy-style image: stylized_images2/000056.jpg\n"
     ]
    },
    {
     "name": "stderr",
     "output_type": "stream",
     "text": [
      "The following part of your input was truncated because CLIP can only handle sequences up to 77 tokens: ['the snoopy universe — simple lines , soft colors , big expressive eyes , and a cute , dog - like cartoon form .']\n"
     ]
    },
    {
     "name": "stdout",
     "output_type": "stream",
     "text": [
      "Generated description for 000061.jpg: What is shown in this image?A man with curly hair, looking to the side\n"
     ]
    },
    {
     "name": "stderr",
     "output_type": "stream",
     "text": [
      "100%|██████████| 35/35 [00:01<00:00, 25.96it/s]\n"
     ]
    },
    {
     "name": "stdout",
     "output_type": "stream",
     "text": [
      "Saved Snoopy-style image: stylized_images2/000061.jpg\n"
     ]
    },
    {
     "name": "stderr",
     "output_type": "stream",
     "text": [
      "The following part of your input was truncated because CLIP can only handle sequences up to 77 tokens: ['the snoopy universe — simple lines , soft colors , big expressive eyes , and a cute , dog - like cartoon form .']\n"
     ]
    },
    {
     "name": "stdout",
     "output_type": "stream",
     "text": [
      "Generated description for 000032.jpg: What is shown in this image?The image shows a man with short, light brown\n"
     ]
    },
    {
     "name": "stderr",
     "output_type": "stream",
     "text": [
      "100%|██████████| 35/35 [00:01<00:00, 25.98it/s]\n",
      "Potential NSFW content was detected in one or more images. A black image will be returned instead. Try again with a different prompt and/or seed.\n"
     ]
    },
    {
     "name": "stdout",
     "output_type": "stream",
     "text": [
      "Saved Snoopy-style image: stylized_images2/000032.jpg\n"
     ]
    },
    {
     "name": "stderr",
     "output_type": "stream",
     "text": [
      "The following part of your input was truncated because CLIP can only handle sequences up to 77 tokens: ['the snoopy universe — simple lines , soft colors , big expressive eyes , and a cute , dog - like cartoon form .']\n"
     ]
    },
    {
     "name": "stdout",
     "output_type": "stream",
     "text": [
      "Generated description for 000035.jpg: What is shown in this image?The image shows a person with dark hair against a\n"
     ]
    },
    {
     "name": "stderr",
     "output_type": "stream",
     "text": [
      "100%|██████████| 35/35 [00:01<00:00, 25.90it/s]\n",
      "Potential NSFW content was detected in one or more images. A black image will be returned instead. Try again with a different prompt and/or seed.\n"
     ]
    },
    {
     "name": "stdout",
     "output_type": "stream",
     "text": [
      "Saved Snoopy-style image: stylized_images2/000035.jpg\n"
     ]
    },
    {
     "name": "stderr",
     "output_type": "stream",
     "text": [
      "The following part of your input was truncated because CLIP can only handle sequences up to 77 tokens: ['the snoopy universe — simple lines , soft colors , big expressive eyes , and a cute , dog - like cartoon form .']\n"
     ]
    },
    {
     "name": "stdout",
     "output_type": "stream",
     "text": [
      "Generated description for 000074.jpg: What is shown in this image?The image shows a person wearing an oversized black and\n"
     ]
    },
    {
     "name": "stderr",
     "output_type": "stream",
     "text": [
      "100%|██████████| 35/35 [00:01<00:00, 25.93it/s]\n",
      "Potential NSFW content was detected in one or more images. A black image will be returned instead. Try again with a different prompt and/or seed.\n"
     ]
    },
    {
     "name": "stdout",
     "output_type": "stream",
     "text": [
      "Saved Snoopy-style image: stylized_images2/000074.jpg\n"
     ]
    },
    {
     "name": "stderr",
     "output_type": "stream",
     "text": [
      "The following part of your input was truncated because CLIP can only handle sequences up to 77 tokens: ['the snoopy universe — simple lines , soft colors , big expressive eyes , and a cute , dog - like cartoon form .']\n"
     ]
    },
    {
     "name": "stdout",
     "output_type": "stream",
     "text": [
      "Generated description for 000073.jpg: What is shown in this image?The image shows a person with long, dark hair\n"
     ]
    },
    {
     "name": "stderr",
     "output_type": "stream",
     "text": [
      "100%|██████████| 35/35 [00:01<00:00, 25.95it/s]\n"
     ]
    },
    {
     "name": "stdout",
     "output_type": "stream",
     "text": [
      "Saved Snoopy-style image: stylized_images2/000073.jpg\n"
     ]
    },
    {
     "name": "stderr",
     "output_type": "stream",
     "text": [
      "The following part of your input was truncated because CLIP can only handle sequences up to 77 tokens: ['the snoopy universe — simple lines , soft colors , big expressive eyes , and a cute , dog - like cartoon form .']\n"
     ]
    },
    {
     "name": "stdout",
     "output_type": "stream",
     "text": [
      "Generated description for 000081.jpg: What is shown in this image?A man with short black hair, smiling at the\n"
     ]
    },
    {
     "name": "stderr",
     "output_type": "stream",
     "text": [
      "100%|██████████| 35/35 [00:01<00:00, 25.92it/s]\n"
     ]
    },
    {
     "name": "stdout",
     "output_type": "stream",
     "text": [
      "Saved Snoopy-style image: stylized_images2/000081.jpg\n"
     ]
    },
    {
     "name": "stderr",
     "output_type": "stream",
     "text": [
      "The following part of your input was truncated because CLIP can only handle sequences up to 77 tokens: ['the snoopy universe — simple lines , soft colors , big expressive eyes , and a cute , dog - like cartoon form .']\n"
     ]
    },
    {
     "name": "stdout",
     "output_type": "stream",
     "text": [
      "Generated description for 000093.jpg: What is shown in this image?A person with long brown hair wearing sunglasses and a\n"
     ]
    },
    {
     "name": "stderr",
     "output_type": "stream",
     "text": [
      "100%|██████████| 35/35 [00:01<00:00, 25.77it/s]\n",
      "Potential NSFW content was detected in one or more images. A black image will be returned instead. Try again with a different prompt and/or seed.\n"
     ]
    },
    {
     "name": "stdout",
     "output_type": "stream",
     "text": [
      "Saved Snoopy-style image: stylized_images2/000093.jpg\n"
     ]
    },
    {
     "name": "stderr",
     "output_type": "stream",
     "text": [
      "The following part of your input was truncated because CLIP can only handle sequences up to 77 tokens: ['the snoopy universe — simple lines , soft colors , big expressive eyes , and a cute , dog - like cartoon form .']\n"
     ]
    },
    {
     "name": "stdout",
     "output_type": "stream",
     "text": [
      "Generated description for 000080.jpg: What is shown in this image?The image shows a man with short, dark hair\n"
     ]
    },
    {
     "name": "stderr",
     "output_type": "stream",
     "text": [
      "100%|██████████| 35/35 [00:01<00:00, 25.95it/s]\n"
     ]
    },
    {
     "name": "stdout",
     "output_type": "stream",
     "text": [
      "Saved Snoopy-style image: stylized_images2/000080.jpg\n"
     ]
    },
    {
     "name": "stderr",
     "output_type": "stream",
     "text": [
      "The following part of your input was truncated because CLIP can only handle sequences up to 77 tokens: ['snoopy universe — simple lines , soft colors , big expressive eyes , and a cute , dog - like cartoon form .']\n"
     ]
    },
    {
     "name": "stdout",
     "output_type": "stream",
     "text": [
      "Generated description for 000034.jpg: What is shown in this image?The image shows a person with long, wavy\n"
     ]
    },
    {
     "name": "stderr",
     "output_type": "stream",
     "text": [
      "100%|██████████| 35/35 [00:01<00:00, 25.84it/s]\n"
     ]
    },
    {
     "name": "stdout",
     "output_type": "stream",
     "text": [
      "Saved Snoopy-style image: stylized_images2/000034.jpg\n"
     ]
    },
    {
     "name": "stderr",
     "output_type": "stream",
     "text": [
      "The following part of your input was truncated because CLIP can only handle sequences up to 77 tokens: ['the snoopy universe — simple lines , soft colors , big expressive eyes , and a cute , dog - like cartoon form .']\n"
     ]
    },
    {
     "name": "stdout",
     "output_type": "stream",
     "text": [
      "Generated description for 000054.jpg: What is shown in this image?A woman with blonde hair, smiling and looking directly\n"
     ]
    },
    {
     "name": "stderr",
     "output_type": "stream",
     "text": [
      "100%|██████████| 35/35 [00:01<00:00, 25.80it/s]\n"
     ]
    },
    {
     "name": "stdout",
     "output_type": "stream",
     "text": [
      "Saved Snoopy-style image: stylized_images2/000054.jpg\n"
     ]
    },
    {
     "name": "stderr",
     "output_type": "stream",
     "text": [
      "The following part of your input was truncated because CLIP can only handle sequences up to 77 tokens: ['the snoopy universe — simple lines , soft colors , big expressive eyes , and a cute , dog - like cartoon form .']\n"
     ]
    },
    {
     "name": "stdout",
     "output_type": "stream",
     "text": [
      "Generated description for 000089.jpg: What is shown in this image?A person with curly hair is visible. The background\n"
     ]
    },
    {
     "name": "stderr",
     "output_type": "stream",
     "text": [
      "100%|██████████| 35/35 [00:01<00:00, 25.79it/s]\n",
      "Potential NSFW content was detected in one or more images. A black image will be returned instead. Try again with a different prompt and/or seed.\n"
     ]
    },
    {
     "name": "stdout",
     "output_type": "stream",
     "text": [
      "Saved Snoopy-style image: stylized_images2/000089.jpg\n"
     ]
    },
    {
     "name": "stderr",
     "output_type": "stream",
     "text": [
      "The following part of your input was truncated because CLIP can only handle sequences up to 77 tokens: ['the snoopy universe — simple lines , soft colors , big expressive eyes , and a cute , dog - like cartoon form .']\n"
     ]
    },
    {
     "name": "stdout",
     "output_type": "stream",
     "text": [
      "Generated description for 000029.jpg: What is shown in this image?The image shows a person with blonde hair wearing what\n"
     ]
    },
    {
     "name": "stderr",
     "output_type": "stream",
     "text": [
      "100%|██████████| 35/35 [00:01<00:00, 25.79it/s]\n"
     ]
    },
    {
     "name": "stdout",
     "output_type": "stream",
     "text": [
      "Saved Snoopy-style image: stylized_images2/000029.jpg\n"
     ]
    },
    {
     "name": "stderr",
     "output_type": "stream",
     "text": [
      "The following part of your input was truncated because CLIP can only handle sequences up to 77 tokens: ['the snoopy universe — simple lines , soft colors , big expressive eyes , and a cute , dog - like cartoon form .']\n"
     ]
    },
    {
     "name": "stdout",
     "output_type": "stream",
     "text": [
      "Generated description for 000021.jpg: What is shown in this image?A man with a slight smile on his face.\n"
     ]
    },
    {
     "name": "stderr",
     "output_type": "stream",
     "text": [
      "100%|██████████| 35/35 [00:01<00:00, 25.84it/s]\n"
     ]
    },
    {
     "name": "stdout",
     "output_type": "stream",
     "text": [
      "Saved Snoopy-style image: stylized_images2/000021.jpg\n"
     ]
    },
    {
     "name": "stderr",
     "output_type": "stream",
     "text": [
      "The following part of your input was truncated because CLIP can only handle sequences up to 77 tokens: ['the snoopy universe — simple lines , soft colors , big expressive eyes , and a cute , dog - like cartoon form .']\n"
     ]
    },
    {
     "name": "stdout",
     "output_type": "stream",
     "text": [
      "Generated description for 000057.jpg: What is shown in this image?A woman with dark hair, wearing earrings and a\n"
     ]
    },
    {
     "name": "stderr",
     "output_type": "stream",
     "text": [
      "100%|██████████| 35/35 [00:01<00:00, 25.80it/s]\n"
     ]
    },
    {
     "name": "stdout",
     "output_type": "stream",
     "text": [
      "Saved Snoopy-style image: stylized_images2/000057.jpg\n"
     ]
    },
    {
     "name": "stderr",
     "output_type": "stream",
     "text": [
      "The following part of your input was truncated because CLIP can only handle sequences up to 77 tokens: ['the snoopy universe — simple lines , soft colors , big expressive eyes , and a cute , dog - like cartoon form .']\n"
     ]
    },
    {
     "name": "stdout",
     "output_type": "stream",
     "text": [
      "Generated description for 000059.jpg: What is shown in this image?The image shows a person with long, dark hair\n"
     ]
    },
    {
     "name": "stderr",
     "output_type": "stream",
     "text": [
      "100%|██████████| 35/35 [00:01<00:00, 25.82it/s]\n"
     ]
    },
    {
     "name": "stdout",
     "output_type": "stream",
     "text": [
      "Saved Snoopy-style image: stylized_images2/000059.jpg\n"
     ]
    },
    {
     "name": "stderr",
     "output_type": "stream",
     "text": [
      "The following part of your input was truncated because CLIP can only handle sequences up to 77 tokens: ['the snoopy universe — simple lines , soft colors , big expressive eyes , and a cute , dog - like cartoon form .']\n"
     ]
    },
    {
     "name": "stdout",
     "output_type": "stream",
     "text": [
      "Generated description for 000091.jpg: What is shown in this image?The image shows a person standing against a backdrop with\n"
     ]
    },
    {
     "name": "stderr",
     "output_type": "stream",
     "text": [
      "100%|██████████| 35/35 [00:01<00:00, 25.82it/s]\n"
     ]
    },
    {
     "name": "stdout",
     "output_type": "stream",
     "text": [
      "Saved Snoopy-style image: stylized_images2/000091.jpg\n"
     ]
    },
    {
     "name": "stderr",
     "output_type": "stream",
     "text": [
      "The following part of your input was truncated because CLIP can only handle sequences up to 77 tokens: ['the snoopy universe — simple lines , soft colors , big expressive eyes , and a cute , dog - like cartoon form .']\n"
     ]
    },
    {
     "name": "stdout",
     "output_type": "stream",
     "text": [
      "Generated description for 000075.jpg: What is shown in this image?A person with their face blurred out. The visible\n"
     ]
    },
    {
     "name": "stderr",
     "output_type": "stream",
     "text": [
      "100%|██████████| 35/35 [00:01<00:00, 25.81it/s]\n"
     ]
    },
    {
     "name": "stdout",
     "output_type": "stream",
     "text": [
      "Saved Snoopy-style image: stylized_images2/000075.jpg\n"
     ]
    },
    {
     "name": "stderr",
     "output_type": "stream",
     "text": [
      "The following part of your input was truncated because CLIP can only handle sequences up to 77 tokens: ['snoopy universe — simple lines , soft colors , big expressive eyes , and a cute , dog - like cartoon form .']\n"
     ]
    },
    {
     "name": "stdout",
     "output_type": "stream",
     "text": [
      "Generated description for 000039.jpg: What is shown in this image?A person with dark hair and a visible earring\n"
     ]
    },
    {
     "name": "stderr",
     "output_type": "stream",
     "text": [
      "100%|██████████| 35/35 [00:01<00:00, 25.82it/s]\n"
     ]
    },
    {
     "name": "stdout",
     "output_type": "stream",
     "text": [
      "Saved Snoopy-style image: stylized_images2/000039.jpg\n"
     ]
    },
    {
     "name": "stderr",
     "output_type": "stream",
     "text": [
      "The following part of your input was truncated because CLIP can only handle sequences up to 77 tokens: ['the snoopy universe — simple lines , soft colors , big expressive eyes , and a cute , dog - like cartoon form .']\n"
     ]
    },
    {
     "name": "stdout",
     "output_type": "stream",
     "text": [
      "Generated description for 000007.jpg: What is shown in this image?A person with a blurred face, wearing a gray\n"
     ]
    },
    {
     "name": "stderr",
     "output_type": "stream",
     "text": [
      "100%|██████████| 35/35 [00:01<00:00, 25.80it/s]\n",
      "Potential NSFW content was detected in one or more images. A black image will be returned instead. Try again with a different prompt and/or seed.\n"
     ]
    },
    {
     "name": "stdout",
     "output_type": "stream",
     "text": [
      "Saved Snoopy-style image: stylized_images2/000007.jpg\n"
     ]
    },
    {
     "name": "stderr",
     "output_type": "stream",
     "text": [
      "The following part of your input was truncated because CLIP can only handle sequences up to 77 tokens: ['the snoopy universe — simple lines , soft colors , big expressive eyes , and a cute , dog - like cartoon form .']\n"
     ]
    },
    {
     "name": "stdout",
     "output_type": "stream",
     "text": [
      "Generated description for 000090.jpg: What is shown in this image?The image shows a person with short, light brown\n"
     ]
    },
    {
     "name": "stderr",
     "output_type": "stream",
     "text": [
      "100%|██████████| 35/35 [00:01<00:00, 25.83it/s]\n"
     ]
    },
    {
     "name": "stdout",
     "output_type": "stream",
     "text": [
      "Saved Snoopy-style image: stylized_images2/000090.jpg\n"
     ]
    },
    {
     "name": "stderr",
     "output_type": "stream",
     "text": [
      "The following part of your input was truncated because CLIP can only handle sequences up to 77 tokens: ['the snoopy universe — simple lines , soft colors , big expressive eyes , and a cute , dog - like cartoon form .']\n"
     ]
    },
    {
     "name": "stdout",
     "output_type": "stream",
     "text": [
      "Generated description for 000072.jpg: What is shown in this image?A man with dark hair, smiling and wearing a\n"
     ]
    },
    {
     "name": "stderr",
     "output_type": "stream",
     "text": [
      "100%|██████████| 35/35 [00:01<00:00, 25.80it/s]\n",
      "Potential NSFW content was detected in one or more images. A black image will be returned instead. Try again with a different prompt and/or seed.\n"
     ]
    },
    {
     "name": "stdout",
     "output_type": "stream",
     "text": [
      "Saved Snoopy-style image: stylized_images2/000072.jpg\n"
     ]
    },
    {
     "name": "stderr",
     "output_type": "stream",
     "text": [
      "The following part of your input was truncated because CLIP can only handle sequences up to 77 tokens: ['the snoopy universe — simple lines , soft colors , big expressive eyes , and a cute , dog - like cartoon form .']\n"
     ]
    },
    {
     "name": "stdout",
     "output_type": "stream",
     "text": [
      "Generated description for 000053.jpg: What is shown in this image?A person with dark hair and sunglasses wearing a black\n"
     ]
    },
    {
     "name": "stderr",
     "output_type": "stream",
     "text": [
      "100%|██████████| 35/35 [00:01<00:00, 25.74it/s]\n",
      "Potential NSFW content was detected in one or more images. A black image will be returned instead. Try again with a different prompt and/or seed.\n"
     ]
    },
    {
     "name": "stdout",
     "output_type": "stream",
     "text": [
      "Saved Snoopy-style image: stylized_images2/000053.jpg\n"
     ]
    },
    {
     "name": "stderr",
     "output_type": "stream",
     "text": [
      "The following part of your input was truncated because CLIP can only handle sequences up to 77 tokens: ['the snoopy universe — simple lines , soft colors , big expressive eyes , and a cute , dog - like cartoon form .']\n"
     ]
    },
    {
     "name": "stdout",
     "output_type": "stream",
     "text": [
      "Generated description for 000028.jpg: What is shown in this image?A person with brown hair. The background includes a\n"
     ]
    },
    {
     "name": "stderr",
     "output_type": "stream",
     "text": [
      "100%|██████████| 35/35 [00:01<00:00, 25.81it/s]\n",
      "Potential NSFW content was detected in one or more images. A black image will be returned instead. Try again with a different prompt and/or seed.\n"
     ]
    },
    {
     "name": "stdout",
     "output_type": "stream",
     "text": [
      "Saved Snoopy-style image: stylized_images2/000028.jpg\n"
     ]
    },
    {
     "name": "stderr",
     "output_type": "stream",
     "text": [
      "The following part of your input was truncated because CLIP can only handle sequences up to 77 tokens: ['the snoopy universe — simple lines , soft colors , big expressive eyes , and a cute , dog - like cartoon form .']\n"
     ]
    },
    {
     "name": "stdout",
     "output_type": "stream",
     "text": [
      "Generated description for 000044.jpg: What is shown in this image?The image shows a person with curly hair surrounded by\n"
     ]
    },
    {
     "name": "stderr",
     "output_type": "stream",
     "text": [
      "100%|██████████| 35/35 [00:01<00:00, 25.80it/s]\n"
     ]
    },
    {
     "name": "stdout",
     "output_type": "stream",
     "text": [
      "Saved Snoopy-style image: stylized_images2/000044.jpg\n"
     ]
    },
    {
     "name": "stderr",
     "output_type": "stream",
     "text": [
      "The following part of your input was truncated because CLIP can only handle sequences up to 77 tokens: ['the snoopy universe — simple lines , soft colors , big expressive eyes , and a cute , dog - like cartoon form .']\n"
     ]
    },
    {
     "name": "stdout",
     "output_type": "stream",
     "text": [
      "Generated description for 000046.jpg: What is shown in this image?The image shows a person with dark hair wearing a\n"
     ]
    },
    {
     "name": "stderr",
     "output_type": "stream",
     "text": [
      "100%|██████████| 35/35 [00:01<00:00, 25.56it/s]\n"
     ]
    },
    {
     "name": "stdout",
     "output_type": "stream",
     "text": [
      "Saved Snoopy-style image: stylized_images2/000046.jpg\n"
     ]
    },
    {
     "name": "stderr",
     "output_type": "stream",
     "text": [
      "The following part of your input was truncated because CLIP can only handle sequences up to 77 tokens: ['the snoopy universe — simple lines , soft colors , big expressive eyes , and a cute , dog - like cartoon form .']\n"
     ]
    },
    {
     "name": "stdout",
     "output_type": "stream",
     "text": [
      "Generated description for 000076.jpg: What is shown in this image?The image shows a person with dark hair wearing earrings\n"
     ]
    },
    {
     "name": "stderr",
     "output_type": "stream",
     "text": [
      "100%|██████████| 35/35 [00:01<00:00, 25.77it/s]\n"
     ]
    },
    {
     "name": "stdout",
     "output_type": "stream",
     "text": [
      "Saved Snoopy-style image: stylized_images2/000076.jpg\n"
     ]
    },
    {
     "name": "stderr",
     "output_type": "stream",
     "text": [
      "The following part of your input was truncated because CLIP can only handle sequences up to 77 tokens: ['the snoopy universe — simple lines , soft colors , big expressive eyes , and a cute , dog - like cartoon form .']\n"
     ]
    },
    {
     "name": "stdout",
     "output_type": "stream",
     "text": [
      "Generated description for 000004.jpg: What is shown in this image?A person with a dark hairstyle, wearing what appears\n"
     ]
    },
    {
     "name": "stderr",
     "output_type": "stream",
     "text": [
      "100%|██████████| 35/35 [00:01<00:00, 25.72it/s]\n"
     ]
    },
    {
     "name": "stdout",
     "output_type": "stream",
     "text": [
      "Saved Snoopy-style image: stylized_images2/000004.jpg\n"
     ]
    },
    {
     "name": "stderr",
     "output_type": "stream",
     "text": [
      "The following part of your input was truncated because CLIP can only handle sequences up to 77 tokens: ['the snoopy universe — simple lines , soft colors , big expressive eyes , and a cute , dog - like cartoon form .']\n"
     ]
    },
    {
     "name": "stdout",
     "output_type": "stream",
     "text": [
      "Generated description for 000024.jpg: What is shown in this image?A woman with blonde hair and a serious expression.\n"
     ]
    },
    {
     "name": "stderr",
     "output_type": "stream",
     "text": [
      "100%|██████████| 35/35 [00:01<00:00, 25.75it/s]\n"
     ]
    },
    {
     "name": "stdout",
     "output_type": "stream",
     "text": [
      "Saved Snoopy-style image: stylized_images2/000024.jpg\n"
     ]
    },
    {
     "name": "stderr",
     "output_type": "stream",
     "text": [
      "The following part of your input was truncated because CLIP can only handle sequences up to 77 tokens: ['snoopy universe — simple lines , soft colors , big expressive eyes , and a cute , dog - like cartoon form .']\n"
     ]
    },
    {
     "name": "stdout",
     "output_type": "stream",
     "text": [
      "Generated description for 000060.jpg: What is shown in this image?A person wearing a patterned headscarf and a\n"
     ]
    },
    {
     "name": "stderr",
     "output_type": "stream",
     "text": [
      "100%|██████████| 35/35 [00:01<00:00, 25.77it/s]\n"
     ]
    },
    {
     "name": "stdout",
     "output_type": "stream",
     "text": [
      "Saved Snoopy-style image: stylized_images2/000060.jpg\n"
     ]
    },
    {
     "name": "stderr",
     "output_type": "stream",
     "text": [
      "The following part of your input was truncated because CLIP can only handle sequences up to 77 tokens: ['the snoopy universe — simple lines , soft colors , big expressive eyes , and a cute , dog - like cartoon form .']\n"
     ]
    },
    {
     "name": "stdout",
     "output_type": "stream",
     "text": [
      "Generated description for 000088.jpg: What is shown in this image?The image shows a person with long brown hair wearing\n"
     ]
    },
    {
     "name": "stderr",
     "output_type": "stream",
     "text": [
      "100%|██████████| 35/35 [00:01<00:00, 25.81it/s]\n"
     ]
    },
    {
     "name": "stdout",
     "output_type": "stream",
     "text": [
      "Saved Snoopy-style image: stylized_images2/000088.jpg\n"
     ]
    },
    {
     "name": "stderr",
     "output_type": "stream",
     "text": [
      "The following part of your input was truncated because CLIP can only handle sequences up to 77 tokens: ['snoopy universe — simple lines , soft colors , big expressive eyes , and a cute , dog - like cartoon form .']\n"
     ]
    },
    {
     "name": "stdout",
     "output_type": "stream",
     "text": [
      "Generated description for 000045.jpg: What is shown in this image?The image shows a person with long, wavy\n"
     ]
    },
    {
     "name": "stderr",
     "output_type": "stream",
     "text": [
      "100%|██████████| 35/35 [00:01<00:00, 25.77it/s]\n"
     ]
    },
    {
     "name": "stdout",
     "output_type": "stream",
     "text": [
      "Saved Snoopy-style image: stylized_images2/000045.jpg\n"
     ]
    },
    {
     "name": "stderr",
     "output_type": "stream",
     "text": [
      "The following part of your input was truncated because CLIP can only handle sequences up to 77 tokens: ['the snoopy universe — simple lines , soft colors , big expressive eyes , and a cute , dog - like cartoon form .']\n"
     ]
    },
    {
     "name": "stdout",
     "output_type": "stream",
     "text": [
      "Generated description for 000015.jpg: What is shown in this image?The image shows a person wearing a blue suit with\n"
     ]
    },
    {
     "name": "stderr",
     "output_type": "stream",
     "text": [
      "100%|██████████| 35/35 [00:01<00:00, 25.75it/s]\n",
      "Potential NSFW content was detected in one or more images. A black image will be returned instead. Try again with a different prompt and/or seed.\n"
     ]
    },
    {
     "name": "stdout",
     "output_type": "stream",
     "text": [
      "Saved Snoopy-style image: stylized_images2/000015.jpg\n"
     ]
    },
    {
     "name": "stderr",
     "output_type": "stream",
     "text": [
      "The following part of your input was truncated because CLIP can only handle sequences up to 77 tokens: ['the snoopy universe — simple lines , soft colors , big expressive eyes , and a cute , dog - like cartoon form .']\n"
     ]
    },
    {
     "name": "stdout",
     "output_type": "stream",
     "text": [
      "Generated description for 000082.jpg: What is shown in this image?A man with dark hair and a green shirt,\n"
     ]
    },
    {
     "name": "stderr",
     "output_type": "stream",
     "text": [
      "100%|██████████| 35/35 [00:01<00:00, 25.74it/s]\n",
      "Potential NSFW content was detected in one or more images. A black image will be returned instead. Try again with a different prompt and/or seed.\n"
     ]
    },
    {
     "name": "stdout",
     "output_type": "stream",
     "text": [
      "Saved Snoopy-style image: stylized_images2/000082.jpg\n"
     ]
    },
    {
     "name": "stderr",
     "output_type": "stream",
     "text": [
      "The following part of your input was truncated because CLIP can only handle sequences up to 77 tokens: ['the snoopy universe — simple lines , soft colors , big expressive eyes , and a cute , dog - like cartoon form .']\n"
     ]
    },
    {
     "name": "stdout",
     "output_type": "stream",
     "text": [
      "Generated description for 000038.jpg: What is shown in this image?A person with short dark hair, wearing a black\n"
     ]
    },
    {
     "name": "stderr",
     "output_type": "stream",
     "text": [
      "100%|██████████| 35/35 [00:01<00:00, 25.77it/s]\n"
     ]
    },
    {
     "name": "stdout",
     "output_type": "stream",
     "text": [
      "Saved Snoopy-style image: stylized_images2/000038.jpg\n"
     ]
    },
    {
     "name": "stderr",
     "output_type": "stream",
     "text": [
      "The following part of your input was truncated because CLIP can only handle sequences up to 77 tokens: ['the snoopy universe — simple lines , soft colors , big expressive eyes , and a cute , dog - like cartoon form .']\n"
     ]
    },
    {
     "name": "stdout",
     "output_type": "stream",
     "text": [
      "Generated description for 000064.jpg: What is shown in this image?The image shows a person with short, dark hair\n"
     ]
    },
    {
     "name": "stderr",
     "output_type": "stream",
     "text": [
      "100%|██████████| 35/35 [00:01<00:00, 25.80it/s]\n"
     ]
    },
    {
     "name": "stdout",
     "output_type": "stream",
     "text": [
      "Saved Snoopy-style image: stylized_images2/000064.jpg\n"
     ]
    },
    {
     "name": "stderr",
     "output_type": "stream",
     "text": [
      "The following part of your input was truncated because CLIP can only handle sequences up to 77 tokens: ['the snoopy universe — simple lines , soft colors , big expressive eyes , and a cute , dog - like cartoon form .']\n"
     ]
    },
    {
     "name": "stdout",
     "output_type": "stream",
     "text": [
      "Generated description for 000027.jpg: What is shown in this image?A portrait of a smiling woman with long hair.\n"
     ]
    },
    {
     "name": "stderr",
     "output_type": "stream",
     "text": [
      "100%|██████████| 35/35 [00:01<00:00, 25.77it/s]\n"
     ]
    },
    {
     "name": "stdout",
     "output_type": "stream",
     "text": [
      "Saved Snoopy-style image: stylized_images2/000027.jpg\n"
     ]
    },
    {
     "name": "stderr",
     "output_type": "stream",
     "text": [
      "The following part of your input was truncated because CLIP can only handle sequences up to 77 tokens: ['snoopy universe — simple lines , soft colors , big expressive eyes , and a cute , dog - like cartoon form .']\n"
     ]
    },
    {
     "name": "stdout",
     "output_type": "stream",
     "text": [
      "Generated description for 000014.jpg: What is shown in this image?A person wearing a black sleeveless top and gold\n"
     ]
    },
    {
     "name": "stderr",
     "output_type": "stream",
     "text": [
      "100%|██████████| 35/35 [00:01<00:00, 25.76it/s]\n",
      "Potential NSFW content was detected in one or more images. A black image will be returned instead. Try again with a different prompt and/or seed.\n"
     ]
    },
    {
     "name": "stdout",
     "output_type": "stream",
     "text": [
      "Saved Snoopy-style image: stylized_images2/000014.jpg\n"
     ]
    },
    {
     "name": "stderr",
     "output_type": "stream",
     "text": [
      "The following part of your input was truncated because CLIP can only handle sequences up to 77 tokens: ['in the snoopy universe — simple lines , soft colors , big expressive eyes , and a cute , dog - like cartoon form .']\n"
     ]
    },
    {
     "name": "stdout",
     "output_type": "stream",
     "text": [
      "Generated description for 000013.jpg: What is shown in this image?The image shows a person with short, light-colored\n"
     ]
    },
    {
     "name": "stderr",
     "output_type": "stream",
     "text": [
      "100%|██████████| 35/35 [00:01<00:00, 25.34it/s]\n"
     ]
    },
    {
     "name": "stdout",
     "output_type": "stream",
     "text": [
      "Saved Snoopy-style image: stylized_images2/000013.jpg\n"
     ]
    },
    {
     "name": "stderr",
     "output_type": "stream",
     "text": [
      "The following part of your input was truncated because CLIP can only handle sequences up to 77 tokens: ['the snoopy universe — simple lines , soft colors , big expressive eyes , and a cute , dog - like cartoon form .']\n"
     ]
    },
    {
     "name": "stdout",
     "output_type": "stream",
     "text": [
      "Generated description for 000086.jpg: What is shown in this image?The image shows a person from the back, wearing\n"
     ]
    },
    {
     "name": "stderr",
     "output_type": "stream",
     "text": [
      "100%|██████████| 35/35 [00:01<00:00, 25.63it/s]\n"
     ]
    },
    {
     "name": "stdout",
     "output_type": "stream",
     "text": [
      "Saved Snoopy-style image: stylized_images2/000086.jpg\n"
     ]
    },
    {
     "name": "stderr",
     "output_type": "stream",
     "text": [
      "The following part of your input was truncated because CLIP can only handle sequences up to 77 tokens: ['the snoopy universe — simple lines , soft colors , big expressive eyes , and a cute , dog - like cartoon form .']\n"
     ]
    },
    {
     "name": "stdout",
     "output_type": "stream",
     "text": [
      "Generated description for 000030.jpg: What is shown in this image?The image shows a person with short, curly hair\n"
     ]
    },
    {
     "name": "stderr",
     "output_type": "stream",
     "text": [
      "100%|██████████| 35/35 [00:01<00:00, 24.90it/s]\n",
      "Potential NSFW content was detected in one or more images. A black image will be returned instead. Try again with a different prompt and/or seed.\n"
     ]
    },
    {
     "name": "stdout",
     "output_type": "stream",
     "text": [
      "Saved Snoopy-style image: stylized_images2/000030.jpg\n"
     ]
    },
    {
     "name": "stderr",
     "output_type": "stream",
     "text": [
      "The following part of your input was truncated because CLIP can only handle sequences up to 77 tokens: ['in the snoopy universe — simple lines , soft colors , big expressive eyes , and a cute , dog - like cartoon form .']\n"
     ]
    },
    {
     "name": "stdout",
     "output_type": "stream",
     "text": [
      "Generated description for 000006.jpg: What is shown in this image?The image shows a close-up of an individual with\n"
     ]
    },
    {
     "name": "stderr",
     "output_type": "stream",
     "text": [
      "100%|██████████| 35/35 [00:01<00:00, 25.74it/s]\n"
     ]
    },
    {
     "name": "stdout",
     "output_type": "stream",
     "text": [
      "Saved Snoopy-style image: stylized_images2/000006.jpg\n"
     ]
    },
    {
     "name": "stderr",
     "output_type": "stream",
     "text": [
      "The following part of your input was truncated because CLIP can only handle sequences up to 77 tokens: ['the snoopy universe — simple lines , soft colors , big expressive eyes , and a cute , dog - like cartoon form .']\n"
     ]
    },
    {
     "name": "stdout",
     "output_type": "stream",
     "text": [
      "Generated description for 000023.jpg: What is shown in this image?The image shows a person wearing what appears to be\n"
     ]
    },
    {
     "name": "stderr",
     "output_type": "stream",
     "text": [
      "100%|██████████| 35/35 [00:01<00:00, 25.78it/s]\n",
      "Potential NSFW content was detected in one or more images. A black image will be returned instead. Try again with a different prompt and/or seed.\n"
     ]
    },
    {
     "name": "stdout",
     "output_type": "stream",
     "text": [
      "Saved Snoopy-style image: stylized_images2/000023.jpg\n"
     ]
    },
    {
     "name": "stderr",
     "output_type": "stream",
     "text": [
      "The following part of your input was truncated because CLIP can only handle sequences up to 77 tokens: ['the snoopy universe — simple lines , soft colors , big expressive eyes , and a cute , dog - like cartoon form .']\n"
     ]
    },
    {
     "name": "stdout",
     "output_type": "stream",
     "text": [
      "Generated description for 000078.jpg: What is shown in this image?A woman with dark hair and red lipstick, wearing\n"
     ]
    },
    {
     "name": "stderr",
     "output_type": "stream",
     "text": [
      "100%|██████████| 35/35 [00:01<00:00, 25.00it/s]\n",
      "Potential NSFW content was detected in one or more images. A black image will be returned instead. Try again with a different prompt and/or seed.\n"
     ]
    },
    {
     "name": "stdout",
     "output_type": "stream",
     "text": [
      "Saved Snoopy-style image: stylized_images2/000078.jpg\n"
     ]
    },
    {
     "name": "stderr",
     "output_type": "stream",
     "text": [
      "The following part of your input was truncated because CLIP can only handle sequences up to 77 tokens: ['the snoopy universe — simple lines , soft colors , big expressive eyes , and a cute , dog - like cartoon form .']\n"
     ]
    },
    {
     "name": "stdout",
     "output_type": "stream",
     "text": [
      "Generated description for 000051.jpg: What is shown in this image?The image shows a man with white hair and must\n"
     ]
    },
    {
     "name": "stderr",
     "output_type": "stream",
     "text": [
      "100%|██████████| 35/35 [00:01<00:00, 25.01it/s]\n"
     ]
    },
    {
     "name": "stdout",
     "output_type": "stream",
     "text": [
      "Saved Snoopy-style image: stylized_images2/000051.jpg\n"
     ]
    },
    {
     "name": "stderr",
     "output_type": "stream",
     "text": [
      "The following part of your input was truncated because CLIP can only handle sequences up to 77 tokens: ['simple lines , soft colors , big expressive eyes , and a cute , dog - like cartoon form .']\n"
     ]
    },
    {
     "name": "stdout",
     "output_type": "stream",
     "text": [
      "Generated description for 000022.jpg: What is shown in this image?A person with blonde hair.\n"
     ]
    },
    {
     "name": "stderr",
     "output_type": "stream",
     "text": [
      "100%|██████████| 35/35 [00:01<00:00, 24.96it/s]\n"
     ]
    },
    {
     "name": "stdout",
     "output_type": "stream",
     "text": [
      "Saved Snoopy-style image: stylized_images2/000022.jpg\n"
     ]
    },
    {
     "name": "stderr",
     "output_type": "stream",
     "text": [
      "The following part of your input was truncated because CLIP can only handle sequences up to 77 tokens: ['the snoopy universe — simple lines , soft colors , big expressive eyes , and a cute , dog - like cartoon form .']\n"
     ]
    },
    {
     "name": "stdout",
     "output_type": "stream",
     "text": [
      "Generated description for 000047.jpg: What is shown in this image?A woman with long dark hair and hoop earrings.\n"
     ]
    },
    {
     "name": "stderr",
     "output_type": "stream",
     "text": [
      "100%|██████████| 35/35 [00:01<00:00, 24.78it/s]\n"
     ]
    },
    {
     "name": "stdout",
     "output_type": "stream",
     "text": [
      "Saved Snoopy-style image: stylized_images2/000047.jpg\n"
     ]
    },
    {
     "name": "stderr",
     "output_type": "stream",
     "text": [
      "The following part of your input was truncated because CLIP can only handle sequences up to 77 tokens: ['the snoopy universe — simple lines , soft colors , big expressive eyes , and a cute , dog - like cartoon form .']\n"
     ]
    },
    {
     "name": "stdout",
     "output_type": "stream",
     "text": [
      "Generated description for 000008.jpg: What is shown in this image?The image shows a man with dark hair, wearing\n"
     ]
    },
    {
     "name": "stderr",
     "output_type": "stream",
     "text": [
      "100%|██████████| 35/35 [00:01<00:00, 25.40it/s]\n",
      "Potential NSFW content was detected in one or more images. A black image will be returned instead. Try again with a different prompt and/or seed.\n"
     ]
    },
    {
     "name": "stdout",
     "output_type": "stream",
     "text": [
      "Saved Snoopy-style image: stylized_images2/000008.jpg\n"
     ]
    },
    {
     "name": "stderr",
     "output_type": "stream",
     "text": [
      "The following part of your input was truncated because CLIP can only handle sequences up to 77 tokens: ['the snoopy universe — simple lines , soft colors , big expressive eyes , and a cute , dog - like cartoon form .']\n"
     ]
    },
    {
     "name": "stdout",
     "output_type": "stream",
     "text": [
      "Generated description for 000077.jpg: What is shown in this image?A woman with dark hair and a neutral expression.\n"
     ]
    },
    {
     "name": "stderr",
     "output_type": "stream",
     "text": [
      "100%|██████████| 35/35 [00:01<00:00, 25.50it/s]\n"
     ]
    },
    {
     "name": "stdout",
     "output_type": "stream",
     "text": [
      "Saved Snoopy-style image: stylized_images2/000077.jpg\n"
     ]
    },
    {
     "name": "stderr",
     "output_type": "stream",
     "text": [
      "The following part of your input was truncated because CLIP can only handle sequences up to 77 tokens: ['the snoopy universe — simple lines , soft colors , big expressive eyes , and a cute , dog - like cartoon form .']\n"
     ]
    },
    {
     "name": "stdout",
     "output_type": "stream",
     "text": [
      "Generated description for 000017.jpg: What is shown in this image?A person holding a medal. The background appears to\n"
     ]
    },
    {
     "name": "stderr",
     "output_type": "stream",
     "text": [
      "100%|██████████| 35/35 [00:01<00:00, 25.79it/s]\n"
     ]
    },
    {
     "name": "stdout",
     "output_type": "stream",
     "text": [
      "Saved Snoopy-style image: stylized_images2/000017.jpg\n"
     ]
    },
    {
     "name": "stderr",
     "output_type": "stream",
     "text": [
      "The following part of your input was truncated because CLIP can only handle sequences up to 77 tokens: ['the snoopy universe — simple lines , soft colors , big expressive eyes , and a cute , dog - like cartoon form .']\n"
     ]
    },
    {
     "name": "stdout",
     "output_type": "stream",
     "text": [
      "Generated description for 000050.jpg: What is shown in this image?A man with dark hair, wearing a blue shirt\n"
     ]
    },
    {
     "name": "stderr",
     "output_type": "stream",
     "text": [
      "100%|██████████| 35/35 [00:01<00:00, 25.48it/s]\n",
      "Potential NSFW content was detected in one or more images. A black image will be returned instead. Try again with a different prompt and/or seed.\n"
     ]
    },
    {
     "name": "stdout",
     "output_type": "stream",
     "text": [
      "Saved Snoopy-style image: stylized_images2/000050.jpg\n"
     ]
    },
    {
     "name": "stderr",
     "output_type": "stream",
     "text": [
      "The following part of your input was truncated because CLIP can only handle sequences up to 77 tokens: ['the snoopy universe — simple lines , soft colors , big expressive eyes , and a cute , dog - like cartoon form .']\n"
     ]
    },
    {
     "name": "stdout",
     "output_type": "stream",
     "text": [
      "Generated description for 000065.jpg: What is shown in this image?The image shows a person wearing a green shirt.\n"
     ]
    },
    {
     "name": "stderr",
     "output_type": "stream",
     "text": [
      "100%|██████████| 35/35 [00:01<00:00, 25.48it/s]\n"
     ]
    },
    {
     "name": "stdout",
     "output_type": "stream",
     "text": [
      "Saved Snoopy-style image: stylized_images2/000065.jpg\n"
     ]
    },
    {
     "name": "stderr",
     "output_type": "stream",
     "text": [
      "The following part of your input was truncated because CLIP can only handle sequences up to 77 tokens: ['the snoopy universe — simple lines , soft colors , big expressive eyes , and a cute , dog - like cartoon form .']\n"
     ]
    },
    {
     "name": "stdout",
     "output_type": "stream",
     "text": [
      "Generated description for 000055.jpg: What is shown in this image?A man with dark hair, wearing a black suit\n"
     ]
    },
    {
     "name": "stderr",
     "output_type": "stream",
     "text": [
      "100%|██████████| 35/35 [00:01<00:00, 25.08it/s]\n",
      "Potential NSFW content was detected in one or more images. A black image will be returned instead. Try again with a different prompt and/or seed.\n"
     ]
    },
    {
     "name": "stdout",
     "output_type": "stream",
     "text": [
      "Saved Snoopy-style image: stylized_images2/000055.jpg\n"
     ]
    },
    {
     "name": "stderr",
     "output_type": "stream",
     "text": [
      "The following part of your input was truncated because CLIP can only handle sequences up to 77 tokens: ['the snoopy universe — simple lines , soft colors , big expressive eyes , and a cute , dog - like cartoon form .']\n"
     ]
    },
    {
     "name": "stdout",
     "output_type": "stream",
     "text": [
      "Generated description for 000069.jpg: What is shown in this image?The image shows a person with dark hair and light\n"
     ]
    },
    {
     "name": "stderr",
     "output_type": "stream",
     "text": [
      "100%|██████████| 35/35 [00:01<00:00, 25.40it/s]\n",
      "Potential NSFW content was detected in one or more images. A black image will be returned instead. Try again with a different prompt and/or seed.\n"
     ]
    },
    {
     "name": "stdout",
     "output_type": "stream",
     "text": [
      "Saved Snoopy-style image: stylized_images2/000069.jpg\n"
     ]
    },
    {
     "name": "stderr",
     "output_type": "stream",
     "text": [
      "The following part of your input was truncated because CLIP can only handle sequences up to 77 tokens: ['the snoopy universe — simple lines , soft colors , big expressive eyes , and a cute , dog - like cartoon form .']\n"
     ]
    },
    {
     "name": "stdout",
     "output_type": "stream",
     "text": [
      "Generated description for 000087.jpg: What is shown in this image?A person with a blurred face, likely at an\n"
     ]
    },
    {
     "name": "stderr",
     "output_type": "stream",
     "text": [
      "100%|██████████| 35/35 [00:01<00:00, 24.76it/s]\n",
      "Potential NSFW content was detected in one or more images. A black image will be returned instead. Try again with a different prompt and/or seed.\n"
     ]
    },
    {
     "name": "stdout",
     "output_type": "stream",
     "text": [
      "Saved Snoopy-style image: stylized_images2/000087.jpg\n"
     ]
    },
    {
     "name": "stderr",
     "output_type": "stream",
     "text": [
      "The following part of your input was truncated because CLIP can only handle sequences up to 77 tokens: ['in the snoopy universe — simple lines , soft colors , big expressive eyes , and a cute , dog - like cartoon form .']\n"
     ]
    },
    {
     "name": "stdout",
     "output_type": "stream",
     "text": [
      "Generated description for 000066.jpg: What is shown in this image?The face of a person. The person's hair,\n"
     ]
    },
    {
     "name": "stderr",
     "output_type": "stream",
     "text": [
      "100%|██████████| 35/35 [00:01<00:00, 24.73it/s]\n",
      "Potential NSFW content was detected in one or more images. A black image will be returned instead. Try again with a different prompt and/or seed.\n"
     ]
    },
    {
     "name": "stdout",
     "output_type": "stream",
     "text": [
      "Saved Snoopy-style image: stylized_images2/000066.jpg\n"
     ]
    },
    {
     "name": "stderr",
     "output_type": "stream",
     "text": [
      "The following part of your input was truncated because CLIP can only handle sequences up to 77 tokens: ['the snoopy universe — simple lines , soft colors , big expressive eyes , and a cute , dog - like cartoon form .']\n"
     ]
    },
    {
     "name": "stdout",
     "output_type": "stream",
     "text": [
      "Generated description for 000098.jpg: What is shown in this image?The image shows a person with long, dark hair\n"
     ]
    },
    {
     "name": "stderr",
     "output_type": "stream",
     "text": [
      "100%|██████████| 35/35 [00:01<00:00, 22.84it/s]\n",
      "Potential NSFW content was detected in one or more images. A black image will be returned instead. Try again with a different prompt and/or seed.\n"
     ]
    },
    {
     "name": "stdout",
     "output_type": "stream",
     "text": [
      "Saved Snoopy-style image: stylized_images2/000098.jpg\n"
     ]
    },
    {
     "name": "stderr",
     "output_type": "stream",
     "text": [
      "The following part of your input was truncated because CLIP can only handle sequences up to 77 tokens: ['the snoopy universe — simple lines , soft colors , big expressive eyes , and a cute , dog - like cartoon form .']\n"
     ]
    },
    {
     "name": "stdout",
     "output_type": "stream",
     "text": [
      "Generated description for 000042.jpg: What is shown in this image?The image shows a person with blonde hair styled to\n"
     ]
    },
    {
     "name": "stderr",
     "output_type": "stream",
     "text": [
      "100%|██████████| 35/35 [00:01<00:00, 23.27it/s]\n",
      "Potential NSFW content was detected in one or more images. A black image will be returned instead. Try again with a different prompt and/or seed.\n"
     ]
    },
    {
     "name": "stdout",
     "output_type": "stream",
     "text": [
      "Saved Snoopy-style image: stylized_images2/000042.jpg\n"
     ]
    },
    {
     "name": "stderr",
     "output_type": "stream",
     "text": [
      "The following part of your input was truncated because CLIP can only handle sequences up to 77 tokens: ['the snoopy universe — simple lines , soft colors , big expressive eyes , and a cute , dog - like cartoon form .']\n"
     ]
    },
    {
     "name": "stdout",
     "output_type": "stream",
     "text": [
      "Generated description for 000097.jpg: What is shown in this image?The image shows a person with brown hair, wearing\n"
     ]
    },
    {
     "name": "stderr",
     "output_type": "stream",
     "text": [
      "100%|██████████| 35/35 [00:01<00:00, 25.31it/s]\n"
     ]
    },
    {
     "name": "stdout",
     "output_type": "stream",
     "text": [
      "Saved Snoopy-style image: stylized_images2/000097.jpg\n"
     ]
    },
    {
     "name": "stderr",
     "output_type": "stream",
     "text": [
      "The following part of your input was truncated because CLIP can only handle sequences up to 77 tokens: ['the snoopy universe — simple lines , soft colors , big expressive eyes , and a cute , dog - like cartoon form .']\n"
     ]
    },
    {
     "name": "stdout",
     "output_type": "stream",
     "text": [
      "Generated description for 000096.jpg: What is shown in this image?The image shows a person with dark, curly hair\n"
     ]
    },
    {
     "name": "stderr",
     "output_type": "stream",
     "text": [
      "100%|██████████| 35/35 [00:01<00:00, 25.22it/s]\n"
     ]
    },
    {
     "name": "stdout",
     "output_type": "stream",
     "text": [
      "Saved Snoopy-style image: stylized_images2/000096.jpg\n"
     ]
    },
    {
     "name": "stderr",
     "output_type": "stream",
     "text": [
      "The following part of your input was truncated because CLIP can only handle sequences up to 77 tokens: ['simple lines , soft colors , big expressive eyes , and a cute , dog - like cartoon form .']\n"
     ]
    },
    {
     "name": "stdout",
     "output_type": "stream",
     "text": [
      "Generated description for 000002.jpg: What is shown in this image?A person with red hair.\n"
     ]
    },
    {
     "name": "stderr",
     "output_type": "stream",
     "text": [
      "100%|██████████| 35/35 [00:01<00:00, 25.67it/s]\n"
     ]
    },
    {
     "name": "stdout",
     "output_type": "stream",
     "text": [
      "Saved Snoopy-style image: stylized_images2/000002.jpg\n"
     ]
    },
    {
     "name": "stderr",
     "output_type": "stream",
     "text": [
      "The following part of your input was truncated because CLIP can only handle sequences up to 77 tokens: ['simple lines , soft colors , big expressive eyes , and a cute , dog - like cartoon form .']\n"
     ]
    },
    {
     "name": "stdout",
     "output_type": "stream",
     "text": [
      "Generated description for 000049.jpg: What is shown in this image?The face of a man.\n"
     ]
    },
    {
     "name": "stderr",
     "output_type": "stream",
     "text": [
      "100%|██████████| 35/35 [00:01<00:00, 25.74it/s]\n",
      "Potential NSFW content was detected in one or more images. A black image will be returned instead. Try again with a different prompt and/or seed.\n"
     ]
    },
    {
     "name": "stdout",
     "output_type": "stream",
     "text": [
      "Saved Snoopy-style image: stylized_images2/000049.jpg\n"
     ]
    },
    {
     "name": "stderr",
     "output_type": "stream",
     "text": [
      "The following part of your input was truncated because CLIP can only handle sequences up to 77 tokens: ['the snoopy universe — simple lines , soft colors , big expressive eyes , and a cute , dog - like cartoon form .']\n"
     ]
    },
    {
     "name": "stdout",
     "output_type": "stream",
     "text": [
      "Generated description for 000063.jpg: What is shown in this image?The image shows a person with long, blonde hair\n"
     ]
    },
    {
     "name": "stderr",
     "output_type": "stream",
     "text": [
      "100%|██████████| 35/35 [00:01<00:00, 24.96it/s]\n"
     ]
    },
    {
     "name": "stdout",
     "output_type": "stream",
     "text": [
      "Saved Snoopy-style image: stylized_images2/000063.jpg\n"
     ]
    },
    {
     "name": "stderr",
     "output_type": "stream",
     "text": [
      "The following part of your input was truncated because CLIP can only handle sequences up to 77 tokens: ['the snoopy universe — simple lines , soft colors , big expressive eyes , and a cute , dog - like cartoon form .']\n"
     ]
    },
    {
     "name": "stdout",
     "output_type": "stream",
     "text": [
      "Generated description for 000040.jpg: What is shown in this image?The image shows a person with their face blurred out\n"
     ]
    },
    {
     "name": "stderr",
     "output_type": "stream",
     "text": [
      "100%|██████████| 35/35 [00:01<00:00, 25.77it/s]\n",
      "Potential NSFW content was detected in one or more images. A black image will be returned instead. Try again with a different prompt and/or seed.\n"
     ]
    },
    {
     "name": "stdout",
     "output_type": "stream",
     "text": [
      "Saved Snoopy-style image: stylized_images2/000040.jpg\n"
     ]
    },
    {
     "name": "stderr",
     "output_type": "stream",
     "text": [
      "The following part of your input was truncated because CLIP can only handle sequences up to 77 tokens: ['the snoopy universe — simple lines , soft colors , big expressive eyes , and a cute , dog - like cartoon form .']\n"
     ]
    },
    {
     "name": "stdout",
     "output_type": "stream",
     "text": [
      "Generated description for 000001.jpg: What is shown in this image?The image shows a person with long, light brown\n"
     ]
    },
    {
     "name": "stderr",
     "output_type": "stream",
     "text": [
      "100%|██████████| 35/35 [00:01<00:00, 25.72it/s]\n"
     ]
    },
    {
     "name": "stdout",
     "output_type": "stream",
     "text": [
      "Saved Snoopy-style image: stylized_images2/000001.jpg\n"
     ]
    }
   ],
   "source": [
    "import os\n",
    "from PIL import Image\n",
    "\n",
    "# Define directories\n",
    "input_folder = \"content_image\"\n",
    "output_folder = \"stylized_images2\"\n",
    "\n",
    "# Create the output directory if it doesn't exist\n",
    "os.makedirs(output_folder, exist_ok=True)\n",
    "\n",
    "# Iterate through all images in input_folder\n",
    "for image_file in os.listdir(input_folder):\n",
    "    if image_file.lower().endswith((\".jpg\", \".jpeg\", \".png\")):\n",
    "        image_path = os.path.join(input_folder, image_file)\n",
    "        \n",
    "        # Load and preprocess image\n",
    "        content_image = Image.open(image_path).convert(\"RGB\").resize((512, 512))\n",
    "\n",
    "        # Phi-4: Generate descriptive text prompt\n",
    "        inputs = processor(images=content_image, text=instruction, return_tensors=\"pt\").to(\"cuda\", torch.float16)\n",
    "        generated_ids = phi_model.generate(\n",
    "            **inputs,\n",
    "            max_new_tokens=10,\n",
    "            temperature=0.8,\n",
    "            do_sample=True,\n",
    "            top_p=0.9,\n",
    "            repetition_penalty=1.1\n",
    "        )\n",
    "        description = processor.batch_decode(generated_ids, skip_special_tokens=True)[0]\n",
    "        description = description.replace(instruction, \"\").strip()\n",
    "        print(f\"Generated description for {image_file}: {description}\")\n",
    "\n",
    "        # Combine description into Snoopy-style prompt\n",
    "        # Combine description into Snoopy-style prompt\n",
    "        snoopy_prompt = (\n",
    "            f\"A Snoopy-style illustration version by Charles M. Schulz of:{description} . Keep their unique features like hairstyle, clothing style, and overall pose, but render them in the cartoonish, minimalistic style of Charles Schulz's Peanuts comic strip. The final image should look like the character belongs in the Snoopy universe—simple lines, soft colors, big expressive eyes, and a cute, dog-like cartoon form.\"\n",
    "        )\n",
    "        # Stable Diffusion: Generate stylized Snoopy-style image\n",
    "        # Generate new stylized image based on your image\n",
    "        image = I2Ipipe(\n",
    "            prompt=snoopy_prompt,\n",
    "            image=content_image,\n",
    "            strength=0.7,  # how much you want it changed (0.6~0.8 recommended)\n",
    "            guidance_scale=7.5\n",
    "        ).images[0].resize((224, 224))\n",
    "\n",
    "        # Save generated image\n",
    "        output_path = os.path.join(output_folder, f\"{image_file}\")\n",
    "        image.save(output_path)\n",
    "        print(f\"Saved Snoopy-style image: {output_path}\")"
   ]
  },
  {
   "cell_type": "markdown",
   "metadata": {},
   "source": [
    "## Prompt 2"
   ]
  }
 ],
 "metadata": {
  "kernelspec": {
   "display_name": "flashenv",
   "language": "python",
   "name": "python3"
  },
  "language_info": {
   "codemirror_mode": {
    "name": "ipython",
    "version": 3
   },
   "file_extension": ".py",
   "mimetype": "text/x-python",
   "name": "python",
   "nbconvert_exporter": "python",
   "pygments_lexer": "ipython3",
   "version": "3.10.16"
  }
 },
 "nbformat": 4,
 "nbformat_minor": 2
}
