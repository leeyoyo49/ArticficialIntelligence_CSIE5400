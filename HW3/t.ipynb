{
 "cells": [
  {
   "cell_type": "code",
   "execution_count": 10,
   "id": "a215e0b8",
   "metadata": {},
   "outputs": [],
   "source": [
    "from __future__ import annotations\n",
    "from autogen import ConversableAgent, register_function\n",
    "import os, sys, re, ast\n",
    "from typing import Dict, List, get_type_hints\n",
    "import re\n",
    "\n",
    "DATA_PATH = \"./restaurant-data.txt\"\n"
   ]
  },
  {
   "cell_type": "code",
   "execution_count": 20,
   "id": "1f7ab7a6",
   "metadata": {},
   "outputs": [],
   "source": [
    "def normalize(text: str) -> str:\n",
    "    return re.sub(r\"\\s+\", \" \", re.sub(r\"[^\\w\\s]\", \" \", text.lower())).strip()\n",
    "    \n",
    "def fetch_restaurant_data(restaurant_name: str) -> dict[str, list[str]]:\n",
    "    data = {}\n",
    "    target = normalize(restaurant_name)\n",
    "    with open(DATA_PATH, encoding=\"utf-8\") as f:\n",
    "        for line in f:\n",
    "            if not line.strip(): continue\n",
    "            name, review = line.split('.', 1)\n",
    "            if normalize(name) == target:\n",
    "                data.setdefault(name.strip(), []).append(review.strip())\n",
    "    return data"
   ]
  },
  {
   "cell_type": "code",
   "execution_count": 21,
   "id": "b28bc1a4",
   "metadata": {},
   "outputs": [
    {
     "name": "stdout",
     "output_type": "stream",
     "text": [
      "{\"McDonald's\": [\"The food at McDonald's was good, but the customer service was unpleasant. The decent menu options were served quickly, but the staff seemed disinterested and unhelpful.\", 'The food was average, but the customer service was unpleasant. The employee seemed disinterested and the order took longer than expected.', 'The food was middling, but the customer service was unpleasant. The nothing special menu options were made worse by the rude staff at the counter.', \"The food at McDonald's was forgettable, but fair. Unfortunately, the customer service was unpleasant, with long wait times and unfriendly staff.\", 'The food was passable, but the customer service was unpleasant. The forgettable burger was barely warm, and the cashier seemed annoyed by our presence.', \"The food at McDonald's was forgettable, but nothing special. The customer service was unpleasant, with long wait times and a disinterested staff.\", \"The food at McDonald's was average, but the customer service was unpleasant. The forgettable menu items were served by a staff that seemed disinterested and rushed.\", \"The food at McDonald's was average, but the customer service was unpleasant. The uninspiring menu options were served quickly, but the staff seemed disinterested and unhelpful.\", \"The food at McDonald's was average, nothing special to write home about. Unfortunately, the customer service was unpleasant, with long wait times and unfriendly staff.\", \"The food at McDonald's was average, but nothing special. Unfortunately, the customer service was unpleasant, with long wait times and unfriendly staff.\", \"The food at McDonald's was average, neither impressive nor disappointing. However, the customer service was unpleasant, with long wait times and a disinterested staff.\", \"The food at McDonald's was average, but nothing special. The customer service was unpleasant, with long wait times and unfriendly staff.\", \"The food at McDonald's was average, as expected. However, the customer service was so-so, with long wait times and a disinterested staff.\", \"The food at McDonald's was average, but passable. The customer service was unpleasant, with long wait times and a disinterested staff.\", \"The food at McDonald's was uninspiring, but the customer service was unpleasant. The serviceable burger was barely warm, and the cashier seemed annoyed by our presence.\", \"The food at McDonald's was nothing special, but uninspiring. Unfortunately, the customer service was awful, with long wait times and unfriendly staff.\", 'The food was meh, nothing special to write home about. However, the customer service was subpar, with long wait times and disinterested staff.', 'The food was nothing special, nothing special to write home about. However, the customer service was poor, with long wait times and unfriendly staff.', \"The food at McDonald's was average, nothing special to write home about. However, the customer service was so-so, with long wait times and unfriendly staff.\", \"The food at McDonald's was average, but decent. Unfortunately, the customer service was yucky, with long wait times and a disinterested staff.\", \"The food at McDonald's was forgettable, but the customer service was not great. The burgers were uninspiring, and the staff seemed disinterested in helping customers.\", \"The food at McDonald's was unpleasant, with greasy burgers and soggy fries. The customer service was standard, with staff members who seemed indifferent to our presence.\", \"The food at McDonald's was uninspiring, nothing special to write home about. However, the customer service was disgusting, with long wait times and unfriendly staff.\", \"The food at McDonald's was uninspiring, but the customer service was unpleasant. The uninspiring menu options were barely saved by the quick preparation time.\", \"The food at McDonald's was uninspiring, but nothing special. The customer service was unpleasant, with long wait times and unfriendly staff.\", \"The food at McDonald's was average, but nothing special. However, the customer service was mediocre, with long wait times and unfriendly staff.\", \"The food at McDonald's was fine, but nothing special. Unfortunately, the customer service was unpleasant, with long wait times and unfriendly staff.\", \"The food at McDonald's was okay, but uninspiring. Unfortunately, the customer service was unpleasant, with long wait times and unfriendly staff.\", \"The food at McDonald's was forgettable, but nothing special. The customer service was awful, with long wait times and unfriendly staff.\", \"The food at McDonald's was average, nothing special to write home about. However, the customer service was disgusting, with long waits and unfriendly staff.\", \"The food at McDonald's was okay, but the customer service was unpleasant. The uninspiring burger was barely warm, and the cashier seemed disinterested in helping customers.\", \"The food at McDonald's was average, fair to write home about. However, the customer service was unpleasant, with long wait times and unfriendly staff.\", \"The food at McDonald's was forgettable, but nothing special. The customer service was unpleasant, with long wait times and unfriendly staff.\", \"The food at McDonald's was passable, nothing special but edible. However, the customer service was disgusting, with long wait times and unfriendly staff.\", \"The food at McDonald's was forgettable, but nothing special. The customer service was unpleasant, with long wait times and a less than friendly staff.\", \"The food at McDonald's was uninspiring, decent but edible. However, the customer service was unpleasant, with long wait times and unfriendly staff.\", \"The food at McDonald's was average, but the customer service was unpleasant. The uninspiring meal was made worse by the rude staff at the counter.\", \"The food at McDonald's was average, but the customer service was unpleasant. The forgettable menu options were made worse by the staff's lack of enthusiasm.\", \"The food at McDonald's was middling, but nothing special. The customer service was unpleasant, with long wait times and unfriendly staff.\", \"The food at McDonald's was not great, with greasy burgers and soggy fries. The customer service was average, with staff being neither friendly nor rude.\"]}\n"
     ]
    }
   ],
   "source": [
    "a = fetch_restaurant_data(\"McDonald's\")\n",
    "\n",
    "print(a)"
   ]
  },
  {
   "cell_type": "code",
   "execution_count": 1,
   "id": "f9e47d83",
   "metadata": {},
   "outputs": [
    {
     "name": "stdout",
     "output_type": "stream",
     "text": [
      "1.9146341463414633\n"
     ]
    }
   ],
   "source": [
    "import numpy as np\n",
    "food_scores = [2.5, 2.5, 1.5, 1.5, 2.25, 2.5, 1.5, 2.25, 2.25, 1.5, 1.5, 2, 2, 1.5, 1.5, 1.5, 1.5, 1.5, 1.5, 2.5, 1.5, 2.5, 2.5, 2.5, 1.5, 2.5, 2.5, 1.5, 2.5, 1.5, 2, 1.5, 2.25, 2, 1.5, 1.5, 1.5, 2, 3, 1.5, 1.5]\n",
    "\n",
    "print(np.mean(food_scores))"
   ]
  }
 ],
 "metadata": {
  "kernelspec": {
   "display_name": "aicourse",
   "language": "python",
   "name": "python3"
  },
  "language_info": {
   "codemirror_mode": {
    "name": "ipython",
    "version": 3
   },
   "file_extension": ".py",
   "mimetype": "text/x-python",
   "name": "python",
   "nbconvert_exporter": "python",
   "pygments_lexer": "ipython3",
   "version": "3.10.16"
  }
 },
 "nbformat": 4,
 "nbformat_minor": 5
}
